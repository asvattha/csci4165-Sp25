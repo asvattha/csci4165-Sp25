{
 "cells": [
  {
   "cell_type": "code",
   "execution_count": 1,
   "id": "36e67cd7-a2b8-49d7-a65c-499c2686bf06",
   "metadata": {},
   "outputs": [],
   "source": [
    "import pandas as pd\n",
    "import numpy as np\n",
    "import matplotlib.pyplot as plt\n",
    "import seaborn as sns"
   ]
  },
  {
   "cell_type": "code",
   "execution_count": 2,
   "id": "24aa2327-fc77-4b85-9d2b-fad8c9503d47",
   "metadata": {},
   "outputs": [
    {
     "data": {
      "text/plain": [
       "dict_keys(['data', 'target', 'frame', 'target_names', 'DESCR', 'feature_names', 'filename', 'data_module'])"
      ]
     },
     "execution_count": 2,
     "metadata": {},
     "output_type": "execute_result"
    }
   ],
   "source": [
    "import sklearn.datasets\n",
    "data_dict = sklearn.datasets.load_breast_cancer()\n",
    "data_dict.keys()"
   ]
  },
  {
   "cell_type": "code",
   "execution_count": 3,
   "id": "b906531a-f735-4bd1-8feb-f97bfff305fd",
   "metadata": {},
   "outputs": [
    {
     "data": {
      "text/html": [
       "<div>\n",
       "<style scoped>\n",
       "    .dataframe tbody tr th:only-of-type {\n",
       "        vertical-align: middle;\n",
       "    }\n",
       "\n",
       "    .dataframe tbody tr th {\n",
       "        vertical-align: top;\n",
       "    }\n",
       "\n",
       "    .dataframe thead th {\n",
       "        text-align: right;\n",
       "    }\n",
       "</style>\n",
       "<table border=\"1\" class=\"dataframe\">\n",
       "  <thead>\n",
       "    <tr style=\"text-align: right;\">\n",
       "      <th></th>\n",
       "      <th>mean radius</th>\n",
       "      <th>mean texture</th>\n",
       "      <th>mean perimeter</th>\n",
       "      <th>mean area</th>\n",
       "      <th>mean smoothness</th>\n",
       "      <th>mean compactness</th>\n",
       "      <th>mean concavity</th>\n",
       "      <th>mean concave points</th>\n",
       "      <th>mean symmetry</th>\n",
       "      <th>mean fractal dimension</th>\n",
       "      <th>...</th>\n",
       "      <th>worst radius</th>\n",
       "      <th>worst texture</th>\n",
       "      <th>worst perimeter</th>\n",
       "      <th>worst area</th>\n",
       "      <th>worst smoothness</th>\n",
       "      <th>worst compactness</th>\n",
       "      <th>worst concavity</th>\n",
       "      <th>worst concave points</th>\n",
       "      <th>worst symmetry</th>\n",
       "      <th>worst fractal dimension</th>\n",
       "    </tr>\n",
       "  </thead>\n",
       "  <tbody>\n",
       "    <tr>\n",
       "      <th>0</th>\n",
       "      <td>17.99</td>\n",
       "      <td>10.38</td>\n",
       "      <td>122.80</td>\n",
       "      <td>1001.0</td>\n",
       "      <td>0.11840</td>\n",
       "      <td>0.27760</td>\n",
       "      <td>0.3001</td>\n",
       "      <td>0.14710</td>\n",
       "      <td>0.2419</td>\n",
       "      <td>0.07871</td>\n",
       "      <td>...</td>\n",
       "      <td>25.38</td>\n",
       "      <td>17.33</td>\n",
       "      <td>184.60</td>\n",
       "      <td>2019.0</td>\n",
       "      <td>0.1622</td>\n",
       "      <td>0.6656</td>\n",
       "      <td>0.7119</td>\n",
       "      <td>0.2654</td>\n",
       "      <td>0.4601</td>\n",
       "      <td>0.11890</td>\n",
       "    </tr>\n",
       "    <tr>\n",
       "      <th>1</th>\n",
       "      <td>20.57</td>\n",
       "      <td>17.77</td>\n",
       "      <td>132.90</td>\n",
       "      <td>1326.0</td>\n",
       "      <td>0.08474</td>\n",
       "      <td>0.07864</td>\n",
       "      <td>0.0869</td>\n",
       "      <td>0.07017</td>\n",
       "      <td>0.1812</td>\n",
       "      <td>0.05667</td>\n",
       "      <td>...</td>\n",
       "      <td>24.99</td>\n",
       "      <td>23.41</td>\n",
       "      <td>158.80</td>\n",
       "      <td>1956.0</td>\n",
       "      <td>0.1238</td>\n",
       "      <td>0.1866</td>\n",
       "      <td>0.2416</td>\n",
       "      <td>0.1860</td>\n",
       "      <td>0.2750</td>\n",
       "      <td>0.08902</td>\n",
       "    </tr>\n",
       "    <tr>\n",
       "      <th>2</th>\n",
       "      <td>19.69</td>\n",
       "      <td>21.25</td>\n",
       "      <td>130.00</td>\n",
       "      <td>1203.0</td>\n",
       "      <td>0.10960</td>\n",
       "      <td>0.15990</td>\n",
       "      <td>0.1974</td>\n",
       "      <td>0.12790</td>\n",
       "      <td>0.2069</td>\n",
       "      <td>0.05999</td>\n",
       "      <td>...</td>\n",
       "      <td>23.57</td>\n",
       "      <td>25.53</td>\n",
       "      <td>152.50</td>\n",
       "      <td>1709.0</td>\n",
       "      <td>0.1444</td>\n",
       "      <td>0.4245</td>\n",
       "      <td>0.4504</td>\n",
       "      <td>0.2430</td>\n",
       "      <td>0.3613</td>\n",
       "      <td>0.08758</td>\n",
       "    </tr>\n",
       "    <tr>\n",
       "      <th>3</th>\n",
       "      <td>11.42</td>\n",
       "      <td>20.38</td>\n",
       "      <td>77.58</td>\n",
       "      <td>386.1</td>\n",
       "      <td>0.14250</td>\n",
       "      <td>0.28390</td>\n",
       "      <td>0.2414</td>\n",
       "      <td>0.10520</td>\n",
       "      <td>0.2597</td>\n",
       "      <td>0.09744</td>\n",
       "      <td>...</td>\n",
       "      <td>14.91</td>\n",
       "      <td>26.50</td>\n",
       "      <td>98.87</td>\n",
       "      <td>567.7</td>\n",
       "      <td>0.2098</td>\n",
       "      <td>0.8663</td>\n",
       "      <td>0.6869</td>\n",
       "      <td>0.2575</td>\n",
       "      <td>0.6638</td>\n",
       "      <td>0.17300</td>\n",
       "    </tr>\n",
       "    <tr>\n",
       "      <th>4</th>\n",
       "      <td>20.29</td>\n",
       "      <td>14.34</td>\n",
       "      <td>135.10</td>\n",
       "      <td>1297.0</td>\n",
       "      <td>0.10030</td>\n",
       "      <td>0.13280</td>\n",
       "      <td>0.1980</td>\n",
       "      <td>0.10430</td>\n",
       "      <td>0.1809</td>\n",
       "      <td>0.05883</td>\n",
       "      <td>...</td>\n",
       "      <td>22.54</td>\n",
       "      <td>16.67</td>\n",
       "      <td>152.20</td>\n",
       "      <td>1575.0</td>\n",
       "      <td>0.1374</td>\n",
       "      <td>0.2050</td>\n",
       "      <td>0.4000</td>\n",
       "      <td>0.1625</td>\n",
       "      <td>0.2364</td>\n",
       "      <td>0.07678</td>\n",
       "    </tr>\n",
       "  </tbody>\n",
       "</table>\n",
       "<p>5 rows × 30 columns</p>\n",
       "</div>"
      ],
      "text/plain": [
       "   mean radius  mean texture  mean perimeter  mean area  mean smoothness  \\\n",
       "0        17.99         10.38          122.80     1001.0          0.11840   \n",
       "1        20.57         17.77          132.90     1326.0          0.08474   \n",
       "2        19.69         21.25          130.00     1203.0          0.10960   \n",
       "3        11.42         20.38           77.58      386.1          0.14250   \n",
       "4        20.29         14.34          135.10     1297.0          0.10030   \n",
       "\n",
       "   mean compactness  mean concavity  mean concave points  mean symmetry  \\\n",
       "0           0.27760          0.3001              0.14710         0.2419   \n",
       "1           0.07864          0.0869              0.07017         0.1812   \n",
       "2           0.15990          0.1974              0.12790         0.2069   \n",
       "3           0.28390          0.2414              0.10520         0.2597   \n",
       "4           0.13280          0.1980              0.10430         0.1809   \n",
       "\n",
       "   mean fractal dimension  ...  worst radius  worst texture  worst perimeter  \\\n",
       "0                 0.07871  ...         25.38          17.33           184.60   \n",
       "1                 0.05667  ...         24.99          23.41           158.80   \n",
       "2                 0.05999  ...         23.57          25.53           152.50   \n",
       "3                 0.09744  ...         14.91          26.50            98.87   \n",
       "4                 0.05883  ...         22.54          16.67           152.20   \n",
       "\n",
       "   worst area  worst smoothness  worst compactness  worst concavity  \\\n",
       "0      2019.0            0.1622             0.6656           0.7119   \n",
       "1      1956.0            0.1238             0.1866           0.2416   \n",
       "2      1709.0            0.1444             0.4245           0.4504   \n",
       "3       567.7            0.2098             0.8663           0.6869   \n",
       "4      1575.0            0.1374             0.2050           0.4000   \n",
       "\n",
       "   worst concave points  worst symmetry  worst fractal dimension  \n",
       "0                0.2654          0.4601                  0.11890  \n",
       "1                0.1860          0.2750                  0.08902  \n",
       "2                0.2430          0.3613                  0.08758  \n",
       "3                0.2575          0.6638                  0.17300  \n",
       "4                0.1625          0.2364                  0.07678  \n",
       "\n",
       "[5 rows x 30 columns]"
      ]
     },
     "execution_count": 3,
     "metadata": {},
     "output_type": "execute_result"
    }
   ],
   "source": [
    "data = pd.DataFrame(data_dict['data'], columns=data_dict['feature_names'])\n",
    "data.head()"
   ]
  },
  {
   "cell_type": "code",
   "execution_count": 4,
   "id": "9382a669-e34b-4c52-9234-e01dcb3cef4e",
   "metadata": {},
   "outputs": [
    {
     "data": {
      "text/plain": [
       "(569, 30)"
      ]
     },
     "execution_count": 4,
     "metadata": {},
     "output_type": "execute_result"
    }
   ],
   "source": [
    "data.shape"
   ]
  },
  {
   "cell_type": "code",
   "execution_count": 5,
   "id": "ab0d6872-3f17-4c14-a188-d91578c43d77",
   "metadata": {},
   "outputs": [
    {
     "data": {
      "text/plain": [
       "(569,)"
      ]
     },
     "execution_count": 5,
     "metadata": {},
     "output_type": "execute_result"
    }
   ],
   "source": [
    "data_dict['target'].shape"
   ]
  },
  {
   "cell_type": "code",
   "execution_count": 6,
   "id": "9b1cbbb2-49b2-40fb-a535-59b616ac5371",
   "metadata": {},
   "outputs": [
    {
     "data": {
      "text/plain": [
       "array([1, 1, 0, 1, 1, 0, 1, 1, 0, 1])"
      ]
     },
     "execution_count": 6,
     "metadata": {},
     "output_type": "execute_result"
    }
   ],
   "source": [
    "np.random.choice(data_dict['target'], 10) # 0 is for malignant and 1 is for benign"
   ]
  },
  {
   "cell_type": "code",
   "execution_count": 7,
   "id": "964fc9e8-b138-43d0-853f-e81505a8e023",
   "metadata": {},
   "outputs": [],
   "source": [
    "data['isMalignant'] = data_dict['target'] == 0"
   ]
  },
  {
   "cell_type": "code",
   "execution_count": 8,
   "id": "c8d0b9ea-86ae-4dcb-a9e5-3ad35993d58b",
   "metadata": {},
   "outputs": [
    {
     "data": {
      "text/plain": [
       "Index(['mean radius', 'mean texture', 'mean perimeter', 'mean area',\n",
       "       'mean smoothness', 'mean compactness', 'mean concavity',\n",
       "       'mean concave points', 'mean symmetry', 'mean fractal dimension',\n",
       "       'radius error', 'texture error', 'perimeter error', 'area error',\n",
       "       'smoothness error', 'compactness error', 'concavity error',\n",
       "       'concave points error', 'symmetry error', 'fractal dimension error',\n",
       "       'worst radius', 'worst texture', 'worst perimeter', 'worst area',\n",
       "       'worst smoothness', 'worst compactness', 'worst concavity',\n",
       "       'worst concave points', 'worst symmetry', 'worst fractal dimension',\n",
       "       'isMalignant'],\n",
       "      dtype='object')"
      ]
     },
     "execution_count": 8,
     "metadata": {},
     "output_type": "execute_result"
    }
   ],
   "source": [
    "data.columns"
   ]
  },
  {
   "cell_type": "markdown",
   "id": "12662ccd-4881-42ba-acd4-1bb5b565f04c",
   "metadata": {},
   "source": [
    "### Feature Selection\n",
    "\n",
    "What features could be good for our classifier? \n",
    "\n",
    "- A good approach would be to gain some domain knowledge about each of this features,\n",
    "- Explore each feature (such as correlation between features and(or) label)\n",
    "- Use cross-validation to find the best features. \n",
    "\n",
    "Here, a good starting point could be the size of the tumor (`mean radius`). As, larger tumors are probably more likely to be malignant. "
   ]
  },
  {
   "cell_type": "code",
   "execution_count": 9,
   "id": "d83c3ebb-9c1e-418e-93e9-08bc83fd9dc5",
   "metadata": {},
   "outputs": [
    {
     "data": {
      "text/plain": [
       "<matplotlib.collections.PathCollection at 0x7fe20d7788f0>"
      ]
     },
     "execution_count": 9,
     "metadata": {},
     "output_type": "execute_result"
    },
    {
     "data": {
      "image/png": "[encoded data removed]",
      "text/plain": [
       "<Figure size 640x480 with 1 Axes>"
      ]
     },
     "metadata": {},
     "output_type": "display_data"
    }
   ],
   "source": [
    "x = data['mean radius']\n",
    "y = data['isMalignant']\n",
    "plt.scatter(x, y)"
   ]
  },
  {
   "cell_type": "markdown",
   "id": "fae7c04a-1a09-41d2-a553-8105ebd5e971",
   "metadata": {},
   "source": [
    "Since lots of points are plotted on top of each other, it's hard ot see how the values are distributed. We can add some jitter, transparency to see the points. "
   ]
  },
  {
   "cell_type": "code",
   "execution_count": 10,
   "id": "32e5505d-8461-47f8-ad05-f98a9f4a7725",
   "metadata": {},
   "outputs": [],
   "source": [
    "def jitter(data, offset=0.1):\n",
    "    return data + offset * np.random.rand(len(data)) - offset/2.0"
   ]
  },
  {
   "cell_type": "code",
   "execution_count": 11,
   "id": "eb36e420-a968-49e2-875a-b8540f487661",
   "metadata": {},
   "outputs": [
    {
     "data": {
      "image/png": "[encoded data removed]",
      "text/plain": [
       "<Figure size 640x480 with 1 Axes>"
      ]
     },
     "metadata": {},
     "output_type": "display_data"
    }
   ],
   "source": [
    "x = data['mean radius']\n",
    "y = jitter(data['isMalignant'])\n",
    "plt.scatter(x, y, alpha=0.5, s=0.5)\n",
    "plt.grid()\n",
    "plt.show()"
   ]
  },
  {
   "cell_type": "code",
   "execution_count": 12,
   "id": "a590c4b7-854e-435c-9c3b-21cd9700763c",
   "metadata": {},
   "outputs": [
    {
     "data": {
      "image/png": "[encoded data removed]",
      "text/plain": [
       "<Figure size 640x480 with 1 Axes>"
      ]
     },
     "metadata": {},
     "output_type": "display_data"
    }
   ],
   "source": [
    "sns.histplot(data, x='mean radius', binwidth=0.5, stat='density', kde=True, hue='isMalignant')\n",
    "plt.show()"
   ]
  },
  {
   "cell_type": "markdown",
   "id": "ddc90e47-ae0b-40dd-af01-ed0190aabdb6",
   "metadata": {},
   "source": [
    "What can you deduce from the histogram above?"
   ]
  },
  {
   "cell_type": "markdown",
   "id": "4b113801-f6d6-4517-9a3f-4d9d11a87c0d",
   "metadata": {},
   "source": [
    "### Train-test split"
   ]
  },
  {
   "cell_type": "code",
   "execution_count": 13,
   "id": "608974a4-e95a-419a-a3da-80bebd1dd303",
   "metadata": {},
   "outputs": [
    {
     "name": "stdout",
     "output_type": "stream",
     "text": [
      "Training Data Size:  512\n",
      "Test Data Size:  57\n"
     ]
    }
   ],
   "source": [
    "from sklearn.model_selection import train_test_split\n",
    "data_tr, data_te = train_test_split(data, test_size=0.10, random_state=42)\n",
    "print(\"Training Data Size: \", len(data_tr))\n",
    "print(\"Test Data Size: \", len(data_te))"
   ]
  },
  {
   "cell_type": "code",
   "execution_count": 14,
   "id": "072fda32-1fbb-4771-a50d-e4548db43afa",
   "metadata": {},
   "outputs": [],
   "source": [
    "tr_X = data_tr[['mean radius']].to_numpy()\n",
    "tr_y = data_tr['isMalignant'].to_numpy()"
   ]
  },
  {
   "cell_type": "code",
   "execution_count": 15,
   "id": "ad1ee8aa-6007-4e6f-a49d-01edecb6f797",
   "metadata": {},
   "outputs": [],
   "source": [
    "te_X = data_te[['mean radius']].to_numpy()\n",
    "te_y = data_te['isMalignant'].to_numpy()"
   ]
  },
  {
   "cell_type": "code",
   "execution_count": 16,
   "id": "adf53a75-0bc4-4865-bfee-86e91568a237",
   "metadata": {},
   "outputs": [
    {
     "data": {
      "text/plain": [
       "((512, 1), (512,))"
      ]
     },
     "execution_count": 16,
     "metadata": {},
     "output_type": "execute_result"
    }
   ],
   "source": [
    "tr_X.shape, tr_y.shape"
   ]
  },
  {
   "cell_type": "code",
   "execution_count": 17,
   "id": "b04571c6-1834-43e7-8bda-e027a8ab1cdb",
   "metadata": {},
   "outputs": [
    {
     "data": {
      "text/plain": [
       "((57, 1), (57,))"
      ]
     },
     "execution_count": 17,
     "metadata": {},
     "output_type": "execute_result"
    }
   ],
   "source": [
    "te_X.shape, te_y.shape"
   ]
  },
  {
   "cell_type": "code",
   "execution_count": 18,
   "id": "3c3c63a3-f6be-4bc0-8fdb-3471f431dfee",
   "metadata": {},
   "outputs": [],
   "source": [
    "from sklearn.linear_model import LinearRegression"
   ]
  },
  {
   "cell_type": "code",
   "execution_count": 19,
   "id": "a519290e-c6c8-480a-8fa9-17162ddd214f",
   "metadata": {},
   "outputs": [
    {
     "data": {
      "text/html": [
       "<style>#sk-container-id-1 {\n",
       "  /* Definition of color scheme common for light and dark mode */\n",
       "  --sklearn-color-text: #000;\n",
       "  --sklearn-color-text-muted: #666;\n",
       "  --sklearn-color-line: gray;\n",
       "  /* Definition of color scheme for unfitted estimators */\n",
       "  --sklearn-color-unfitted-level-0: #fff5e6;\n",
       "  --sklearn-color-unfitted-level-1: #f6e4d2;\n",
       "  --sklearn-color-unfitted-level-2: #ffe0b3;\n",
       "  --sklearn-color-unfitted-level-3: chocolate;\n",
       "  /* Definition of color scheme for fitted estimators */\n",
       "  --sklearn-color-fitted-level-0: #f0f8ff;\n",
       "  --sklearn-color-fitted-level-1: #d4ebff;\n",
       "  --sklearn-color-fitted-level-2: #b3dbfd;\n",
       "  --sklearn-color-fitted-level-3: cornflowerblue;\n",
       "\n",
       "  /* Specific color for light theme */\n",
       "  --sklearn-color-text-on-default-background: var(--sg-text-color, var(--theme-code-foreground, var(--jp-content-font-color1, black)));\n",
       "  --sklearn-color-background: var(--sg-background-color, var(--theme-background, var(--jp-layout-color0, white)));\n",
       "  --sklearn-color-border-box: var(--sg-text-color, var(--theme-code-foreground, var(--jp-content-font-color1, black)));\n",
       "  --sklearn-color-icon: #696969;\n",
       "\n",
       "  @media (prefers-color-scheme: dark) {\n",
       "    /* Redefinition of color scheme for dark theme */\n",
       "    --sklearn-color-text-on-default-background: var(--sg-text-color, var(--theme-code-foreground, var(--jp-content-font-color1, white)));\n",
       "    --sklearn-color-background: var(--sg-background-color, var(--theme-background, var(--jp-layout-color0, #111)));\n",
       "    --sklearn-color-border-box: var(--sg-text-color, var(--theme-code-foreground, var(--jp-content-font-color1, white)));\n",
       "    --sklearn-color-icon: #878787;\n",
       "  }\n",
       "}\n",
       "\n",
       "#sk-container-id-1 {\n",
       "  color: var(--sklearn-color-text);\n",
       "}\n",
       "\n",
       "#sk-container-id-1 pre {\n",
       "  padding: 0;\n",
       "}\n",
       "\n",
       "#sk-container-id-1 input.sk-hidden--visually {\n",
       "  border: 0;\n",
       "  clip: rect(1px 1px 1px 1px);\n",
       "  clip: rect(1px, 1px, 1px, 1px);\n",
       "  height: 1px;\n",
       "  margin: -1px;\n",
       "  overflow: hidden;\n",
       "  padding: 0;\n",
       "  position: absolute;\n",
       "  width: 1px;\n",
       "}\n",
       "\n",
       "#sk-container-id-1 div.sk-dashed-wrapped {\n",
       "  border: 1px dashed var(--sklearn-color-line);\n",
       "  margin: 0 0.4em 0.5em 0.4em;\n",
       "  box-sizing: border-box;\n",
       "  padding-bottom: 0.4em;\n",
       "  background-color: var(--sklearn-color-background);\n",
       "}\n",
       "\n",
       "#sk-container-id-1 div.sk-container {\n",
       "  /* jupyter's `normalize.less` sets `[hidden] { display: none; }`\n",
       "     but bootstrap.min.css set `[hidden] { display: none !important; }`\n",
       "     so we also need the `!important` here to be able to override the\n",
       "     default hidden behavior on the sphinx rendered scikit-learn.org.\n",
       "     See: https://github.com/scikit-learn/scikit-learn/issues/21755 */\n",
       "  display: inline-block !important;\n",
       "  position: relative;\n",
       "}\n",
       "\n",
       "#sk-container-id-1 div.sk-text-repr-fallback {\n",
       "  display: none;\n",
       "}\n",
       "\n",
       "div.sk-parallel-item,\n",
       "div.sk-serial,\n",
       "div.sk-item {\n",
       "  /* draw centered vertical line to link estimators */\n",
       "  background-image: linear-gradient(var(--sklearn-color-text-on-default-background), var(--sklearn-color-text-on-default-background));\n",
       "  background-size: 2px 100%;\n",
       "  background-repeat: no-repeat;\n",
       "  background-position: center center;\n",
       "}\n",
       "\n",
       "/* Parallel-specific style estimator block */\n",
       "\n",
       "#sk-container-id-1 div.sk-parallel-item::after {\n",
       "  content: \"\";\n",
       "  width: 100%;\n",
       "  border-bottom: 2px solid var(--sklearn-color-text-on-default-background);\n",
       "  flex-grow: 1;\n",
       "}\n",
       "\n",
       "#sk-container-id-1 div.sk-parallel {\n",
       "  display: flex;\n",
       "  align-items: stretch;\n",
       "  justify-content: center;\n",
       "  background-color: var(--sklearn-color-background);\n",
       "  position: relative;\n",
       "}\n",
       "\n",
       "#sk-container-id-1 div.sk-parallel-item {\n",
       "  display: flex;\n",
       "  flex-direction: column;\n",
       "}\n",
       "\n",
       "#sk-container-id-1 div.sk-parallel-item:first-child::after {\n",
       "  align-self: flex-end;\n",
       "  width: 50%;\n",
       "}\n",
       "\n",
       "#sk-container-id-1 div.sk-parallel-item:last-child::after {\n",
       "  align-self: flex-start;\n",
       "  width: 50%;\n",
       "}\n",
       "\n",
       "#sk-container-id-1 div.sk-parallel-item:only-child::after {\n",
       "  width: 0;\n",
       "}\n",
       "\n",
       "/* Serial-specific style estimator block */\n",
       "\n",
       "#sk-container-id-1 div.sk-serial {\n",
       "  display: flex;\n",
       "  flex-direction: column;\n",
       "  align-items: center;\n",
       "  background-color: var(--sklearn-color-background);\n",
       "  padding-right: 1em;\n",
       "  padding-left: 1em;\n",
       "}\n",
       "\n",
       "\n",
       "/* Toggleable style: style used for estimator/Pipeline/ColumnTransformer box that is\n",
       "clickable and can be expanded/collapsed.\n",
       "- Pipeline and ColumnTransformer use this feature and define the default style\n",
       "- Estimators will overwrite some part of the style using the `sk-estimator` class\n",
       "*/\n",
       "\n",
       "/* Pipeline and ColumnTransformer style (default) */\n",
       "\n",
       "#sk-container-id-1 div.sk-toggleable {\n",
       "  /* Default theme specific background. It is overwritten whether we have a\n",
       "  specific estimator or a Pipeline/ColumnTransformer */\n",
       "  background-color: var(--sklearn-color-background);\n",
       "}\n",
       "\n",
       "/* Toggleable label */\n",
       "#sk-container-id-1 label.sk-toggleable__label {\n",
       "  cursor: pointer;\n",
       "  display: flex;\n",
       "  width: 100%;\n",
       "  margin-bottom: 0;\n",
       "  padding: 0.5em;\n",
       "  box-sizing: border-box;\n",
       "  text-align: center;\n",
       "  align-items: start;\n",
       "  justify-content: space-between;\n",
       "  gap: 0.5em;\n",
       "}\n",
       "\n",
       "#sk-container-id-1 label.sk-toggleable__label .caption {\n",
       "  font-size: 0.6rem;\n",
       "  font-weight: lighter;\n",
       "  color: var(--sklearn-color-text-muted);\n",
       "}\n",
       "\n",
       "#sk-container-id-1 label.sk-toggleable__label-arrow:before {\n",
       "  /* Arrow on the left of the label */\n",
       "  content: \"▸\";\n",
       "  float: left;\n",
       "  margin-right: 0.25em;\n",
       "  color: var(--sklearn-color-icon);\n",
       "}\n",
       "\n",
       "#sk-container-id-1 label.sk-toggleable__label-arrow:hover:before {\n",
       "  color: var(--sklearn-color-text);\n",
       "}\n",
       "\n",
       "/* Toggleable content - dropdown */\n",
       "\n",
       "#sk-container-id-1 div.sk-toggleable__content {\n",
       "  max-height: 0;\n",
       "  max-width: 0;\n",
       "  overflow: hidden;\n",
       "  text-align: left;\n",
       "  /* unfitted */\n",
       "  background-color: var(--sklearn-color-unfitted-level-0);\n",
       "}\n",
       "\n",
       "#sk-container-id-1 div.sk-toggleable__content.fitted {\n",
       "  /* fitted */\n",
       "  background-color: var(--sklearn-color-fitted-level-0);\n",
       "}\n",
       "\n",
       "#sk-container-id-1 div.sk-toggleable__content pre {\n",
       "  margin: 0.2em;\n",
       "  border-radius: 0.25em;\n",
       "  color: var(--sklearn-color-text);\n",
       "  /* unfitted */\n",
       "  background-color: var(--sklearn-color-unfitted-level-0);\n",
       "}\n",
       "\n",
       "#sk-container-id-1 div.sk-toggleable__content.fitted pre {\n",
       "  /* unfitted */\n",
       "  background-color: var(--sklearn-color-fitted-level-0);\n",
       "}\n",
       "\n",
       "#sk-container-id-1 input.sk-toggleable__control:checked~div.sk-toggleable__content {\n",
       "  /* Expand drop-down */\n",
       "  max-height: 200px;\n",
       "  max-width: 100%;\n",
       "  overflow: auto;\n",
       "}\n",
       "\n",
       "#sk-container-id-1 input.sk-toggleable__control:checked~label.sk-toggleable__label-arrow:before {\n",
       "  content: \"▾\";\n",
       "}\n",
       "\n",
       "/* Pipeline/ColumnTransformer-specific style */\n",
       "\n",
       "#sk-container-id-1 div.sk-label input.sk-toggleable__control:checked~label.sk-toggleable__label {\n",
       "  color: var(--sklearn-color-text);\n",
       "  background-color: var(--sklearn-color-unfitted-level-2);\n",
       "}\n",
       "\n",
       "#sk-container-id-1 div.sk-label.fitted input.sk-toggleable__control:checked~label.sk-toggleable__label {\n",
       "  background-color: var(--sklearn-color-fitted-level-2);\n",
       "}\n",
       "\n",
       "/* Estimator-specific style */\n",
       "\n",
       "/* Colorize estimator box */\n",
       "#sk-container-id-1 div.sk-estimator input.sk-toggleable__control:checked~label.sk-toggleable__label {\n",
       "  /* unfitted */\n",
       "  background-color: var(--sklearn-color-unfitted-level-2);\n",
       "}\n",
       "\n",
       "#sk-container-id-1 div.sk-estimator.fitted input.sk-toggleable__control:checked~label.sk-toggleable__label {\n",
       "  /* fitted */\n",
       "  background-color: var(--sklearn-color-fitted-level-2);\n",
       "}\n",
       "\n",
       "#sk-container-id-1 div.sk-label label.sk-toggleable__label,\n",
       "#sk-container-id-1 div.sk-label label {\n",
       "  /* The background is the default theme color */\n",
       "  color: var(--sklearn-color-text-on-default-background);\n",
       "}\n",
       "\n",
       "/* On hover, darken the color of the background */\n",
       "#sk-container-id-1 div.sk-label:hover label.sk-toggleable__label {\n",
       "  color: var(--sklearn-color-text);\n",
       "  background-color: var(--sklearn-color-unfitted-level-2);\n",
       "}\n",
       "\n",
       "/* Label box, darken color on hover, fitted */\n",
       "#sk-container-id-1 div.sk-label.fitted:hover label.sk-toggleable__label.fitted {\n",
       "  color: var(--sklearn-color-text);\n",
       "  background-color: var(--sklearn-color-fitted-level-2);\n",
       "}\n",
       "\n",
       "/* Estimator label */\n",
       "\n",
       "#sk-container-id-1 div.sk-label label {\n",
       "  font-family: monospace;\n",
       "  font-weight: bold;\n",
       "  display: inline-block;\n",
       "  line-height: 1.2em;\n",
       "}\n",
       "\n",
       "#sk-container-id-1 div.sk-label-container {\n",
       "  text-align: center;\n",
       "}\n",
       "\n",
       "/* Estimator-specific */\n",
       "#sk-container-id-1 div.sk-estimator {\n",
       "  font-family: monospace;\n",
       "  border: 1px dotted var(--sklearn-color-border-box);\n",
       "  border-radius: 0.25em;\n",
       "  box-sizing: border-box;\n",
       "  margin-bottom: 0.5em;\n",
       "  /* unfitted */\n",
       "  background-color: var(--sklearn-color-unfitted-level-0);\n",
       "}\n",
       "\n",
       "#sk-container-id-1 div.sk-estimator.fitted {\n",
       "  /* fitted */\n",
       "  background-color: var(--sklearn-color-fitted-level-0);\n",
       "}\n",
       "\n",
       "/* on hover */\n",
       "#sk-container-id-1 div.sk-estimator:hover {\n",
       "  /* unfitted */\n",
       "  background-color: var(--sklearn-color-unfitted-level-2);\n",
       "}\n",
       "\n",
       "#sk-container-id-1 div.sk-estimator.fitted:hover {\n",
       "  /* fitted */\n",
       "  background-color: var(--sklearn-color-fitted-level-2);\n",
       "}\n",
       "\n",
       "/* Specification for estimator info (e.g. \"i\" and \"?\") */\n",
       "\n",
       "/* Common style for \"i\" and \"?\" */\n",
       "\n",
       ".sk-estimator-doc-link,\n",
       "a:link.sk-estimator-doc-link,\n",
       "a:visited.sk-estimator-doc-link {\n",
       "  float: right;\n",
       "  font-size: smaller;\n",
       "  line-height: 1em;\n",
       "  font-family: monospace;\n",
       "  background-color: var(--sklearn-color-background);\n",
       "  border-radius: 1em;\n",
       "  height: 1em;\n",
       "  width: 1em;\n",
       "  text-decoration: none !important;\n",
       "  margin-left: 0.5em;\n",
       "  text-align: center;\n",
       "  /* unfitted */\n",
       "  border: var(--sklearn-color-unfitted-level-1) 1pt solid;\n",
       "  color: var(--sklearn-color-unfitted-level-1);\n",
       "}\n",
       "\n",
       ".sk-estimator-doc-link.fitted,\n",
       "a:link.sk-estimator-doc-link.fitted,\n",
       "a:visited.sk-estimator-doc-link.fitted {\n",
       "  /* fitted */\n",
       "  border: var(--sklearn-color-fitted-level-1) 1pt solid;\n",
       "  color: var(--sklearn-color-fitted-level-1);\n",
       "}\n",
       "\n",
       "/* On hover */\n",
       "div.sk-estimator:hover .sk-estimator-doc-link:hover,\n",
       ".sk-estimator-doc-link:hover,\n",
       "div.sk-label-container:hover .sk-estimator-doc-link:hover,\n",
       ".sk-estimator-doc-link:hover {\n",
       "  /* unfitted */\n",
       "  background-color: var(--sklearn-color-unfitted-level-3);\n",
       "  color: var(--sklearn-color-background);\n",
       "  text-decoration: none;\n",
       "}\n",
       "\n",
       "div.sk-estimator.fitted:hover .sk-estimator-doc-link.fitted:hover,\n",
       ".sk-estimator-doc-link.fitted:hover,\n",
       "div.sk-label-container:hover .sk-estimator-doc-link.fitted:hover,\n",
       ".sk-estimator-doc-link.fitted:hover {\n",
       "  /* fitted */\n",
       "  background-color: var(--sklearn-color-fitted-level-3);\n",
       "  color: var(--sklearn-color-background);\n",
       "  text-decoration: none;\n",
       "}\n",
       "\n",
       "/* Span, style for the box shown on hovering the info icon */\n",
       ".sk-estimator-doc-link span {\n",
       "  display: none;\n",
       "  z-index: 9999;\n",
       "  position: relative;\n",
       "  font-weight: normal;\n",
       "  right: .2ex;\n",
       "  padding: .5ex;\n",
       "  margin: .5ex;\n",
       "  width: min-content;\n",
       "  min-width: 20ex;\n",
       "  max-width: 50ex;\n",
       "  color: var(--sklearn-color-text);\n",
       "  box-shadow: 2pt 2pt 4pt #999;\n",
       "  /* unfitted */\n",
       "  background: var(--sklearn-color-unfitted-level-0);\n",
       "  border: .5pt solid var(--sklearn-color-unfitted-level-3);\n",
       "}\n",
       "\n",
       ".sk-estimator-doc-link.fitted span {\n",
       "  /* fitted */\n",
       "  background: var(--sklearn-color-fitted-level-0);\n",
       "  border: var(--sklearn-color-fitted-level-3);\n",
       "}\n",
       "\n",
       ".sk-estimator-doc-link:hover span {\n",
       "  display: block;\n",
       "}\n",
       "\n",
       "/* \"?\"-specific style due to the `<a>` HTML tag */\n",
       "\n",
       "#sk-container-id-1 a.estimator_doc_link {\n",
       "  float: right;\n",
       "  font-size: 1rem;\n",
       "  line-height: 1em;\n",
       "  font-family: monospace;\n",
       "  background-color: var(--sklearn-color-background);\n",
       "  border-radius: 1rem;\n",
       "  height: 1rem;\n",
       "  width: 1rem;\n",
       "  text-decoration: none;\n",
       "  /* unfitted */\n",
       "  color: var(--sklearn-color-unfitted-level-1);\n",
       "  border: var(--sklearn-color-unfitted-level-1) 1pt solid;\n",
       "}\n",
       "\n",
       "#sk-container-id-1 a.estimator_doc_link.fitted {\n",
       "  /* fitted */\n",
       "  border: var(--sklearn-color-fitted-level-1) 1pt solid;\n",
       "  color: var(--sklearn-color-fitted-level-1);\n",
       "}\n",
       "\n",
       "/* On hover */\n",
       "#sk-container-id-1 a.estimator_doc_link:hover {\n",
       "  /* unfitted */\n",
       "  background-color: var(--sklearn-color-unfitted-level-3);\n",
       "  color: var(--sklearn-color-background);\n",
       "  text-decoration: none;\n",
       "}\n",
       "\n",
       "#sk-container-id-1 a.estimator_doc_link.fitted:hover {\n",
       "  /* fitted */\n",
       "  background-color: var(--sklearn-color-fitted-level-3);\n",
       "}\n",
       "</style><div id=\"sk-container-id-1\" class=\"sk-top-container\"><div class=\"sk-text-repr-fallback\"><pre>LinearRegression()</pre><b>In a Jupyter environment, please rerun this cell to show the HTML representation or trust the notebook. <br />On GitHub, the HTML representation is unable to render, please try loading this page with nbviewer.org.</b></div><div class=\"sk-container\" hidden><div class=\"sk-item\"><div class=\"sk-estimator fitted sk-toggleable\"><input class=\"sk-toggleable__control sk-hidden--visually\" id=\"sk-estimator-id-1\" type=\"checkbox\" checked><label for=\"sk-estimator-id-1\" class=\"sk-toggleable__label fitted sk-toggleable__label-arrow\"><div><div>LinearRegression</div></div><div><a class=\"sk-estimator-doc-link fitted\" rel=\"noreferrer\" target=\"_blank\" href=\"https://scikit-learn.org/1.6/modules/generated/sklearn.linear_model.LinearRegression.html\">?<span>Documentation for LinearRegression</span></a><span class=\"sk-estimator-doc-link fitted\">i<span>Fitted</span></span></div></label><div class=\"sk-toggleable__content fitted\"><pre>LinearRegression()</pre></div> </div></div></div></div>"
      ],
      "text/plain": [
       "LinearRegression()"
      ]
     },
     "execution_count": 19,
     "metadata": {},
     "output_type": "execute_result"
    }
   ],
   "source": [
    "lin_reg = LinearRegression()\n",
    "lin_reg.fit(tr_X, tr_y)"
   ]
  },
  {
   "cell_type": "code",
   "execution_count": 20,
   "id": "7ad57520-e44d-49d0-a81b-75a56e7d102b",
   "metadata": {},
   "outputs": [
    {
     "data": {
      "text/plain": [
       "(array([0.09876376]), np.float64(-1.0188425819755598))"
      ]
     },
     "execution_count": 20,
     "metadata": {},
     "output_type": "execute_result"
    }
   ],
   "source": [
    "lin_reg.coef_, lin_reg.intercept_"
   ]
  },
  {
   "cell_type": "code",
   "execution_count": 21,
   "id": "0d45fcca-8c42-4724-b6ef-affafb522d08",
   "metadata": {},
   "outputs": [
    {
     "data": {
      "text/plain": [
       "(512,)"
      ]
     },
     "execution_count": 21,
     "metadata": {},
     "output_type": "execute_result"
    }
   ],
   "source": [
    "tr_X[:,0].shape"
   ]
  },
  {
   "cell_type": "code",
   "execution_count": 22,
   "id": "e387b9b6-78ba-44bd-b99c-8794e865a70f",
   "metadata": {},
   "outputs": [
    {
     "data": {
      "image/png": "[encoded data removed]",
      "text/plain": [
       "<Figure size 640x480 with 1 Axes>"
      ]
     },
     "metadata": {},
     "output_type": "display_data"
    }
   ],
   "source": [
    "x = np.linspace(0, 30, 100)\n",
    "y = lin_reg.coef_[0] * x + lin_reg.intercept_\n",
    "plt.plot(x, y, c='black')\n",
    "sns.scatterplot(x=tr_X[:,0], y=jitter(tr_y), alpha=0.8, s=5, hue=tr_y)\n",
    "plt.grid()\n",
    "plt.show()"
   ]
  },
  {
   "cell_type": "markdown",
   "id": "5c03bf63-f461-4fab-85ee-1132882e2433",
   "metadata": {},
   "source": [
    "### Performance Metrics"
   ]
  },
  {
   "cell_type": "code",
   "execution_count": 23,
   "id": "203bceb3-afae-446b-9a84-52d3e967ddbc",
   "metadata": {},
   "outputs": [
    {
     "name": "stdout",
     "output_type": "stream",
     "text": [
      "Training RMSE:  0.33705673123730695\n"
     ]
    }
   ],
   "source": [
    "from sklearn.metrics import mean_squared_error as mse\n",
    "\n",
    "pred_y = lin_reg.predict(tr_X)\n",
    "print(\"Training RMSE: \", np.sqrt(mse(tr_y, pred_y)))"
   ]
  },
  {
   "cell_type": "markdown",
   "id": "9bb9733d-98ee-43d3-bafb-51e1e30f40be",
   "metadata": {},
   "source": [
    "It's hard to interpret this RMSE value in context of a classification task. \n",
    "\n",
    "A error value between [0-1] can tell us, how confident a model is about a particular predicted label. It's hard to capture such notion with RMSE. "
   ]
  },
  {
   "cell_type": "code",
   "execution_count": 24,
   "id": "c2d4cdc1-0c78-4ad0-b1c9-6cb3a531ae6a",
   "metadata": {},
   "outputs": [],
   "source": [
    "actual_pred_y = pred_y > 0.5 # decision boundary"
   ]
  },
  {
   "cell_type": "code",
   "execution_count": 25,
   "id": "05a76352-79ee-44c0-8545-ca5a56f4469f",
   "metadata": {},
   "outputs": [
    {
     "data": {
      "image/png": "[encoded data removed]",
      "text/plain": [
       "<Figure size 640x480 with 1 Axes>"
      ]
     },
     "metadata": {},
     "output_type": "display_data"
    }
   ],
   "source": [
    "x = np.linspace(0, 30, 100)\n",
    "y = lin_reg.coef_[0] * x + lin_reg.intercept_\n",
    "plt.plot(x, y, c='black')\n",
    "\n",
    "y = np.linspace(-1, 2, 100)\n",
    "x = [(0.5 - lin_reg.intercept_)/lin_reg.coef_[0]]*len(y)\n",
    "plt.plot(x, y, 'm--')\n",
    "\n",
    "x = (0.5 - lin_reg.intercept_)/lin_reg.coef_[0]\n",
    "sns.scatterplot(x=tr_X[tr_X[:,0] < x].flatten(), y=jitter(tr_y[tr_X[:, 0] < x]), alpha=0.8, s=5, color='blue', label='benign')\n",
    "sns.scatterplot(x=tr_X[tr_X[:,0] > x].flatten(), y=jitter(tr_y[tr_X[:, 0] > x]), alpha=0.8, s=5, color='red', label='malignant')\n",
    "plt.legend()\n",
    "plt.grid()\n",
    "plt.show()"
   ]
  },
  {
   "cell_type": "code",
   "execution_count": 26,
   "id": "e951c47a-90d7-4cd9-a933-43393b5cfcd5",
   "metadata": {},
   "outputs": [
    {
     "data": {
      "text/plain": [
       "np.float64(0.865234375)"
      ]
     },
     "execution_count": 26,
     "metadata": {},
     "output_type": "execute_result"
    }
   ],
   "source": [
    "accuracy = np.sum(tr_y == actual_pred_y) / len(tr_y)\n",
    "accuracy"
   ]
  },
  {
   "cell_type": "markdown",
   "id": "96380356-2651-487d-9e26-31619208bd42",
   "metadata": {},
   "source": [
    "Are we happy with this prediction model? \n",
    "\n",
    "### What is the baseline model?"
   ]
  },
  {
   "cell_type": "code",
   "execution_count": 27,
   "id": "fed16a48-0011-437e-8753-eca18e72216c",
   "metadata": {},
   "outputs": [
    {
     "data": {
      "text/plain": [
       "(array([False,  True]), array([317, 195]))"
      ]
     },
     "execution_count": 27,
     "metadata": {},
     "output_type": "execute_result"
    }
   ],
   "source": [
    "unique, counts = np.unique(tr_y, return_counts=True)\n",
    "unique, counts"
   ]
  },
  {
   "cell_type": "code",
   "execution_count": 28,
   "id": "0d33cfaa-ee2a-4cbf-a7d9-24f3dbe22538",
   "metadata": {},
   "outputs": [
    {
     "data": {
      "text/plain": [
       "array([61.9140625, 38.0859375])"
      ]
     },
     "execution_count": 28,
     "metadata": {},
     "output_type": "execute_result"
    }
   ],
   "source": [
    "counts/len(tr_y) * 100"
   ]
  },
  {
   "cell_type": "markdown",
   "id": "d24f1a88-a8de-42a7-b0a3-10d48634f9a9",
   "metadata": {},
   "source": [
    "### Class imbalance\n",
    "\n",
    "Class imbalance when you have disproportionate fraction of the samples in one class. \n",
    "In many cases, (such as fraud detection) you will only have very tiny fraction of training data, that may contain examples in particular class. \n",
    "\n",
    "In such case, we can always achieve high accuracy by just predicting all data points with the frequent label, without needing any good classifier. This is not good approach, as our model will have less effectiveness in detecting rare data points. \n",
    "\n",
    "#### Addressing class imbalance:\n",
    "- You should use stratified sampling to make sure your train-test split has similar representation as your population. \n",
    "- Try learning algorithm that are a little more robust to class imbalance (eg. decision trees)\n",
    "- Adjust the loss function to put a larger penalty on the smaller class. "
   ]
  },
  {
   "cell_type": "markdown",
   "id": "5099b4c9-3289-4095-8d88-7f6539ee5cd9",
   "metadata": {},
   "source": [
    "### Logistic Regression"
   ]
  },
  {
   "cell_type": "code",
   "execution_count": 29,
   "id": "7edf08ab-d025-4efd-a4ca-1a375aa4a5a4",
   "metadata": {},
   "outputs": [
    {
     "data": {
      "text/html": [
       "<style>#sk-container-id-2 {\n",
       "  /* Definition of color scheme common for light and dark mode */\n",
       "  --sklearn-color-text: #000;\n",
       "  --sklearn-color-text-muted: #666;\n",
       "  --sklearn-color-line: gray;\n",
       "  /* Definition of color scheme for unfitted estimators */\n",
       "  --sklearn-color-unfitted-level-0: #fff5e6;\n",
       "  --sklearn-color-unfitted-level-1: #f6e4d2;\n",
       "  --sklearn-color-unfitted-level-2: #ffe0b3;\n",
       "  --sklearn-color-unfitted-level-3: chocolate;\n",
       "  /* Definition of color scheme for fitted estimators */\n",
       "  --sklearn-color-fitted-level-0: #f0f8ff;\n",
       "  --sklearn-color-fitted-level-1: #d4ebff;\n",
       "  --sklearn-color-fitted-level-2: #b3dbfd;\n",
       "  --sklearn-color-fitted-level-3: cornflowerblue;\n",
       "\n",
       "  /* Specific color for light theme */\n",
       "  --sklearn-color-text-on-default-background: var(--sg-text-color, var(--theme-code-foreground, var(--jp-content-font-color1, black)));\n",
       "  --sklearn-color-background: var(--sg-background-color, var(--theme-background, var(--jp-layout-color0, white)));\n",
       "  --sklearn-color-border-box: var(--sg-text-color, var(--theme-code-foreground, var(--jp-content-font-color1, black)));\n",
       "  --sklearn-color-icon: #696969;\n",
       "\n",
       "  @media (prefers-color-scheme: dark) {\n",
       "    /* Redefinition of color scheme for dark theme */\n",
       "    --sklearn-color-text-on-default-background: var(--sg-text-color, var(--theme-code-foreground, var(--jp-content-font-color1, white)));\n",
       "    --sklearn-color-background: var(--sg-background-color, var(--theme-background, var(--jp-layout-color0, #111)));\n",
       "    --sklearn-color-border-box: var(--sg-text-color, var(--theme-code-foreground, var(--jp-content-font-color1, white)));\n",
       "    --sklearn-color-icon: #878787;\n",
       "  }\n",
       "}\n",
       "\n",
       "#sk-container-id-2 {\n",
       "  color: var(--sklearn-color-text);\n",
       "}\n",
       "\n",
       "#sk-container-id-2 pre {\n",
       "  padding: 0;\n",
       "}\n",
       "\n",
       "#sk-container-id-2 input.sk-hidden--visually {\n",
       "  border: 0;\n",
       "  clip: rect(1px 1px 1px 1px);\n",
       "  clip: rect(1px, 1px, 1px, 1px);\n",
       "  height: 1px;\n",
       "  margin: -1px;\n",
       "  overflow: hidden;\n",
       "  padding: 0;\n",
       "  position: absolute;\n",
       "  width: 1px;\n",
       "}\n",
       "\n",
       "#sk-container-id-2 div.sk-dashed-wrapped {\n",
       "  border: 1px dashed var(--sklearn-color-line);\n",
       "  margin: 0 0.4em 0.5em 0.4em;\n",
       "  box-sizing: border-box;\n",
       "  padding-bottom: 0.4em;\n",
       "  background-color: var(--sklearn-color-background);\n",
       "}\n",
       "\n",
       "#sk-container-id-2 div.sk-container {\n",
       "  /* jupyter's `normalize.less` sets `[hidden] { display: none; }`\n",
       "     but bootstrap.min.css set `[hidden] { display: none !important; }`\n",
       "     so we also need the `!important` here to be able to override the\n",
       "     default hidden behavior on the sphinx rendered scikit-learn.org.\n",
       "     See: https://github.com/scikit-learn/scikit-learn/issues/21755 */\n",
       "  display: inline-block !important;\n",
       "  position: relative;\n",
       "}\n",
       "\n",
       "#sk-container-id-2 div.sk-text-repr-fallback {\n",
       "  display: none;\n",
       "}\n",
       "\n",
       "div.sk-parallel-item,\n",
       "div.sk-serial,\n",
       "div.sk-item {\n",
       "  /* draw centered vertical line to link estimators */\n",
       "  background-image: linear-gradient(var(--sklearn-color-text-on-default-background), var(--sklearn-color-text-on-default-background));\n",
       "  background-size: 2px 100%;\n",
       "  background-repeat: no-repeat;\n",
       "  background-position: center center;\n",
       "}\n",
       "\n",
       "/* Parallel-specific style estimator block */\n",
       "\n",
       "#sk-container-id-2 div.sk-parallel-item::after {\n",
       "  content: \"\";\n",
       "  width: 100%;\n",
       "  border-bottom: 2px solid var(--sklearn-color-text-on-default-background);\n",
       "  flex-grow: 1;\n",
       "}\n",
       "\n",
       "#sk-container-id-2 div.sk-parallel {\n",
       "  display: flex;\n",
       "  align-items: stretch;\n",
       "  justify-content: center;\n",
       "  background-color: var(--sklearn-color-background);\n",
       "  position: relative;\n",
       "}\n",
       "\n",
       "#sk-container-id-2 div.sk-parallel-item {\n",
       "  display: flex;\n",
       "  flex-direction: column;\n",
       "}\n",
       "\n",
       "#sk-container-id-2 div.sk-parallel-item:first-child::after {\n",
       "  align-self: flex-end;\n",
       "  width: 50%;\n",
       "}\n",
       "\n",
       "#sk-container-id-2 div.sk-parallel-item:last-child::after {\n",
       "  align-self: flex-start;\n",
       "  width: 50%;\n",
       "}\n",
       "\n",
       "#sk-container-id-2 div.sk-parallel-item:only-child::after {\n",
       "  width: 0;\n",
       "}\n",
       "\n",
       "/* Serial-specific style estimator block */\n",
       "\n",
       "#sk-container-id-2 div.sk-serial {\n",
       "  display: flex;\n",
       "  flex-direction: column;\n",
       "  align-items: center;\n",
       "  background-color: var(--sklearn-color-background);\n",
       "  padding-right: 1em;\n",
       "  padding-left: 1em;\n",
       "}\n",
       "\n",
       "\n",
       "/* Toggleable style: style used for estimator/Pipeline/ColumnTransformer box that is\n",
       "clickable and can be expanded/collapsed.\n",
       "- Pipeline and ColumnTransformer use this feature and define the default style\n",
       "- Estimators will overwrite some part of the style using the `sk-estimator` class\n",
       "*/\n",
       "\n",
       "/* Pipeline and ColumnTransformer style (default) */\n",
       "\n",
       "#sk-container-id-2 div.sk-toggleable {\n",
       "  /* Default theme specific background. It is overwritten whether we have a\n",
       "  specific estimator or a Pipeline/ColumnTransformer */\n",
       "  background-color: var(--sklearn-color-background);\n",
       "}\n",
       "\n",
       "/* Toggleable label */\n",
       "#sk-container-id-2 label.sk-toggleable__label {\n",
       "  cursor: pointer;\n",
       "  display: flex;\n",
       "  width: 100%;\n",
       "  margin-bottom: 0;\n",
       "  padding: 0.5em;\n",
       "  box-sizing: border-box;\n",
       "  text-align: center;\n",
       "  align-items: start;\n",
       "  justify-content: space-between;\n",
       "  gap: 0.5em;\n",
       "}\n",
       "\n",
       "#sk-container-id-2 label.sk-toggleable__label .caption {\n",
       "  font-size: 0.6rem;\n",
       "  font-weight: lighter;\n",
       "  color: var(--sklearn-color-text-muted);\n",
       "}\n",
       "\n",
       "#sk-container-id-2 label.sk-toggleable__label-arrow:before {\n",
       "  /* Arrow on the left of the label */\n",
       "  content: \"▸\";\n",
       "  float: left;\n",
       "  margin-right: 0.25em;\n",
       "  color: var(--sklearn-color-icon);\n",
       "}\n",
       "\n",
       "#sk-container-id-2 label.sk-toggleable__label-arrow:hover:before {\n",
       "  color: var(--sklearn-color-text);\n",
       "}\n",
       "\n",
       "/* Toggleable content - dropdown */\n",
       "\n",
       "#sk-container-id-2 div.sk-toggleable__content {\n",
       "  max-height: 0;\n",
       "  max-width: 0;\n",
       "  overflow: hidden;\n",
       "  text-align: left;\n",
       "  /* unfitted */\n",
       "  background-color: var(--sklearn-color-unfitted-level-0);\n",
       "}\n",
       "\n",
       "#sk-container-id-2 div.sk-toggleable__content.fitted {\n",
       "  /* fitted */\n",
       "  background-color: var(--sklearn-color-fitted-level-0);\n",
       "}\n",
       "\n",
       "#sk-container-id-2 div.sk-toggleable__content pre {\n",
       "  margin: 0.2em;\n",
       "  border-radius: 0.25em;\n",
       "  color: var(--sklearn-color-text);\n",
       "  /* unfitted */\n",
       "  background-color: var(--sklearn-color-unfitted-level-0);\n",
       "}\n",
       "\n",
       "#sk-container-id-2 div.sk-toggleable__content.fitted pre {\n",
       "  /* unfitted */\n",
       "  background-color: var(--sklearn-color-fitted-level-0);\n",
       "}\n",
       "\n",
       "#sk-container-id-2 input.sk-toggleable__control:checked~div.sk-toggleable__content {\n",
       "  /* Expand drop-down */\n",
       "  max-height: 200px;\n",
       "  max-width: 100%;\n",
       "  overflow: auto;\n",
       "}\n",
       "\n",
       "#sk-container-id-2 input.sk-toggleable__control:checked~label.sk-toggleable__label-arrow:before {\n",
       "  content: \"▾\";\n",
       "}\n",
       "\n",
       "/* Pipeline/ColumnTransformer-specific style */\n",
       "\n",
       "#sk-container-id-2 div.sk-label input.sk-toggleable__control:checked~label.sk-toggleable__label {\n",
       "  color: var(--sklearn-color-text);\n",
       "  background-color: var(--sklearn-color-unfitted-level-2);\n",
       "}\n",
       "\n",
       "#sk-container-id-2 div.sk-label.fitted input.sk-toggleable__control:checked~label.sk-toggleable__label {\n",
       "  background-color: var(--sklearn-color-fitted-level-2);\n",
       "}\n",
       "\n",
       "/* Estimator-specific style */\n",
       "\n",
       "/* Colorize estimator box */\n",
       "#sk-container-id-2 div.sk-estimator input.sk-toggleable__control:checked~label.sk-toggleable__label {\n",
       "  /* unfitted */\n",
       "  background-color: var(--sklearn-color-unfitted-level-2);\n",
       "}\n",
       "\n",
       "#sk-container-id-2 div.sk-estimator.fitted input.sk-toggleable__control:checked~label.sk-toggleable__label {\n",
       "  /* fitted */\n",
       "  background-color: var(--sklearn-color-fitted-level-2);\n",
       "}\n",
       "\n",
       "#sk-container-id-2 div.sk-label label.sk-toggleable__label,\n",
       "#sk-container-id-2 div.sk-label label {\n",
       "  /* The background is the default theme color */\n",
       "  color: var(--sklearn-color-text-on-default-background);\n",
       "}\n",
       "\n",
       "/* On hover, darken the color of the background */\n",
       "#sk-container-id-2 div.sk-label:hover label.sk-toggleable__label {\n",
       "  color: var(--sklearn-color-text);\n",
       "  background-color: var(--sklearn-color-unfitted-level-2);\n",
       "}\n",
       "\n",
       "/* Label box, darken color on hover, fitted */\n",
       "#sk-container-id-2 div.sk-label.fitted:hover label.sk-toggleable__label.fitted {\n",
       "  color: var(--sklearn-color-text);\n",
       "  background-color: var(--sklearn-color-fitted-level-2);\n",
       "}\n",
       "\n",
       "/* Estimator label */\n",
       "\n",
       "#sk-container-id-2 div.sk-label label {\n",
       "  font-family: monospace;\n",
       "  font-weight: bold;\n",
       "  display: inline-block;\n",
       "  line-height: 1.2em;\n",
       "}\n",
       "\n",
       "#sk-container-id-2 div.sk-label-container {\n",
       "  text-align: center;\n",
       "}\n",
       "\n",
       "/* Estimator-specific */\n",
       "#sk-container-id-2 div.sk-estimator {\n",
       "  font-family: monospace;\n",
       "  border: 1px dotted var(--sklearn-color-border-box);\n",
       "  border-radius: 0.25em;\n",
       "  box-sizing: border-box;\n",
       "  margin-bottom: 0.5em;\n",
       "  /* unfitted */\n",
       "  background-color: var(--sklearn-color-unfitted-level-0);\n",
       "}\n",
       "\n",
       "#sk-container-id-2 div.sk-estimator.fitted {\n",
       "  /* fitted */\n",
       "  background-color: var(--sklearn-color-fitted-level-0);\n",
       "}\n",
       "\n",
       "/* on hover */\n",
       "#sk-container-id-2 div.sk-estimator:hover {\n",
       "  /* unfitted */\n",
       "  background-color: var(--sklearn-color-unfitted-level-2);\n",
       "}\n",
       "\n",
       "#sk-container-id-2 div.sk-estimator.fitted:hover {\n",
       "  /* fitted */\n",
       "  background-color: var(--sklearn-color-fitted-level-2);\n",
       "}\n",
       "\n",
       "/* Specification for estimator info (e.g. \"i\" and \"?\") */\n",
       "\n",
       "/* Common style for \"i\" and \"?\" */\n",
       "\n",
       ".sk-estimator-doc-link,\n",
       "a:link.sk-estimator-doc-link,\n",
       "a:visited.sk-estimator-doc-link {\n",
       "  float: right;\n",
       "  font-size: smaller;\n",
       "  line-height: 1em;\n",
       "  font-family: monospace;\n",
       "  background-color: var(--sklearn-color-background);\n",
       "  border-radius: 1em;\n",
       "  height: 1em;\n",
       "  width: 1em;\n",
       "  text-decoration: none !important;\n",
       "  margin-left: 0.5em;\n",
       "  text-align: center;\n",
       "  /* unfitted */\n",
       "  border: var(--sklearn-color-unfitted-level-1) 1pt solid;\n",
       "  color: var(--sklearn-color-unfitted-level-1);\n",
       "}\n",
       "\n",
       ".sk-estimator-doc-link.fitted,\n",
       "a:link.sk-estimator-doc-link.fitted,\n",
       "a:visited.sk-estimator-doc-link.fitted {\n",
       "  /* fitted */\n",
       "  border: var(--sklearn-color-fitted-level-1) 1pt solid;\n",
       "  color: var(--sklearn-color-fitted-level-1);\n",
       "}\n",
       "\n",
       "/* On hover */\n",
       "div.sk-estimator:hover .sk-estimator-doc-link:hover,\n",
       ".sk-estimator-doc-link:hover,\n",
       "div.sk-label-container:hover .sk-estimator-doc-link:hover,\n",
       ".sk-estimator-doc-link:hover {\n",
       "  /* unfitted */\n",
       "  background-color: var(--sklearn-color-unfitted-level-3);\n",
       "  color: var(--sklearn-color-background);\n",
       "  text-decoration: none;\n",
       "}\n",
       "\n",
       "div.sk-estimator.fitted:hover .sk-estimator-doc-link.fitted:hover,\n",
       ".sk-estimator-doc-link.fitted:hover,\n",
       "div.sk-label-container:hover .sk-estimator-doc-link.fitted:hover,\n",
       ".sk-estimator-doc-link.fitted:hover {\n",
       "  /* fitted */\n",
       "  background-color: var(--sklearn-color-fitted-level-3);\n",
       "  color: var(--sklearn-color-background);\n",
       "  text-decoration: none;\n",
       "}\n",
       "\n",
       "/* Span, style for the box shown on hovering the info icon */\n",
       ".sk-estimator-doc-link span {\n",
       "  display: none;\n",
       "  z-index: 9999;\n",
       "  position: relative;\n",
       "  font-weight: normal;\n",
       "  right: .2ex;\n",
       "  padding: .5ex;\n",
       "  margin: .5ex;\n",
       "  width: min-content;\n",
       "  min-width: 20ex;\n",
       "  max-width: 50ex;\n",
       "  color: var(--sklearn-color-text);\n",
       "  box-shadow: 2pt 2pt 4pt #999;\n",
       "  /* unfitted */\n",
       "  background: var(--sklearn-color-unfitted-level-0);\n",
       "  border: .5pt solid var(--sklearn-color-unfitted-level-3);\n",
       "}\n",
       "\n",
       ".sk-estimator-doc-link.fitted span {\n",
       "  /* fitted */\n",
       "  background: var(--sklearn-color-fitted-level-0);\n",
       "  border: var(--sklearn-color-fitted-level-3);\n",
       "}\n",
       "\n",
       ".sk-estimator-doc-link:hover span {\n",
       "  display: block;\n",
       "}\n",
       "\n",
       "/* \"?\"-specific style due to the `<a>` HTML tag */\n",
       "\n",
       "#sk-container-id-2 a.estimator_doc_link {\n",
       "  float: right;\n",
       "  font-size: 1rem;\n",
       "  line-height: 1em;\n",
       "  font-family: monospace;\n",
       "  background-color: var(--sklearn-color-background);\n",
       "  border-radius: 1rem;\n",
       "  height: 1rem;\n",
       "  width: 1rem;\n",
       "  text-decoration: none;\n",
       "  /* unfitted */\n",
       "  color: var(--sklearn-color-unfitted-level-1);\n",
       "  border: var(--sklearn-color-unfitted-level-1) 1pt solid;\n",
       "}\n",
       "\n",
       "#sk-container-id-2 a.estimator_doc_link.fitted {\n",
       "  /* fitted */\n",
       "  border: var(--sklearn-color-fitted-level-1) 1pt solid;\n",
       "  color: var(--sklearn-color-fitted-level-1);\n",
       "}\n",
       "\n",
       "/* On hover */\n",
       "#sk-container-id-2 a.estimator_doc_link:hover {\n",
       "  /* unfitted */\n",
       "  background-color: var(--sklearn-color-unfitted-level-3);\n",
       "  color: var(--sklearn-color-background);\n",
       "  text-decoration: none;\n",
       "}\n",
       "\n",
       "#sk-container-id-2 a.estimator_doc_link.fitted:hover {\n",
       "  /* fitted */\n",
       "  background-color: var(--sklearn-color-fitted-level-3);\n",
       "}\n",
       "</style><div id=\"sk-container-id-2\" class=\"sk-top-container\"><div class=\"sk-text-repr-fallback\"><pre>LogisticRegression()</pre><b>In a Jupyter environment, please rerun this cell to show the HTML representation or trust the notebook. <br />On GitHub, the HTML representation is unable to render, please try loading this page with nbviewer.org.</b></div><div class=\"sk-container\" hidden><div class=\"sk-item\"><div class=\"sk-estimator fitted sk-toggleable\"><input class=\"sk-toggleable__control sk-hidden--visually\" id=\"sk-estimator-id-2\" type=\"checkbox\" checked><label for=\"sk-estimator-id-2\" class=\"sk-toggleable__label fitted sk-toggleable__label-arrow\"><div><div>LogisticRegression</div></div><div><a class=\"sk-estimator-doc-link fitted\" rel=\"noreferrer\" target=\"_blank\" href=\"https://scikit-learn.org/1.6/modules/generated/sklearn.linear_model.LogisticRegression.html\">?<span>Documentation for LogisticRegression</span></a><span class=\"sk-estimator-doc-link fitted\">i<span>Fitted</span></span></div></label><div class=\"sk-toggleable__content fitted\"><pre>LogisticRegression()</pre></div> </div></div></div></div>"
      ],
      "text/plain": [
       "LogisticRegression()"
      ]
     },
     "execution_count": 29,
     "metadata": {},
     "output_type": "execute_result"
    }
   ],
   "source": [
    "from sklearn.linear_model import LogisticRegression\n",
    "log_reg = LogisticRegression()\n",
    "log_reg.fit(tr_X, tr_y)"
   ]
  },
  {
   "cell_type": "code",
   "execution_count": 30,
   "id": "20bd873f-9c0c-4ed8-84e9-1eb8e2ebd96f",
   "metadata": {},
   "outputs": [
    {
     "data": {
      "text/plain": [
       "np.float64(0.869140625)"
      ]
     },
     "execution_count": 30,
     "metadata": {},
     "output_type": "execute_result"
    }
   ],
   "source": [
    "pred_y = log_reg.predict(tr_X)\n",
    "accuracy = np.sum(tr_y == pred_y) / len(tr_y)\n",
    "accuracy"
   ]
  },
  {
   "cell_type": "code",
   "execution_count": 31,
   "id": "61d7e528-63a9-4294-bb60-92f00bdbce9c",
   "metadata": {},
   "outputs": [
    {
     "data": {
      "text/plain": [
       "np.float64(0.9473684210526315)"
      ]
     },
     "execution_count": 31,
     "metadata": {},
     "output_type": "execute_result"
    }
   ],
   "source": [
    "np.sum(te_y == log_reg.predict(te_X)) / len(te_y)"
   ]
  },
  {
   "cell_type": "markdown",
   "id": "ea8d1a93-ca4a-430b-b38f-6d05d121998a",
   "metadata": {},
   "source": [
    "### Performance metrics \n",
    "\n",
    "**Precision** is the fraction of true positives among the total number of data points predicted as positive. Eg: video safe for kids\n",
    "\n",
    "**Recall (aka sensitivity)** is the fraction of true positives among the total number of data points with positive labels. Eg: catching shoplifters\n",
    "\n",
    "Precision measures the ability of our model to not predict negative samples as positive; in other words reduce false positives. \n",
    "\n",
    "Recall mesaures the ability of our model to find all the positive samples. \n",
    "\n",
    "What is the relationship between precision and recall? "
   ]
  },
  {
   "cell_type": "code",
   "execution_count": 32,
   "id": "d4786b33-0edf-4415-8c50-81f1825596b0",
   "metadata": {},
   "outputs": [
    {
     "data": {
      "text/plain": [
       "array([[294,  23],\n",
       "       [ 44, 151]])"
      ]
     },
     "execution_count": 32,
     "metadata": {},
     "output_type": "execute_result"
    }
   ],
   "source": [
    "from sklearn.metrics import confusion_matrix\n",
    "confusion_matrix(tr_y, pred_y)"
   ]
  },
  {
   "cell_type": "code",
   "execution_count": 33,
   "id": "9e6273da-1c40-481f-b8b7-06f811b7c704",
   "metadata": {},
   "outputs": [
    {
     "data": {
      "text/plain": [
       "0.867816091954023"
      ]
     },
     "execution_count": 33,
     "metadata": {},
     "output_type": "execute_result"
    }
   ],
   "source": [
    "from sklearn.metrics import precision_score, recall_score, f1_score\n",
    "precision_score(tr_y, pred_y) # 151 / (151+23)"
   ]
  },
  {
   "cell_type": "code",
   "execution_count": 34,
   "id": "ac99f22c-f072-4106-83e4-48eac8c76278",
   "metadata": {},
   "outputs": [
    {
     "data": {
      "text/plain": [
       "0.7743589743589744"
      ]
     },
     "execution_count": 34,
     "metadata": {},
     "output_type": "execute_result"
    }
   ],
   "source": [
    "recall_score(tr_y, pred_y) # 151 / (151 + 44)"
   ]
  },
  {
   "cell_type": "code",
   "execution_count": 35,
   "id": "739281ca-05aa-447c-88a4-9596378a6375",
   "metadata": {},
   "outputs": [
    {
     "data": {
      "text/plain": [
       "0.8184281842818428"
      ]
     },
     "execution_count": 35,
     "metadata": {},
     "output_type": "execute_result"
    }
   ],
   "source": [
    "f1_score(tr_y, pred_y) # similar precision and recall"
   ]
  },
  {
   "cell_type": "markdown",
   "id": "f52e7f9b-2632-4fa1-bb6b-8b2acc148cbe",
   "metadata": {},
   "source": [
    "### Precision/Recall Tradeoff"
   ]
  },
  {
   "cell_type": "code",
   "execution_count": 36,
   "id": "acda6db8-091e-451a-8955-4c71306759c5",
   "metadata": {},
   "outputs": [],
   "source": [
    "from sklearn.model_selection import cross_val_predict\n",
    "y_scores = cross_val_predict(log_reg, tr_X, tr_y, cv=3, method=\"decision_function\")"
   ]
  },
  {
   "cell_type": "code",
   "execution_count": 37,
   "id": "37d16715-db1f-4e44-b496-9a481c1ddd92",
   "metadata": {},
   "outputs": [
    {
     "data": {
      "image/png": "[encoded data removed]",
      "text/plain": [
       "<Figure size 640x480 with 1 Axes>"
      ]
     },
     "metadata": {},
     "output_type": "display_data"
    }
   ],
   "source": [
    "from sklearn.metrics import precision_recall_curve\n",
    "precisions, recalls, thresholds = precision_recall_curve(tr_y, y_scores)\n",
    "\n",
    "def plot_precision_recall_vs_threshold(precisions, recalls, thresholds):\n",
    "    plt.plot(thresholds, precisions[:-1], \"b--\", label=\"Precision\")\n",
    "    plt.plot(thresholds, recalls[:-1], \"g-\", label=\"Recall\")\n",
    "    \n",
    "plot_precision_recall_vs_threshold(precisions, recalls, thresholds)\n",
    "plt.xlabel('Threshold')\n",
    "plt.legend()\n",
    "plt.grid()\n",
    "plt.show()"
   ]
  },
  {
   "cell_type": "code",
   "execution_count": 38,
   "id": "3baa734e-5380-4e90-bbf8-e1c3dd356046",
   "metadata": {},
   "outputs": [
    {
     "data": {
      "text/plain": [
       "(array([0.38085938, 0.3816047 , 0.38235294, 0.38310413, 0.38385827,\n",
       "        0.38461538, 0.38537549, 0.38613861, 0.38690476, 0.38767396,\n",
       "        0.38844622, 0.38922156, 0.39      , 0.39078156, 0.39156627,\n",
       "        0.39235412, 0.39314516, 0.39393939, 0.39473684, 0.39553753,\n",
       "        0.39634146, 0.39714868, 0.39795918, 0.39877301, 0.39959016,\n",
       "        0.40041068, 0.40123457, 0.40206186, 0.40289256, 0.40372671,\n",
       "        0.40456432, 0.40540541, 0.40625   , 0.40709812, 0.40794979,\n",
       "        0.40880503, 0.40966387, 0.41052632, 0.41139241, 0.41226216,\n",
       "        0.41313559, 0.41401274, 0.41489362, 0.41577825, 0.41666667,\n",
       "        0.41755889, 0.41845494, 0.41935484, 0.42025862, 0.42116631,\n",
       "        0.42207792, 0.42391304, 0.4248366 , 0.42576419, 0.42669584,\n",
       "        0.4254386 , 0.42637363, 0.42731278, 0.42825607, 0.43015521,\n",
       "        0.43207127, 0.43303571, 0.43176734, 0.43273543, 0.43468468,\n",
       "        0.43566591, 0.43764172, 0.43863636, 0.43963554, 0.44063927,\n",
       "        0.4416476 , 0.44266055, 0.44367816, 0.44470046, 0.44572748,\n",
       "        0.44675926, 0.44779582, 0.44883721, 0.44988345, 0.45093458,\n",
       "        0.45199063, 0.45305164, 0.45411765, 0.45518868, 0.45626478,\n",
       "        0.45734597, 0.4584323 , 0.45952381, 0.46062053, 0.46172249,\n",
       "        0.46394231, 0.46506024, 0.46618357, 0.46731235, 0.46958637,\n",
       "        0.47073171, 0.47188264, 0.47303922, 0.47536946, 0.47654321,\n",
       "        0.47772277, 0.47890819, 0.4800995 , 0.4825    , 0.48370927,\n",
       "        0.48241206, 0.4836272 , 0.48484848, 0.48607595, 0.48730964,\n",
       "        0.48854962, 0.48979592, 0.49104859, 0.49230769, 0.49357326,\n",
       "        0.49484536, 0.49612403, 0.49740933, 0.4987013 , 0.5       ,\n",
       "        0.50130548, 0.5026178 , 0.50393701, 0.50526316, 0.50659631,\n",
       "        0.50793651, 0.50928382, 0.5106383 , 0.51069519, 0.50938338,\n",
       "        0.51075269, 0.51212938, 0.51351351, 0.51490515, 0.51630435,\n",
       "        0.51771117, 0.51912568, 0.52054795, 0.52197802, 0.52341598,\n",
       "        0.52486188, 0.52631579, 0.52777778, 0.52924791, 0.53072626,\n",
       "        0.53221289, 0.53089888, 0.53239437, 0.53389831, 0.53541076,\n",
       "        0.53693182, 0.53846154, 0.54      , 0.54154728, 0.54310345,\n",
       "        0.54466859, 0.54624277, 0.54782609, 0.5494186 , 0.55263158,\n",
       "        0.5542522 , 0.55752212, 0.5591716 , 0.56083086, 0.5625    ,\n",
       "        0.5641791 , 0.56287425, 0.56456456, 0.56325301, 0.56495468,\n",
       "        0.56666667, 0.56838906, 0.57186544, 0.57361963, 0.57407407,\n",
       "        0.57632399, 0.578125  , 0.5799373 , 0.58044164, 0.58227848,\n",
       "        0.58412698, 0.58785942, 0.58974359, 0.59354839, 0.59546926,\n",
       "        0.5974026 , 0.59934853, 0.60130719, 0.60327869, 0.60526316,\n",
       "        0.60927152, 0.61      , 0.61204013, 0.61409396, 0.61616162,\n",
       "        0.62033898, 0.62244898, 0.62457338, 0.62671233, 0.62542955,\n",
       "        0.62413793, 0.62629758, 0.62847222, 0.63066202, 0.63508772,\n",
       "        0.63732394, 0.63957597, 0.63829787, 0.64285714, 0.64516129,\n",
       "        0.64748201, 0.64981949, 0.65217391, 0.65454545, 0.65693431,\n",
       "        0.65567766, 0.65808824, 0.66051661, 0.66296296, 0.66542751,\n",
       "        0.66791045, 0.66666667, 0.66541353, 0.67045455, 0.66920152,\n",
       "        0.67175573, 0.6743295 , 0.67692308, 0.68217054, 0.6848249 ,\n",
       "        0.6875    , 0.69019608, 0.6916996 , 0.69444444, 0.69322709,\n",
       "        0.696     , 0.69879518, 0.70445344, 0.70731707, 0.70612245,\n",
       "        0.70901639, 0.71193416, 0.71487603, 0.71784232, 0.72083333,\n",
       "        0.72384937, 0.72268908, 0.7257384 , 0.72457627, 0.72765957,\n",
       "        0.73076923, 0.73390558, 0.73706897, 0.73913043, 0.74235808,\n",
       "        0.74561404, 0.74449339, 0.74778761, 0.75111111, 0.75446429,\n",
       "        0.75336323, 0.75675676, 0.75565611, 0.75454545, 0.75342466,\n",
       "        0.76036866, 0.75925926, 0.7627907 , 0.76995305, 0.77358491,\n",
       "        0.77725118, 0.78095238, 0.784689  , 0.78365385, 0.78743961,\n",
       "        0.79126214, 0.79512195, 0.79411765, 0.79310345, 0.7970297 ,\n",
       "        0.80099502, 0.805     , 0.8040201 , 0.80808081, 0.8071066 ,\n",
       "        0.81122449, 0.81538462, 0.81443299, 0.81865285, 0.81770833,\n",
       "        0.82198953, 0.82105263, 0.82539683, 0.82978723, 0.82887701,\n",
       "        0.83333333, 0.83783784, 0.8423913 , 0.84699454, 0.85635359,\n",
       "        0.85555556, 0.8603352 , 0.86516854, 0.86440678, 0.86931818,\n",
       "        0.87356322, 0.87861272, 0.88304094, 0.88235294, 0.88757396,\n",
       "        0.89285714, 0.89820359, 0.89759036, 0.8969697 , 0.90243902,\n",
       "        0.90797546, 0.90740741, 0.9068323 , 0.90625   , 0.91194969,\n",
       "        0.91139241, 0.91719745, 0.91666667, 0.92258065, 0.92857143,\n",
       "        0.92810458, 0.92763158, 0.93377483, 0.94      , 0.93959732,\n",
       "        0.93918919, 0.93877551, 0.93835616, 0.93793103, 0.9375    ,\n",
       "        0.94405594, 0.94366197, 0.94326241, 0.94285714, 0.94244604,\n",
       "        0.94202899, 0.94160584, 0.94074074, 0.94029851, 0.93984962,\n",
       "        0.93939394, 0.94656489, 0.95384615, 0.95348837, 0.953125  ,\n",
       "        0.95275591, 0.95238095, 0.952     , 0.9516129 , 0.95121951,\n",
       "        0.95081967, 0.95041322, 0.95      , 0.95798319, 0.96610169,\n",
       "        0.96581197, 0.96551724, 0.96521739, 0.96491228, 0.97345133,\n",
       "        0.97321429, 0.98198198, 0.98181818, 0.98165138, 0.98148148,\n",
       "        0.98130841, 0.98113208, 0.99047619, 0.99038462, 0.99029126,\n",
       "        0.99019608, 0.99009901, 0.99      , 0.98989899, 0.98979592,\n",
       "        0.98969072, 0.98958333, 0.98947368, 0.9893617 , 0.98913043,\n",
       "        0.98901099, 0.98888889, 0.98876404, 0.98863636, 0.98850575,\n",
       "        0.98837209, 0.98823529, 0.98809524, 0.98795181, 1.        ,\n",
       "        1.        , 1.        , 1.        , 1.        , 1.        ,\n",
       "        1.        , 1.        , 1.        , 1.        , 1.        ,\n",
       "        1.        , 1.        , 1.        , 1.        , 1.        ,\n",
       "        1.        , 1.        , 1.        , 1.        , 1.        ,\n",
       "        1.        , 1.        , 1.        , 1.        , 1.        ,\n",
       "        1.        , 1.        , 1.        , 1.        , 1.        ,\n",
       "        1.        , 1.        , 1.        , 1.        , 1.        ,\n",
       "        1.        , 1.        , 1.        , 1.        , 1.        ,\n",
       "        1.        , 1.        , 1.        , 1.        , 1.        ,\n",
       "        1.        , 1.        , 1.        , 1.        , 1.        ,\n",
       "        1.        , 1.        , 1.        , 1.        , 1.        ,\n",
       "        1.        , 1.        , 1.        , 1.        , 1.        ,\n",
       "        1.        , 1.        , 1.        , 1.        , 1.        ,\n",
       "        1.        , 1.        , 1.        , 1.        , 1.        ,\n",
       "        1.        , 1.        , 1.        , 1.        , 1.        ,\n",
       "        1.        , 1.        , 1.        , 1.        , 1.        ]),\n",
       " array([1.        , 1.        , 1.        , 1.        , 1.        ,\n",
       "        1.        , 1.        , 1.        , 1.        , 1.        ,\n",
       "        1.        , 1.        , 1.        , 1.        , 1.        ,\n",
       "        1.        , 1.        , 1.        , 1.        , 1.        ,\n",
       "        1.        , 1.        , 1.        , 1.        , 1.        ,\n",
       "        1.        , 1.        , 1.        , 1.        , 1.        ,\n",
       "        1.        , 1.        , 1.        , 1.        , 1.        ,\n",
       "        1.        , 1.        , 1.        , 1.        , 1.        ,\n",
       "        1.        , 1.        , 1.        , 1.        , 1.        ,\n",
       "        1.        , 1.        , 1.        , 1.        , 1.        ,\n",
       "        1.        , 1.        , 1.        , 1.        , 1.        ,\n",
       "        0.99487179, 0.99487179, 0.99487179, 0.99487179, 0.99487179,\n",
       "        0.99487179, 0.99487179, 0.98974359, 0.98974359, 0.98974359,\n",
       "        0.98974359, 0.98974359, 0.98974359, 0.98974359, 0.98974359,\n",
       "        0.98974359, 0.98974359, 0.98974359, 0.98974359, 0.98974359,\n",
       "        0.98974359, 0.98974359, 0.98974359, 0.98974359, 0.98974359,\n",
       "        0.98974359, 0.98974359, 0.98974359, 0.98974359, 0.98974359,\n",
       "        0.98974359, 0.98974359, 0.98974359, 0.98974359, 0.98974359,\n",
       "        0.98974359, 0.98974359, 0.98974359, 0.98974359, 0.98974359,\n",
       "        0.98974359, 0.98974359, 0.98974359, 0.98974359, 0.98974359,\n",
       "        0.98974359, 0.98974359, 0.98974359, 0.98974359, 0.98974359,\n",
       "        0.98461538, 0.98461538, 0.98461538, 0.98461538, 0.98461538,\n",
       "        0.98461538, 0.98461538, 0.98461538, 0.98461538, 0.98461538,\n",
       "        0.98461538, 0.98461538, 0.98461538, 0.98461538, 0.98461538,\n",
       "        0.98461538, 0.98461538, 0.98461538, 0.98461538, 0.98461538,\n",
       "        0.98461538, 0.98461538, 0.98461538, 0.97948718, 0.97435897,\n",
       "        0.97435897, 0.97435897, 0.97435897, 0.97435897, 0.97435897,\n",
       "        0.97435897, 0.97435897, 0.97435897, 0.97435897, 0.97435897,\n",
       "        0.97435897, 0.97435897, 0.97435897, 0.97435897, 0.97435897,\n",
       "        0.97435897, 0.96923077, 0.96923077, 0.96923077, 0.96923077,\n",
       "        0.96923077, 0.96923077, 0.96923077, 0.96923077, 0.96923077,\n",
       "        0.96923077, 0.96923077, 0.96923077, 0.96923077, 0.96923077,\n",
       "        0.96923077, 0.96923077, 0.96923077, 0.96923077, 0.96923077,\n",
       "        0.96923077, 0.96410256, 0.96410256, 0.95897436, 0.95897436,\n",
       "        0.95897436, 0.95897436, 0.95897436, 0.95897436, 0.95384615,\n",
       "        0.94871795, 0.94871795, 0.94871795, 0.94358974, 0.94358974,\n",
       "        0.94358974, 0.94358974, 0.94358974, 0.94358974, 0.94358974,\n",
       "        0.94358974, 0.94358974, 0.94358974, 0.94358974, 0.94358974,\n",
       "        0.94358974, 0.93846154, 0.93846154, 0.93846154, 0.93846154,\n",
       "        0.93846154, 0.93846154, 0.93846154, 0.93846154, 0.93333333,\n",
       "        0.92820513, 0.92820513, 0.92820513, 0.92820513, 0.92820513,\n",
       "        0.92820513, 0.92820513, 0.92307692, 0.92307692, 0.92307692,\n",
       "        0.92307692, 0.92307692, 0.92307692, 0.92307692, 0.92307692,\n",
       "        0.91794872, 0.91794872, 0.91794872, 0.91794872, 0.91794872,\n",
       "        0.91794872, 0.91282051, 0.90769231, 0.90769231, 0.9025641 ,\n",
       "        0.9025641 , 0.9025641 , 0.9025641 , 0.9025641 , 0.9025641 ,\n",
       "        0.9025641 , 0.9025641 , 0.8974359 , 0.8974359 , 0.89230769,\n",
       "        0.89230769, 0.89230769, 0.89230769, 0.89230769, 0.88717949,\n",
       "        0.88717949, 0.88717949, 0.88717949, 0.88717949, 0.88717949,\n",
       "        0.88717949, 0.88205128, 0.88205128, 0.87692308, 0.87692308,\n",
       "        0.87692308, 0.87692308, 0.87692308, 0.87179487, 0.87179487,\n",
       "        0.87179487, 0.86666667, 0.86666667, 0.86666667, 0.86666667,\n",
       "        0.86153846, 0.86153846, 0.85641026, 0.85128205, 0.84615385,\n",
       "        0.84615385, 0.84102564, 0.84102564, 0.84102564, 0.84102564,\n",
       "        0.84102564, 0.84102564, 0.84102564, 0.83589744, 0.83589744,\n",
       "        0.83589744, 0.83589744, 0.83076923, 0.82564103, 0.82564103,\n",
       "        0.82564103, 0.82564103, 0.82051282, 0.82051282, 0.81538462,\n",
       "        0.81538462, 0.81538462, 0.81025641, 0.81025641, 0.80512821,\n",
       "        0.80512821, 0.8       , 0.8       , 0.8       , 0.79487179,\n",
       "        0.79487179, 0.79487179, 0.79487179, 0.79487179, 0.79487179,\n",
       "        0.78974359, 0.78974359, 0.78974359, 0.78461538, 0.78461538,\n",
       "        0.77948718, 0.77948718, 0.77435897, 0.76923077, 0.76923077,\n",
       "        0.76923077, 0.76923077, 0.76410256, 0.75897436, 0.75897436,\n",
       "        0.75897436, 0.75384615, 0.74871795, 0.74358974, 0.74358974,\n",
       "        0.73846154, 0.73846154, 0.73333333, 0.73333333, 0.73333333,\n",
       "        0.72820513, 0.72307692, 0.72307692, 0.72307692, 0.71794872,\n",
       "        0.71282051, 0.70769231, 0.7025641 , 0.6974359 , 0.69230769,\n",
       "        0.69230769, 0.68717949, 0.68205128, 0.67692308, 0.67179487,\n",
       "        0.66666667, 0.66153846, 0.65128205, 0.64615385, 0.64102564,\n",
       "        0.63589744, 0.63589744, 0.63589744, 0.63076923, 0.62564103,\n",
       "        0.62051282, 0.61538462, 0.61025641, 0.60512821, 0.6       ,\n",
       "        0.59487179, 0.58974359, 0.58461538, 0.58461538, 0.58461538,\n",
       "        0.57948718, 0.57435897, 0.56923077, 0.56410256, 0.56410256,\n",
       "        0.55897436, 0.55897436, 0.55384615, 0.54871795, 0.54358974,\n",
       "        0.53846154, 0.53333333, 0.53333333, 0.52820513, 0.52307692,\n",
       "        0.51794872, 0.51282051, 0.50769231, 0.5025641 , 0.4974359 ,\n",
       "        0.49230769, 0.48717949, 0.48205128, 0.47692308, 0.46666667,\n",
       "        0.46153846, 0.45641026, 0.45128205, 0.44615385, 0.44102564,\n",
       "        0.43589744, 0.43076923, 0.42564103, 0.42051282, 0.42051282,\n",
       "        0.41538462, 0.41025641, 0.40512821, 0.4       , 0.38974359,\n",
       "        0.38461538, 0.37948718, 0.37435897, 0.36923077, 0.36410256,\n",
       "        0.35897436, 0.35384615, 0.34871795, 0.34358974, 0.33846154,\n",
       "        0.33333333, 0.32820513, 0.32307692, 0.31794872, 0.31282051,\n",
       "        0.30769231, 0.3025641 , 0.2974359 , 0.29230769, 0.28717949,\n",
       "        0.28205128, 0.27692308, 0.27179487, 0.26666667, 0.26153846,\n",
       "        0.25641026, 0.25128205, 0.24615385, 0.24102564, 0.23589744,\n",
       "        0.23076923, 0.22564103, 0.22051282, 0.21025641, 0.20512821,\n",
       "        0.2       , 0.19487179, 0.18974359, 0.18461538, 0.17948718,\n",
       "        0.17435897, 0.16923077, 0.16410256, 0.15897436, 0.15384615,\n",
       "        0.14871795, 0.14358974, 0.13846154, 0.13333333, 0.12820513,\n",
       "        0.12307692, 0.11794872, 0.11282051, 0.10769231, 0.1025641 ,\n",
       "        0.0974359 , 0.09230769, 0.08717949, 0.08205128, 0.07692308,\n",
       "        0.07179487, 0.06666667, 0.06153846, 0.05641026, 0.05128205,\n",
       "        0.04615385, 0.04102564, 0.03589744, 0.03076923, 0.02564103,\n",
       "        0.02051282, 0.01538462, 0.01025641, 0.00512821, 0.        ]),\n",
       " array([-6.68912872, -6.6599203 , -6.51279642, -6.37038424, -6.35701819,\n",
       "        -6.34620025, -6.28783982, -6.25438843, -6.22709914, -5.99489831,\n",
       "        -5.97403798, -5.93511882, -5.92139048, -5.8432885 , -5.75337755,\n",
       "        -5.67981561, -5.64424611, -5.59457866, -5.552858  , -5.50240152,\n",
       "        -5.49374717, -5.42234882, -5.40828551, -5.37672968, -5.30876053,\n",
       "        -5.27738852, -5.2002191 , -5.19227231, -5.13267136, -5.10999889,\n",
       "        -4.98323574, -4.92688751, -4.91612128, -4.86844053, -4.86197991,\n",
       "        -4.84238779, -4.81281298, -4.72440492, -4.66725713, -4.63639768,\n",
       "        -4.61316747, -4.60206599, -4.55156219, -4.54836771, -4.50171183,\n",
       "        -4.48586643, -4.45153475, -4.37517295, -4.33973669, -4.28335795,\n",
       "        -4.27781156, -4.1912681 , -4.18480395, -4.16963223, -4.11554257,\n",
       "        -4.10557699, -4.10472464, -4.09462164, -4.0350207 , -4.02635002,\n",
       "        -4.00522023, -3.97490945, -3.88836599, -3.83268409, -3.8062751 ,\n",
       "        -3.78018666, -3.73691493, -3.70446113, -3.69728204, -3.6936432 ,\n",
       "        -3.68303315, -3.67423016, -3.66748156, -3.63768109, -3.59628181,\n",
       "        -3.59500319, -3.57464594, -3.54827968, -3.53338221, -3.53137421,\n",
       "        -3.52055628, -3.49817023, -3.47728455, -3.46881176, -3.41237696,\n",
       "        -3.38934384, -3.37992316, -3.36910523, -3.34746936, -3.33971629,\n",
       "        -3.33967639, -3.3297429 , -3.3258335 , -3.3221103 , -3.31501556,\n",
       "        -3.3045043 , -3.29994243, -3.2933797 , -3.2609259 , -3.26048932,\n",
       "        -3.25010797, -3.24288333, -3.20060753, -3.19886835, -3.19067404,\n",
       "        -3.18126235, -3.15485336, -3.14100659, -3.13724737, -3.11964138,\n",
       "        -3.10127263, -3.09865691, -3.09323239, -3.0580204 , -3.05538518,\n",
       "        -3.0492174 , -3.04456725, -3.04167168, -3.01187121, -2.99639943,\n",
       "        -2.99200423, -2.99047759, -2.96999044, -2.94720586, -2.91717246,\n",
       "        -2.90393413, -2.90260282, -2.85293537, -2.81320141, -2.78493687,\n",
       "        -2.77411894, -2.76353396, -2.75871852, -2.74366698, -2.74166514,\n",
       "        -2.73084721, -2.7238    , -2.71470354, -2.68757548, -2.68406604,\n",
       "        -2.67413255, -2.67068855, -2.66419906, -2.66188556, -2.65512168,\n",
       "        -2.63547657, -2.63348581, -2.61453161, -2.59021408, -2.57479765,\n",
       "        -2.56486416, -2.52530649, -2.49462862, -2.48203476, -2.45559576,\n",
       "        -2.45061364, -2.44958096, -2.44181065, -2.43572878, -2.4158618 ,\n",
       "        -2.40592831, -2.36619435, -2.34632737, -2.30894784, -2.30659341,\n",
       "        -2.27679294, -2.27455371, -2.24404024, -2.23053873, -2.22712549,\n",
       "        -2.22240438, -2.19532674, -2.17772075, -2.16752455, -2.14667885,\n",
       "        -2.11609977, -2.11422505, -2.08969078, -2.08177126, -2.08088779,\n",
       "        -2.07812314, -2.03838918, -2.02768159, -2.00166082, -1.98872173,\n",
       "        -1.96885475, -1.95195607, -1.94884284, -1.90482786, -1.89932031,\n",
       "        -1.8978664 , -1.88704847, -1.86951984, -1.85958635, -1.84377674,\n",
       "        -1.81132294, -1.8099189 , -1.8079949 , -1.79005192, -1.77886915,\n",
       "        -1.75031796, -1.74641535, -1.74637392, -1.73757092, -1.72876793,\n",
       "        -1.72051749, -1.71396155, -1.71116193, -1.69355594, -1.68078353,\n",
       "        -1.64954096, -1.63193497, -1.63111608, -1.62118259, -1.59496429,\n",
       "        -1.59138212, -1.57151514, -1.48678497, -1.48228403, -1.46224675,\n",
       "        -1.45231326, -1.43269531, -1.42251279, -1.42187737, -1.4125793 ,\n",
       "        -1.38277883, -1.35696978, -1.35297836, -1.32317789, -1.29206218,\n",
       "        -1.2886181 , -1.26220911, -1.25960839, -1.23797252, -1.21819413,\n",
       "        -1.20939113, -1.20551872, -1.20058814, -1.19178514, -1.18388286,\n",
       "        -1.18298214, -1.16537615, -1.16424204, -1.14061113, -1.13896716,\n",
       "        -1.10815733, -1.08652146, -1.07734619, -1.06854319, -1.0648856 ,\n",
       "        -1.03510667, -1.00692221, -0.98931622, -0.97834214, -0.97550573,\n",
       "        -0.96752421, -0.96557224, -0.96290723, -0.94588834, -0.93649824,\n",
       "        -0.92769525, -0.90128626, -0.89248326, -0.83770902, -0.77683593,\n",
       "        -0.76924131, -0.76198349, -0.75696895, -0.72716848, -0.70762033,\n",
       "        -0.69707589, -0.68121134, -0.61053243, -0.60796659, -0.5997145 ,\n",
       "        -0.58809961, -0.57807864, -0.54562484, -0.5403634 , -0.50515141,\n",
       "        -0.50235311, -0.49634842, -0.38190946, -0.37949632, -0.37310647,\n",
       "        -0.36956283, -0.36171999, -0.34669748, -0.33789448, -0.32028849,\n",
       "        -0.31148549, -0.29009491, -0.26747051, -0.25866751, -0.24272273,\n",
       "        -0.21062699, -0.19704653, -0.17781513, -0.17063755, -0.1669972 ,\n",
       "        -0.13115907, -0.12662256, -0.10901657, -0.08260758, -0.05169114,\n",
       "         0.02302838,  0.03183137,  0.04764376,  0.04936145,  0.12711168,\n",
       "         0.14627033,  0.14697866,  0.15754077,  0.17917664,  0.18148231,\n",
       "         0.19908831,  0.21163044,  0.22644658,  0.2332663 ,  0.23430029,\n",
       "         0.25490217,  0.26070928,  0.31584799,  0.32578148,  0.33993625,\n",
       "         0.35558195,  0.37389943,  0.38395123,  0.39275423,  0.39553529,\n",
       "         0.41518289,  0.42796622,  0.44557221,  0.55120817,  0.55425176,\n",
       "         0.66352015,  0.6659836 ,  0.76248008,  0.763345  ,  0.79579879,\n",
       "         0.80661673,  0.83290406,  0.83907052,  0.97145834,  1.02112579,\n",
       "         1.03379331,  1.05542917,  1.07706504,  1.08819096,  1.11052721,\n",
       "         1.12340294,  1.14100893,  1.16741792,  1.18524436,  1.37996715,\n",
       "         1.43150782,  1.48814647,  1.49896441,  1.52773379,  1.59726822,\n",
       "         1.59876475,  1.61796166,  1.62706869,  1.67205133,  1.70653662,\n",
       "         1.85553897,  1.9965893 ,  2.03011158,  2.04427528,  2.09394273,\n",
       "         2.14455054,  2.19327763,  2.21497451,  2.41181442,  2.4316814 ,\n",
       "         2.43504942,  2.44012454,  2.45094247,  2.48339627,  2.56709437,\n",
       "         2.64028469,  2.65021818,  2.72554831,  2.77836629,  2.80915402,\n",
       "         2.81908751,  2.83118426,  2.88365977,  3.01347496,  3.16492601,\n",
       "         3.21851611,  3.25616108,  3.29589504,  3.34883087,  3.35549598,\n",
       "         3.37536296,  3.42503041,  3.500212  ,  3.56409928,  3.65350069,\n",
       "         3.72908991,  3.80250304,  3.80831688,  3.84645576,  3.85233186,\n",
       "         3.90514984,  3.99123935,  3.99790682,  4.01958879,  4.16010869,\n",
       "         4.17099374,  4.2250834 ,  4.27487569,  4.33891151,  4.34408066,\n",
       "         4.37170865,  4.38051165,  4.45093562,  4.50778084,  4.51771433,\n",
       "         4.61452897,  4.66220754,  4.70622252,  4.77598508,  4.79843382,\n",
       "         4.86538649,  4.92498743,  5.02561041,  5.05834238,  5.07970007,\n",
       "         5.12365723,  5.16624353,  5.1878794 ,  5.19038733,  5.23115113,\n",
       "         5.32851252,  5.37525026,  5.38260218,  5.42166194,  5.49119637,\n",
       "         5.5072952 ,  5.51106335,  5.5160982 ,  5.66999919,  5.76933409,\n",
       "         5.79913456,  5.80906805,  5.83886852,  5.89104501,  5.91833645,\n",
       "         5.92103604,  5.9559526 ,  5.9680039 ,  5.9884064 ,  6.01004227,\n",
       "         6.08829297,  6.29130851,  6.48454539,  6.54604879,  6.66993615,\n",
       "         7.03088734,  7.15674311,  7.26789451,  8.58051181,  8.60037879,\n",
       "         9.14293276,  9.1472427 ,  9.47178067,  9.55399385,  9.93146647,\n",
       "        11.02415039, 12.50424043, 13.70159229, 14.44802963]))"
      ]
     },
     "execution_count": 38,
     "metadata": {},
     "output_type": "execute_result"
    }
   ],
   "source": [
    "precisions, recalls, thresholds"
   ]
  },
  {
   "cell_type": "code",
   "execution_count": 39,
   "id": "7edd6476-b810-47c7-8b1c-8f55e668e699",
   "metadata": {},
   "outputs": [
    {
     "data": {
      "image/png": "[encoded data removed]",
      "text/plain": [
       "<Figure size 640x480 with 1 Axes>"
      ]
     },
     "metadata": {},
     "output_type": "display_data"
    }
   ],
   "source": [
    "plt.plot(recalls, precisions)\n",
    "plt.xlabel('Recall')\n",
    "plt.ylabel('Precision')\n",
    "plt.grid()\n",
    "plt.show()"
   ]
  },
  {
   "cell_type": "code",
   "execution_count": 40,
   "id": "0ca380e0-3dd4-448d-a6b9-ea044843886c",
   "metadata": {},
   "outputs": [],
   "source": [
    "threshold_90_precision = thresholds[np.argmax(precisions >= 0.90)]"
   ]
  },
  {
   "cell_type": "code",
   "execution_count": 41,
   "id": "198d7dec-6faa-4d67-a478-e9d2bab7d40f",
   "metadata": {},
   "outputs": [],
   "source": [
    "tr_y_pred_90 = (y_scores >= threshold_90_precision)"
   ]
  },
  {
   "cell_type": "code",
   "execution_count": 42,
   "id": "a95dbda2-eec3-4366-8eab-1c37a8317f28",
   "metadata": {},
   "outputs": [
    {
     "data": {
      "text/plain": [
       "0.9024390243902439"
      ]
     },
     "execution_count": 42,
     "metadata": {},
     "output_type": "execute_result"
    }
   ],
   "source": [
    "precision_score(tr_y, tr_y_pred_90)"
   ]
  },
  {
   "cell_type": "code",
   "execution_count": 43,
   "id": "bde4bbd5-6032-43e3-8e48-838433a7e72b",
   "metadata": {},
   "outputs": [
    {
     "data": {
      "text/plain": [
       "0.7589743589743589"
      ]
     },
     "execution_count": 43,
     "metadata": {},
     "output_type": "execute_result"
    }
   ],
   "source": [
    "recall_score(tr_y, tr_y_pred_90)"
   ]
  },
  {
   "cell_type": "markdown",
   "id": "acec024e-31bf-45ec-b1da-ec2a66509a77",
   "metadata": {},
   "source": [
    "### ROC curve\n",
    "\n",
    "FPR (false positive rate) is the ratio of negative instances that are incorrectly classified as positives. \n",
    "\n",
    "ROC curve plots recall (sensitivity) vs FPR (1 - TNR)\n",
    "\n",
    "True negative rate is called specificity. The ratio of negative examples that are correctly classified as negatives. "
   ]
  },
  {
   "cell_type": "code",
   "execution_count": 44,
   "id": "42827c2d-2919-46f4-b145-edcfab27273b",
   "metadata": {},
   "outputs": [],
   "source": [
    "from sklearn.metrics import roc_curve\n",
    "\n",
    "fpr, tpr, thresholds = roc_curve(tr_y, y_scores)"
   ]
  },
  {
   "cell_type": "code",
   "execution_count": 45,
   "id": "4af41acb-3d5d-4a68-9335-730a747dd7f2",
   "metadata": {},
   "outputs": [
    {
     "data": {
      "image/png": "[encoded data removed]",
      "text/plain": [
       "<Figure size 640x480 with 1 Axes>"
      ]
     },
     "metadata": {},
     "output_type": "display_data"
    }
   ],
   "source": [
    "def plot_roc_curve(fpr, tpr, label=None):\n",
    "    plt.plot(fpr, tpr, linewidth=2, label=label)\n",
    "    plt.plot([0, 1], [0, 1], 'k--')\n",
    "\n",
    "plot_roc_curve(fpr, tpr)\n",
    "plt.grid()\n",
    "plt.xlabel('False positive rate (1 - specificity)')\n",
    "plt.ylabel('sensitivity/recall')\n",
    "plt.show()"
   ]
  },
  {
   "cell_type": "code",
   "execution_count": 46,
   "id": "c455d602-9108-446e-aad0-bf52056d2bad",
   "metadata": {},
   "outputs": [
    {
     "data": {
      "text/plain": [
       "np.float64(0.9298713904392137)"
      ]
     },
     "execution_count": 46,
     "metadata": {},
     "output_type": "execute_result"
    }
   ],
   "source": [
    "from sklearn.metrics import roc_auc_score\n",
    "roc_auc_score(tr_y, y_scores)"
   ]
  },
  {
   "cell_type": "markdown",
   "id": "570fbb12-4871-4e1f-9a7a-f03159a20ce8",
   "metadata": {},
   "source": [
    "Whenever false positives are more important to consider or positive classes are rare then use precision-recall curve for performance metrics, \n",
    "otherwise use ROC curve. "
   ]
  },
  {
   "cell_type": "markdown",
   "id": "3ba0ca74-6314-4784-9cf2-3bfd93886cd8",
   "metadata": {},
   "source": [
    "### Error Analysis"
   ]
  },
  {
   "cell_type": "code",
   "execution_count": 47,
   "id": "74cd9493-ad3a-49a2-a41b-6442dcfd3aee",
   "metadata": {},
   "outputs": [],
   "source": [
    "pred_y = cross_val_predict(log_reg, tr_X, tr_y, cv=3)\n",
    "conf_mx = confusion_matrix(tr_y, pred_y)"
   ]
  },
  {
   "cell_type": "code",
   "execution_count": 48,
   "id": "b9ad876e-6012-46f5-b55e-dd0a46e8c74f",
   "metadata": {},
   "outputs": [
    {
     "data": {
      "text/plain": [
       "array([[295,  22],\n",
       "       [ 43, 152]])"
      ]
     },
     "execution_count": 48,
     "metadata": {},
     "output_type": "execute_result"
    }
   ],
   "source": [
    "conf_mx"
   ]
  },
  {
   "cell_type": "code",
   "execution_count": 49,
   "id": "adb43e12-3cbd-4e4a-b42f-88c7da377d37",
   "metadata": {},
   "outputs": [
    {
     "data": {
      "image/png": "[encoded data removed]",
      "text/plain": [
       "<Figure size 480x480 with 1 Axes>"
      ]
     },
     "metadata": {},
     "output_type": "display_data"
    }
   ],
   "source": [
    "plt.matshow(conf_mx, cmap=plt.cm.gray)\n",
    "plt.show()"
   ]
  },
  {
   "cell_type": "code",
   "execution_count": 50,
   "id": "a4004c3c-8b92-4d72-9cde-2b1c5ac4d753",
   "metadata": {},
   "outputs": [
    {
     "data": {
      "image/png": "[encoded data removed]",
      "text/plain": [
       "<Figure size 480x480 with 1 Axes>"
      ]
     },
     "metadata": {},
     "output_type": "display_data"
    }
   ],
   "source": [
    "row_sums = conf_mx.sum(axis=1, keepdims=True)\n",
    "norm_conf_mx = conf_mx / row_sums\n",
    "\n",
    "np.fill_diagonal(norm_conf_mx, 0)\n",
    "plt.matshow(norm_conf_mx, cmap=plt.cm.gray)\n",
    "plt.show()"
   ]
  },
  {
   "cell_type": "code",
   "execution_count": 51,
   "id": "55d15286-353f-48ad-81c8-57af245e1fca",
   "metadata": {},
   "outputs": [
    {
     "data": {
      "text/plain": [
       "array([[0.        , 0.06940063],\n",
       "       [0.22051282, 0.        ]])"
      ]
     },
     "execution_count": 51,
     "metadata": {},
     "output_type": "execute_result"
    }
   ],
   "source": [
    "norm_conf_mx"
   ]
  },
  {
   "cell_type": "markdown",
   "id": "7c647f37-798c-46ce-8049-d688140977e0",
   "metadata": {},
   "source": [
    "Find all the examples where actual datapoints are malignant but the model predicts them as benign, and investigate those features. See if by feature engineering keeping these examples in mind, can help improve our model. "
   ]
  },
  {
   "cell_type": "code",
   "execution_count": null,
   "id": "2b9df37d-4070-4596-a141-69b857bd2d21",
   "metadata": {},
   "outputs": [],
   "source": []
  },
  {
   "cell_type": "code",
   "execution_count": null,
   "id": "bc483091-bcb3-4602-99af-9a45213213a4",
   "metadata": {},
   "outputs": [],
   "source": []
  }
 ],
 "metadata": {
  "kernelspec": {
   "display_name": "Python 3 (ipykernel)",
   "language": "python",
   "name": "python3"
  },
  "language_info": {
   "codemirror_mode": {
    "name": "ipython",
    "version": 3
   },
   "file_extension": ".py",
   "mimetype": "text/x-python",
   "name": "python",
   "nbconvert_exporter": "python",
   "pygments_lexer": "ipython3",
   "version": "3.12.6"
  }
 },
 "nbformat": 4,
 "nbformat_minor": 5
}
