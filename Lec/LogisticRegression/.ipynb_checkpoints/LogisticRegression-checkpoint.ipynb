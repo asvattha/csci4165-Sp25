{
 "cells": [
  {
   "cell_type": "code",
   "execution_count": 1,
   "id": "36e67cd7-a2b8-49d7-a65c-499c2686bf06",
   "metadata": {},
   "outputs": [],
   "source": [
    "import pandas as pd\n",
    "import numpy as np\n",
    "import matplotlib.pyplot as plt\n",
    "import seaborn as sns"
   ]
  },
  {
   "cell_type": "code",
   "execution_count": 3,
   "id": "24aa2327-fc77-4b85-9d2b-fad8c9503d47",
   "metadata": {},
   "outputs": [
    {
     "data": {
      "text/plain": [
       "dict_keys(['data', 'target', 'frame', 'target_names', 'DESCR', 'feature_names', 'filename', 'data_module'])"
      ]
     },
     "execution_count": 3,
     "metadata": {},
     "output_type": "execute_result"
    }
   ],
   "source": [
    "import sklearn.datasets\n",
    "data_dict = sklearn.datasets.load_breast_cancer()\n",
    "data_dict.keys()"
   ]
  },
  {
   "cell_type": "code",
   "execution_count": 5,
   "id": "b906531a-f735-4bd1-8feb-f97bfff305fd",
   "metadata": {},
   "outputs": [
    {
     "data": {
      "text/html": [
       "<div>\n",
       "<style scoped>\n",
       "    .dataframe tbody tr th:only-of-type {\n",
       "        vertical-align: middle;\n",
       "    }\n",
       "\n",
       "    .dataframe tbody tr th {\n",
       "        vertical-align: top;\n",
       "    }\n",
       "\n",
       "    .dataframe thead th {\n",
       "        text-align: right;\n",
       "    }\n",
       "</style>\n",
       "<table border=\"1\" class=\"dataframe\">\n",
       "  <thead>\n",
       "    <tr style=\"text-align: right;\">\n",
       "      <th></th>\n",
       "      <th>mean radius</th>\n",
       "      <th>mean texture</th>\n",
       "      <th>mean perimeter</th>\n",
       "      <th>mean area</th>\n",
       "      <th>mean smoothness</th>\n",
       "      <th>mean compactness</th>\n",
       "      <th>mean concavity</th>\n",
       "      <th>mean concave points</th>\n",
       "      <th>mean symmetry</th>\n",
       "      <th>mean fractal dimension</th>\n",
       "      <th>...</th>\n",
       "      <th>worst radius</th>\n",
       "      <th>worst texture</th>\n",
       "      <th>worst perimeter</th>\n",
       "      <th>worst area</th>\n",
       "      <th>worst smoothness</th>\n",
       "      <th>worst compactness</th>\n",
       "      <th>worst concavity</th>\n",
       "      <th>worst concave points</th>\n",
       "      <th>worst symmetry</th>\n",
       "      <th>worst fractal dimension</th>\n",
       "    </tr>\n",
       "  </thead>\n",
       "  <tbody>\n",
       "    <tr>\n",
       "      <th>0</th>\n",
       "      <td>17.99</td>\n",
       "      <td>10.38</td>\n",
       "      <td>122.80</td>\n",
       "      <td>1001.0</td>\n",
       "      <td>0.11840</td>\n",
       "      <td>0.27760</td>\n",
       "      <td>0.3001</td>\n",
       "      <td>0.14710</td>\n",
       "      <td>0.2419</td>\n",
       "      <td>0.07871</td>\n",
       "      <td>...</td>\n",
       "      <td>25.38</td>\n",
       "      <td>17.33</td>\n",
       "      <td>184.60</td>\n",
       "      <td>2019.0</td>\n",
       "      <td>0.1622</td>\n",
       "      <td>0.6656</td>\n",
       "      <td>0.7119</td>\n",
       "      <td>0.2654</td>\n",
       "      <td>0.4601</td>\n",
       "      <td>0.11890</td>\n",
       "    </tr>\n",
       "    <tr>\n",
       "      <th>1</th>\n",
       "      <td>20.57</td>\n",
       "      <td>17.77</td>\n",
       "      <td>132.90</td>\n",
       "      <td>1326.0</td>\n",
       "      <td>0.08474</td>\n",
       "      <td>0.07864</td>\n",
       "      <td>0.0869</td>\n",
       "      <td>0.07017</td>\n",
       "      <td>0.1812</td>\n",
       "      <td>0.05667</td>\n",
       "      <td>...</td>\n",
       "      <td>24.99</td>\n",
       "      <td>23.41</td>\n",
       "      <td>158.80</td>\n",
       "      <td>1956.0</td>\n",
       "      <td>0.1238</td>\n",
       "      <td>0.1866</td>\n",
       "      <td>0.2416</td>\n",
       "      <td>0.1860</td>\n",
       "      <td>0.2750</td>\n",
       "      <td>0.08902</td>\n",
       "    </tr>\n",
       "    <tr>\n",
       "      <th>2</th>\n",
       "      <td>19.69</td>\n",
       "      <td>21.25</td>\n",
       "      <td>130.00</td>\n",
       "      <td>1203.0</td>\n",
       "      <td>0.10960</td>\n",
       "      <td>0.15990</td>\n",
       "      <td>0.1974</td>\n",
       "      <td>0.12790</td>\n",
       "      <td>0.2069</td>\n",
       "      <td>0.05999</td>\n",
       "      <td>...</td>\n",
       "      <td>23.57</td>\n",
       "      <td>25.53</td>\n",
       "      <td>152.50</td>\n",
       "      <td>1709.0</td>\n",
       "      <td>0.1444</td>\n",
       "      <td>0.4245</td>\n",
       "      <td>0.4504</td>\n",
       "      <td>0.2430</td>\n",
       "      <td>0.3613</td>\n",
       "      <td>0.08758</td>\n",
       "    </tr>\n",
       "    <tr>\n",
       "      <th>3</th>\n",
       "      <td>11.42</td>\n",
       "      <td>20.38</td>\n",
       "      <td>77.58</td>\n",
       "      <td>386.1</td>\n",
       "      <td>0.14250</td>\n",
       "      <td>0.28390</td>\n",
       "      <td>0.2414</td>\n",
       "      <td>0.10520</td>\n",
       "      <td>0.2597</td>\n",
       "      <td>0.09744</td>\n",
       "      <td>...</td>\n",
       "      <td>14.91</td>\n",
       "      <td>26.50</td>\n",
       "      <td>98.87</td>\n",
       "      <td>567.7</td>\n",
       "      <td>0.2098</td>\n",
       "      <td>0.8663</td>\n",
       "      <td>0.6869</td>\n",
       "      <td>0.2575</td>\n",
       "      <td>0.6638</td>\n",
       "      <td>0.17300</td>\n",
       "    </tr>\n",
       "    <tr>\n",
       "      <th>4</th>\n",
       "      <td>20.29</td>\n",
       "      <td>14.34</td>\n",
       "      <td>135.10</td>\n",
       "      <td>1297.0</td>\n",
       "      <td>0.10030</td>\n",
       "      <td>0.13280</td>\n",
       "      <td>0.1980</td>\n",
       "      <td>0.10430</td>\n",
       "      <td>0.1809</td>\n",
       "      <td>0.05883</td>\n",
       "      <td>...</td>\n",
       "      <td>22.54</td>\n",
       "      <td>16.67</td>\n",
       "      <td>152.20</td>\n",
       "      <td>1575.0</td>\n",
       "      <td>0.1374</td>\n",
       "      <td>0.2050</td>\n",
       "      <td>0.4000</td>\n",
       "      <td>0.1625</td>\n",
       "      <td>0.2364</td>\n",
       "      <td>0.07678</td>\n",
       "    </tr>\n",
       "  </tbody>\n",
       "</table>\n",
       "<p>5 rows × 30 columns</p>\n",
       "</div>"
      ],
      "text/plain": [
       "   mean radius  mean texture  mean perimeter  mean area  mean smoothness  \\\n",
       "0        17.99         10.38          122.80     1001.0          0.11840   \n",
       "1        20.57         17.77          132.90     1326.0          0.08474   \n",
       "2        19.69         21.25          130.00     1203.0          0.10960   \n",
       "3        11.42         20.38           77.58      386.1          0.14250   \n",
       "4        20.29         14.34          135.10     1297.0          0.10030   \n",
       "\n",
       "   mean compactness  mean concavity  mean concave points  mean symmetry  \\\n",
       "0           0.27760          0.3001              0.14710         0.2419   \n",
       "1           0.07864          0.0869              0.07017         0.1812   \n",
       "2           0.15990          0.1974              0.12790         0.2069   \n",
       "3           0.28390          0.2414              0.10520         0.2597   \n",
       "4           0.13280          0.1980              0.10430         0.1809   \n",
       "\n",
       "   mean fractal dimension  ...  worst radius  worst texture  worst perimeter  \\\n",
       "0                 0.07871  ...         25.38          17.33           184.60   \n",
       "1                 0.05667  ...         24.99          23.41           158.80   \n",
       "2                 0.05999  ...         23.57          25.53           152.50   \n",
       "3                 0.09744  ...         14.91          26.50            98.87   \n",
       "4                 0.05883  ...         22.54          16.67           152.20   \n",
       "\n",
       "   worst area  worst smoothness  worst compactness  worst concavity  \\\n",
       "0      2019.0            0.1622             0.6656           0.7119   \n",
       "1      1956.0            0.1238             0.1866           0.2416   \n",
       "2      1709.0            0.1444             0.4245           0.4504   \n",
       "3       567.7            0.2098             0.8663           0.6869   \n",
       "4      1575.0            0.1374             0.2050           0.4000   \n",
       "\n",
       "   worst concave points  worst symmetry  worst fractal dimension  \n",
       "0                0.2654          0.4601                  0.11890  \n",
       "1                0.1860          0.2750                  0.08902  \n",
       "2                0.2430          0.3613                  0.08758  \n",
       "3                0.2575          0.6638                  0.17300  \n",
       "4                0.1625          0.2364                  0.07678  \n",
       "\n",
       "[5 rows x 30 columns]"
      ]
     },
     "execution_count": 5,
     "metadata": {},
     "output_type": "execute_result"
    }
   ],
   "source": [
    "data = pd.DataFrame(data_dict['data'], columns=data_dict['feature_names'])\n",
    "data.head()"
   ]
  },
  {
   "cell_type": "code",
   "execution_count": 6,
   "id": "9382a669-e34b-4c52-9234-e01dcb3cef4e",
   "metadata": {},
   "outputs": [
    {
     "data": {
      "text/plain": [
       "(569, 30)"
      ]
     },
     "execution_count": 6,
     "metadata": {},
     "output_type": "execute_result"
    }
   ],
   "source": [
    "data.shape"
   ]
  },
  {
   "cell_type": "code",
   "execution_count": 7,
   "id": "ab0d6872-3f17-4c14-a188-d91578c43d77",
   "metadata": {},
   "outputs": [
    {
     "data": {
      "text/plain": [
       "(569,)"
      ]
     },
     "execution_count": 7,
     "metadata": {},
     "output_type": "execute_result"
    }
   ],
   "source": [
    "data_dict['target'].shape"
   ]
  },
  {
   "cell_type": "code",
   "execution_count": 20,
   "id": "9b1cbbb2-49b2-40fb-a535-59b616ac5371",
   "metadata": {},
   "outputs": [
    {
     "data": {
      "text/plain": [
       "array([0, 1, 1, 1, 1, 1, 0, 1, 0, 1])"
      ]
     },
     "execution_count": 20,
     "metadata": {},
     "output_type": "execute_result"
    }
   ],
   "source": [
    "np.random.choice(data_dict['target'], 10) # 0 is for malignant and 1 is for benign"
   ]
  },
  {
   "cell_type": "code",
   "execution_count": 34,
   "id": "964fc9e8-b138-43d0-853f-e81505a8e023",
   "metadata": {},
   "outputs": [],
   "source": [
    "data['isMalignant'] = data_dict['target'] == 0"
   ]
  },
  {
   "cell_type": "code",
   "execution_count": 35,
   "id": "c8d0b9ea-86ae-4dcb-a9e5-3ad35993d58b",
   "metadata": {},
   "outputs": [
    {
     "data": {
      "text/plain": [
       "Index(['mean radius', 'mean texture', 'mean perimeter', 'mean area',\n",
       "       'mean smoothness', 'mean compactness', 'mean concavity',\n",
       "       'mean concave points', 'mean symmetry', 'mean fractal dimension',\n",
       "       'radius error', 'texture error', 'perimeter error', 'area error',\n",
       "       'smoothness error', 'compactness error', 'concavity error',\n",
       "       'concave points error', 'symmetry error', 'fractal dimension error',\n",
       "       'worst radius', 'worst texture', 'worst perimeter', 'worst area',\n",
       "       'worst smoothness', 'worst compactness', 'worst concavity',\n",
       "       'worst concave points', 'worst symmetry', 'worst fractal dimension',\n",
       "       'isMalignant'],\n",
       "      dtype='object')"
      ]
     },
     "execution_count": 35,
     "metadata": {},
     "output_type": "execute_result"
    }
   ],
   "source": [
    "data.columns"
   ]
  },
  {
   "cell_type": "markdown",
   "id": "12662ccd-4881-42ba-acd4-1bb5b565f04c",
   "metadata": {},
   "source": [
    "### Feature Selection\n",
    "\n",
    "What features could be good for our classifier? \n",
    "\n",
    "- A good approach would be to gain some domain knowledge about each of this features,\n",
    "- Explore each feature (such as correlation between features and(or) label)\n",
    "- Use cross-validation to find the best features. \n",
    "\n",
    "Here, a good starting point could be the size of the tumor (`mean radius`). As, larger tumors are probably more likely to be malignant. "
   ]
  },
  {
   "cell_type": "code",
   "execution_count": 37,
   "id": "d83c3ebb-9c1e-418e-93e9-08bc83fd9dc5",
   "metadata": {},
   "outputs": [
    {
     "data": {
      "text/plain": [
       "<matplotlib.collections.PathCollection at 0x7f485f53b9a0>"
      ]
     },
     "execution_count": 37,
     "metadata": {},
     "output_type": "execute_result"
    },
    {
     "data": {
      "image/png": "[encoded data removed]",
      "text/plain": [
       "<Figure size 432x288 with 1 Axes>"
      ]
     },
     "metadata": {
      "needs_background": "light"
     },
     "output_type": "display_data"
    }
   ],
   "source": [
    "x = data['mean radius']\n",
    "y = data['isMalignant']\n",
    "plt.scatter(x, y)"
   ]
  },
  {
   "cell_type": "markdown",
   "id": "fae7c04a-1a09-41d2-a553-8105ebd5e971",
   "metadata": {},
   "source": [
    "Since lots of points are plotted on top of each other, it's hard ot see how the values are distributed. We can add some jitter, transparency to see the points. "
   ]
  },
  {
   "cell_type": "code",
   "execution_count": 38,
   "id": "32e5505d-8461-47f8-ad05-f98a9f4a7725",
   "metadata": {},
   "outputs": [],
   "source": [
    "def jitter(data, offset=0.1):\n",
    "    return data + offset * np.random.rand(len(data)) - offset/2.0"
   ]
  },
  {
   "cell_type": "code",
   "execution_count": 40,
   "id": "eb36e420-a968-49e2-875a-b8540f487661",
   "metadata": {},
   "outputs": [
    {
     "data": {
      "image/png": "[encoded data removed]",
      "text/plain": [
       "<Figure size 432x288 with 1 Axes>"
      ]
     },
     "metadata": {
      "needs_background": "light"
     },
     "output_type": "display_data"
    }
   ],
   "source": [
    "x = data['mean radius']\n",
    "y = jitter(data['isMalignant'])\n",
    "plt.scatter(x, y, alpha=0.5, s=0.5)\n",
    "plt.grid()\n",
    "plt.show()"
   ]
  },
  {
   "cell_type": "code",
   "execution_count": 73,
   "id": "a590c4b7-854e-435c-9c3b-21cd9700763c",
   "metadata": {},
   "outputs": [
    {
     "data": {
      "image/png": "[encoded data removed]",
      "text/plain": [
       "<Figure size 432x288 with 1 Axes>"
      ]
     },
     "metadata": {
      "needs_background": "light"
     },
     "output_type": "display_data"
    }
   ],
   "source": [
    "sns.histplot(data, x='mean radius', binwidth=0.5, stat='density', kde=True, hue='isMalignant')\n",
    "plt.show()"
   ]
  },
  {
   "cell_type": "markdown",
   "id": "ddc90e47-ae0b-40dd-af01-ed0190aabdb6",
   "metadata": {},
   "source": [
    "What can you deduce from the histogram above?"
   ]
  },
  {
   "cell_type": "markdown",
   "id": "4b113801-f6d6-4517-9a3f-4d9d11a87c0d",
   "metadata": {},
   "source": [
    "### Train-test split"
   ]
  },
  {
   "cell_type": "code",
   "execution_count": 76,
   "id": "608974a4-e95a-419a-a3da-80bebd1dd303",
   "metadata": {},
   "outputs": [
    {
     "name": "stdout",
     "output_type": "stream",
     "text": [
      "Training Data Size:  512\n",
      "Test Data Size:  57\n"
     ]
    }
   ],
   "source": [
    "from sklearn.model_selection import train_test_split\n",
    "data_tr, data_te = train_test_split(data, test_size=0.10, random_state=42)\n",
    "print(\"Training Data Size: \", len(data_tr))\n",
    "print(\"Test Data Size: \", len(data_te))"
   ]
  },
  {
   "cell_type": "code",
   "execution_count": 112,
   "id": "072fda32-1fbb-4771-a50d-e4548db43afa",
   "metadata": {},
   "outputs": [],
   "source": [
    "tr_X = data_tr[['mean radius']].to_numpy()\n",
    "tr_y = data_tr['isMalignant'].to_numpy()"
   ]
  },
  {
   "cell_type": "code",
   "execution_count": 179,
   "id": "ad1ee8aa-6007-4e6f-a49d-01edecb6f797",
   "metadata": {},
   "outputs": [],
   "source": [
    "te_X = data_te[['mean radius']].to_numpy()\n",
    "te_y = data_te['isMalignant'].to_numpy()"
   ]
  },
  {
   "cell_type": "code",
   "execution_count": 180,
   "id": "adf53a75-0bc4-4865-bfee-86e91568a237",
   "metadata": {},
   "outputs": [
    {
     "data": {
      "text/plain": [
       "((512, 1), (512,))"
      ]
     },
     "execution_count": 180,
     "metadata": {},
     "output_type": "execute_result"
    }
   ],
   "source": [
    "tr_X.shape, tr_y.shape"
   ]
  },
  {
   "cell_type": "code",
   "execution_count": 181,
   "id": "b04571c6-1834-43e7-8bda-e027a8ab1cdb",
   "metadata": {},
   "outputs": [
    {
     "data": {
      "text/plain": [
       "((57, 1), (57,))"
      ]
     },
     "execution_count": 181,
     "metadata": {},
     "output_type": "execute_result"
    }
   ],
   "source": [
    "te_X.shape, te_y.shape"
   ]
  },
  {
   "cell_type": "code",
   "execution_count": 84,
   "id": "3c3c63a3-f6be-4bc0-8fdb-3471f431dfee",
   "metadata": {},
   "outputs": [],
   "source": [
    "from sklearn.linear_model import LinearRegression"
   ]
  },
  {
   "cell_type": "code",
   "execution_count": 114,
   "id": "a519290e-c6c8-480a-8fa9-17162ddd214f",
   "metadata": {},
   "outputs": [
    {
     "data": {
      "text/plain": [
       "LinearRegression()"
      ]
     },
     "execution_count": 114,
     "metadata": {},
     "output_type": "execute_result"
    }
   ],
   "source": [
    "lin_reg = LinearRegression()\n",
    "lin_reg.fit(tr_X, tr_y)"
   ]
  },
  {
   "cell_type": "code",
   "execution_count": 115,
   "id": "7ad57520-e44d-49d0-a81b-75a56e7d102b",
   "metadata": {},
   "outputs": [
    {
     "data": {
      "text/plain": [
       "(array([0.09876376]), -1.0188425819755598)"
      ]
     },
     "execution_count": 115,
     "metadata": {},
     "output_type": "execute_result"
    }
   ],
   "source": [
    "lin_reg.coef_, lin_reg.intercept_"
   ]
  },
  {
   "cell_type": "code",
   "execution_count": 124,
   "id": "0d45fcca-8c42-4724-b6ef-affafb522d08",
   "metadata": {},
   "outputs": [
    {
     "data": {
      "text/plain": [
       "(512,)"
      ]
     },
     "execution_count": 124,
     "metadata": {},
     "output_type": "execute_result"
    }
   ],
   "source": [
    "tr_X[:,0].shape"
   ]
  },
  {
   "cell_type": "code",
   "execution_count": 134,
   "id": "e387b9b6-78ba-44bd-b99c-8794e865a70f",
   "metadata": {},
   "outputs": [
    {
     "data": {
      "image/png": "[encoded data removed]",
      "text/plain": [
       "<Figure size 432x288 with 1 Axes>"
      ]
     },
     "metadata": {
      "needs_background": "light"
     },
     "output_type": "display_data"
    }
   ],
   "source": [
    "x = np.linspace(0, 30, 100)\n",
    "y = lin_reg.coef_[0] * x + lin_reg.intercept_\n",
    "plt.plot(x, y, c='black')\n",
    "sns.scatterplot(x=tr_X[:,0], y=jitter(tr_y), alpha=0.8, s=5, hue=tr_y)\n",
    "plt.grid()\n",
    "plt.show()"
   ]
  },
  {
   "cell_type": "markdown",
   "id": "5c03bf63-f461-4fab-85ee-1132882e2433",
   "metadata": {},
   "source": [
    "### Performance Metrics"
   ]
  },
  {
   "cell_type": "code",
   "execution_count": 132,
   "id": "203bceb3-afae-446b-9a84-52d3e967ddbc",
   "metadata": {},
   "outputs": [
    {
     "name": "stdout",
     "output_type": "stream",
     "text": [
      "Training RMSE:  0.33705673123730695\n"
     ]
    }
   ],
   "source": [
    "from sklearn.metrics import mean_squared_error as mse\n",
    "\n",
    "pred_y = lin_reg.predict(tr_X)\n",
    "print(\"Training RMSE: \", np.sqrt(mse(tr_y, pred_y)))"
   ]
  },
  {
   "cell_type": "markdown",
   "id": "9bb9733d-98ee-43d3-bafb-51e1e30f40be",
   "metadata": {},
   "source": [
    "It's hard to interpret this RMSE value in context of a classification task. \n",
    "\n",
    "A error value between [0-1] can tell us, how confident a model is about a particular predicted label. It's hard to capture such notion with RMSE. "
   ]
  },
  {
   "cell_type": "code",
   "execution_count": 133,
   "id": "c2d4cdc1-0c78-4ad0-b1c9-6cb3a531ae6a",
   "metadata": {},
   "outputs": [],
   "source": [
    "actual_pred_y = pred_y > 0.5 # decision boundary"
   ]
  },
  {
   "cell_type": "code",
   "execution_count": 165,
   "id": "05a76352-79ee-44c0-8545-ca5a56f4469f",
   "metadata": {},
   "outputs": [
    {
     "data": {
      "image/png": "[encoded data removed]",
      "text/plain": [
       "<Figure size 432x288 with 1 Axes>"
      ]
     },
     "metadata": {
      "needs_background": "light"
     },
     "output_type": "display_data"
    }
   ],
   "source": [
    "x = np.linspace(0, 30, 100)\n",
    "y = lin_reg.coef_[0] * x + lin_reg.intercept_\n",
    "plt.plot(x, y, c='black')\n",
    "\n",
    "y = np.linspace(-1, 2, 100)\n",
    "x = [(0.5 - lin_reg.intercept_)/lin_reg.coef_[0]]*len(y)\n",
    "plt.plot(x, y, 'm--')\n",
    "\n",
    "x = (0.5 - lin_reg.intercept_)/lin_reg.coef_[0]\n",
    "sns.scatterplot(x=tr_X[tr_X[:,0] < x].flatten(), y=jitter(tr_y[tr_X[:, 0] < x]), alpha=0.8, s=5, color='blue', label='benign')\n",
    "sns.scatterplot(x=tr_X[tr_X[:,0] > x].flatten(), y=jitter(tr_y[tr_X[:, 0] > x]), alpha=0.8, s=5, color='red', label='malignant')\n",
    "plt.legend()\n",
    "plt.grid()\n",
    "plt.show()"
   ]
  },
  {
   "cell_type": "code",
   "execution_count": 169,
   "id": "e951c47a-90d7-4cd9-a933-43393b5cfcd5",
   "metadata": {},
   "outputs": [
    {
     "data": {
      "text/plain": [
       "0.865234375"
      ]
     },
     "execution_count": 169,
     "metadata": {},
     "output_type": "execute_result"
    }
   ],
   "source": [
    "accuracy = np.sum(tr_y == actual_pred_y) / len(tr_y)\n",
    "accuracy"
   ]
  },
  {
   "cell_type": "markdown",
   "id": "96380356-2651-487d-9e26-31619208bd42",
   "metadata": {},
   "source": [
    "Are we happy with this prediction model? \n",
    "\n",
    "### What is the baseline model?"
   ]
  },
  {
   "cell_type": "code",
   "execution_count": 175,
   "id": "fed16a48-0011-437e-8753-eca18e72216c",
   "metadata": {},
   "outputs": [
    {
     "data": {
      "text/plain": [
       "(array([False,  True]), array([317, 195]))"
      ]
     },
     "execution_count": 175,
     "metadata": {},
     "output_type": "execute_result"
    }
   ],
   "source": [
    "unique, counts = np.unique(tr_y, return_counts=True)\n",
    "unique, counts"
   ]
  },
  {
   "cell_type": "code",
   "execution_count": 174,
   "id": "0d33cfaa-ee2a-4cbf-a7d9-24f3dbe22538",
   "metadata": {},
   "outputs": [
    {
     "data": {
      "text/plain": [
       "array([61.9140625, 38.0859375])"
      ]
     },
     "execution_count": 174,
     "metadata": {},
     "output_type": "execute_result"
    }
   ],
   "source": [
    "counts/len(tr_y) * 100"
   ]
  },
  {
   "cell_type": "markdown",
   "id": "d24f1a88-a8de-42a7-b0a3-10d48634f9a9",
   "metadata": {},
   "source": [
    "### Class imbalance\n",
    "\n",
    "Class imbalance when you have disproportionate fraction of the samples in one class. \n",
    "In many cases, (such as fraud detection) you will only have very tiny fraction of training data, that may contain examples in particular class. \n",
    "\n",
    "In such case, we can always achieve high accuracy by just predicting all data points with the frequent label, without needing any good classifier. This is not good approach, as our model will have less effectiveness in detecting rare data points. \n",
    "\n",
    "#### Addressing class imbalance:\n",
    "- You should use stratified sampling to make sure your train-test split has similar representation as your population. \n",
    "- Try learning algorithm that are a little more robust to class imbalance (eg. decision trees)\n",
    "- Adjust the loss function to put a larger penalty on the smaller class. "
   ]
  },
  {
   "cell_type": "markdown",
   "id": "5099b4c9-3289-4095-8d88-7f6539ee5cd9",
   "metadata": {},
   "source": [
    "### Logistic Regression"
   ]
  },
  {
   "cell_type": "code",
   "execution_count": 176,
   "id": "7edf08ab-d025-4efd-a4ca-1a375aa4a5a4",
   "metadata": {},
   "outputs": [
    {
     "data": {
      "text/plain": [
       "LogisticRegression()"
      ]
     },
     "execution_count": 176,
     "metadata": {},
     "output_type": "execute_result"
    }
   ],
   "source": [
    "from sklearn.linear_model import LogisticRegression\n",
    "log_reg = LogisticRegression()\n",
    "log_reg.fit(tr_X, tr_y)"
   ]
  },
  {
   "cell_type": "code",
   "execution_count": 177,
   "id": "20bd873f-9c0c-4ed8-84e9-1eb8e2ebd96f",
   "metadata": {},
   "outputs": [
    {
     "data": {
      "text/plain": [
       "0.869140625"
      ]
     },
     "execution_count": 177,
     "metadata": {},
     "output_type": "execute_result"
    }
   ],
   "source": [
    "pred_y = log_reg.predict(tr_X)\n",
    "accuracy = np.sum(tr_y == pred_y) / len(tr_y)\n",
    "accuracy"
   ]
  },
  {
   "cell_type": "code",
   "execution_count": 182,
   "id": "61d7e528-63a9-4294-bb60-92f00bdbce9c",
   "metadata": {},
   "outputs": [
    {
     "data": {
      "text/plain": [
       "0.9473684210526315"
      ]
     },
     "execution_count": 182,
     "metadata": {},
     "output_type": "execute_result"
    }
   ],
   "source": [
    "np.sum(te_y == log_reg.predict(te_X)) / len(te_y)"
   ]
  },
  {
   "cell_type": "markdown",
   "id": "ea8d1a93-ca4a-430b-b38f-6d05d121998a",
   "metadata": {},
   "source": [
    "### Performance metrics \n",
    "\n",
    "**Precision** is the fraction of true positives among the total number of data points predicted as positive. Eg: video safe for kids\n",
    "\n",
    "**Recall (aka sensitivity)** is the fraction of true positives among the total number of data points with positive labels. Eg: catching shoplifters\n",
    "\n",
    "Precision measures the ability of our model to not predict negative samples as positive; in other words reduce false positives. \n",
    "\n",
    "Recall mesaures the ability of our model to find all the positive samples. \n",
    "\n",
    "What is the relationship between precision and recall? "
   ]
  },
  {
   "cell_type": "code",
   "execution_count": 183,
   "id": "d4786b33-0edf-4415-8c50-81f1825596b0",
   "metadata": {},
   "outputs": [
    {
     "data": {
      "text/plain": [
       "array([[294,  23],\n",
       "       [ 44, 151]])"
      ]
     },
     "execution_count": 183,
     "metadata": {},
     "output_type": "execute_result"
    }
   ],
   "source": [
    "from sklearn.metrics import confusion_matrix\n",
    "confusion_matrix(tr_y, pred_y)"
   ]
  },
  {
   "cell_type": "code",
   "execution_count": 187,
   "id": "9e6273da-1c40-481f-b8b7-06f811b7c704",
   "metadata": {},
   "outputs": [
    {
     "data": {
      "text/plain": [
       "0.867816091954023"
      ]
     },
     "execution_count": 187,
     "metadata": {},
     "output_type": "execute_result"
    }
   ],
   "source": [
    "from sklearn.metrics import precision_score, recall_score, f1_score\n",
    "precision_score(tr_y, pred_y) # 151 / (151+23)"
   ]
  },
  {
   "cell_type": "code",
   "execution_count": 186,
   "id": "ac99f22c-f072-4106-83e4-48eac8c76278",
   "metadata": {},
   "outputs": [
    {
     "data": {
      "text/plain": [
       "0.7743589743589744"
      ]
     },
     "execution_count": 186,
     "metadata": {},
     "output_type": "execute_result"
    }
   ],
   "source": [
    "recall_score(tr_y, pred_y) # 151 / (151 + 44)"
   ]
  },
  {
   "cell_type": "code",
   "execution_count": 189,
   "id": "739281ca-05aa-447c-88a4-9596378a6375",
   "metadata": {},
   "outputs": [
    {
     "data": {
      "text/plain": [
       "0.8184281842818428"
      ]
     },
     "execution_count": 189,
     "metadata": {},
     "output_type": "execute_result"
    }
   ],
   "source": [
    "f1_score(tr_y, pred_y) # similar precision and recall"
   ]
  },
  {
   "cell_type": "markdown",
   "id": "f52e7f9b-2632-4fa1-bb6b-8b2acc148cbe",
   "metadata": {},
   "source": [
    "### Precision/Recall Tradeoff"
   ]
  },
  {
   "cell_type": "code",
   "execution_count": 196,
   "id": "acda6db8-091e-451a-8955-4c71306759c5",
   "metadata": {},
   "outputs": [],
   "source": [
    "from sklearn.model_selection import cross_val_predict\n",
    "y_scores = cross_val_predict(log_reg, tr_X, tr_y, cv=3, method=\"decision_function\")"
   ]
  },
  {
   "cell_type": "code",
   "execution_count": 203,
   "id": "37d16715-db1f-4e44-b496-9a481c1ddd92",
   "metadata": {},
   "outputs": [
    {
     "data": {
      "image/png": "[encoded data removed]",
      "text/plain": [
       "<Figure size 432x288 with 1 Axes>"
      ]
     },
     "metadata": {
      "needs_background": "light"
     },
     "output_type": "display_data"
    }
   ],
   "source": [
    "from sklearn.metrics import precision_recall_curve\n",
    "precisions, recalls, thresholds = precision_recall_curve(tr_y, y_scores)\n",
    "\n",
    "def plot_precision_recall_vs_threshold(precisions, recalls, thresholds):\n",
    "    plt.plot(thresholds, precisions[:-1], \"b--\", label=\"Precision\")\n",
    "    plt.plot(thresholds, recalls[:-1], \"g-\", label=\"Recall\")\n",
    "    \n",
    "plot_precision_recall_vs_threshold(precisions, recalls, thresholds)\n",
    "plt.xlabel('Threshold')\n",
    "plt.legend()\n",
    "plt.grid()\n",
    "plt.show()"
   ]
  },
  {
   "cell_type": "code",
   "execution_count": 193,
   "id": "3baa734e-5380-4e90-bbf8-e1c3dd356046",
   "metadata": {},
   "outputs": [
    {
     "data": {
      "text/plain": [
       "(array([0.38085938, 0.86781609, 1.        ]),\n",
       " array([1.        , 0.77435897, 0.        ]),\n",
       " array([False,  True]))"
      ]
     },
     "execution_count": 193,
     "metadata": {},
     "output_type": "execute_result"
    }
   ],
   "source": [
    "precisions, recalls, thresholds"
   ]
  },
  {
   "cell_type": "code",
   "execution_count": 207,
   "id": "7edd6476-b810-47c7-8b1c-8f55e668e699",
   "metadata": {},
   "outputs": [
    {
     "data": {
      "image/png": "[encoded data removed]",
      "text/plain": [
       "<Figure size 432x288 with 1 Axes>"
      ]
     },
     "metadata": {
      "needs_background": "light"
     },
     "output_type": "display_data"
    }
   ],
   "source": [
    "plt.plot(recalls, precisions)\n",
    "plt.xlabel('Recall')\n",
    "plt.ylabel('Precision')\n",
    "plt.grid()\n",
    "plt.show()"
   ]
  },
  {
   "cell_type": "code",
   "execution_count": 210,
   "id": "0ca380e0-3dd4-448d-a6b9-ea044843886c",
   "metadata": {},
   "outputs": [],
   "source": [
    "threshold_90_precision = thresholds[np.argmax(precisions >= 0.90)]"
   ]
  },
  {
   "cell_type": "code",
   "execution_count": 211,
   "id": "198d7dec-6faa-4d67-a478-e9d2bab7d40f",
   "metadata": {},
   "outputs": [],
   "source": [
    "tr_y_pred_90 = (y_scores >= threshold_90_precision)"
   ]
  },
  {
   "cell_type": "code",
   "execution_count": 212,
   "id": "a95dbda2-eec3-4366-8eab-1c37a8317f28",
   "metadata": {},
   "outputs": [
    {
     "data": {
      "text/plain": [
       "0.9024390243902439"
      ]
     },
     "execution_count": 212,
     "metadata": {},
     "output_type": "execute_result"
    }
   ],
   "source": [
    "precision_score(tr_y, tr_y_pred_90)"
   ]
  },
  {
   "cell_type": "code",
   "execution_count": 213,
   "id": "bde4bbd5-6032-43e3-8e48-838433a7e72b",
   "metadata": {},
   "outputs": [
    {
     "data": {
      "text/plain": [
       "0.7589743589743589"
      ]
     },
     "execution_count": 213,
     "metadata": {},
     "output_type": "execute_result"
    }
   ],
   "source": [
    "recall_score(tr_y, tr_y_pred_90)"
   ]
  },
  {
   "cell_type": "markdown",
   "id": "acec024e-31bf-45ec-b1da-ec2a66509a77",
   "metadata": {},
   "source": [
    "### ROC curve\n",
    "\n",
    "FPR (false positive rate) is the ratio of negative instances that are incorrectly classified as positives. \n",
    "\n",
    "ROC curve plots recall (sensitivity) vs FPR (1 - TNR)\n",
    "\n",
    "True negative rate is called specificity. The ratio of negative examples that are correctly classified as negatives. "
   ]
  },
  {
   "cell_type": "code",
   "execution_count": 214,
   "id": "42827c2d-2919-46f4-b145-edcfab27273b",
   "metadata": {},
   "outputs": [],
   "source": [
    "from sklearn.metrics import roc_curve\n",
    "\n",
    "fpr, tpr, thresholds = roc_curve(tr_y, y_scores)"
   ]
  },
  {
   "cell_type": "code",
   "execution_count": 226,
   "id": "4af41acb-3d5d-4a68-9335-730a747dd7f2",
   "metadata": {},
   "outputs": [
    {
     "data": {
      "image/png": "[encoded data removed]",
      "text/plain": [
       "<Figure size 432x288 with 1 Axes>"
      ]
     },
     "metadata": {
      "needs_background": "light"
     },
     "output_type": "display_data"
    }
   ],
   "source": [
    "def plot_roc_curve(fpr, tpr, label=None):\n",
    "    plt.plot(fpr, tpr, linewidth=2, label=label)\n",
    "    plt.plot([0, 1], [0, 1], 'k--')\n",
    "\n",
    "plot_roc_curve(fpr, tpr)\n",
    "plt.grid()\n",
    "plt.xlabel('False positive rate (1 - specificity)')\n",
    "plt.ylabel('sensitivity/recall')\n",
    "plt.show()"
   ]
  },
  {
   "cell_type": "code",
   "execution_count": 218,
   "id": "c455d602-9108-446e-aad0-bf52056d2bad",
   "metadata": {},
   "outputs": [
    {
     "data": {
      "text/plain": [
       "0.9298713904392137"
      ]
     },
     "execution_count": 218,
     "metadata": {},
     "output_type": "execute_result"
    }
   ],
   "source": [
    "from sklearn.metrics import roc_auc_score\n",
    "roc_auc_score(tr_y, y_scores)"
   ]
  },
  {
   "cell_type": "markdown",
   "id": "570fbb12-4871-4e1f-9a7a-f03159a20ce8",
   "metadata": {},
   "source": [
    "Whenever false positives are more important to consider or positive classes are rare then use precision-recall curve for performance metrics, \n",
    "otherwise use ROC curve. "
   ]
  },
  {
   "cell_type": "markdown",
   "id": "3ba0ca74-6314-4784-9cf2-3bfd93886cd8",
   "metadata": {},
   "source": [
    "### Error Analysis"
   ]
  },
  {
   "cell_type": "code",
   "execution_count": 219,
   "id": "74cd9493-ad3a-49a2-a41b-6442dcfd3aee",
   "metadata": {},
   "outputs": [],
   "source": [
    "pred_y = cross_val_predict(log_reg, tr_X, tr_y, cv=3)\n",
    "conf_mx = confusion_matrix(tr_y, pred_y)"
   ]
  },
  {
   "cell_type": "code",
   "execution_count": 220,
   "id": "b9ad876e-6012-46f5-b55e-dd0a46e8c74f",
   "metadata": {},
   "outputs": [
    {
     "data": {
      "text/plain": [
       "array([[295,  22],\n",
       "       [ 43, 152]])"
      ]
     },
     "execution_count": 220,
     "metadata": {},
     "output_type": "execute_result"
    }
   ],
   "source": [
    "conf_mx"
   ]
  },
  {
   "cell_type": "code",
   "execution_count": 221,
   "id": "adb43e12-3cbd-4e4a-b42f-88c7da377d37",
   "metadata": {},
   "outputs": [
    {
     "data": {
      "image/png": "[encoded data removed]",
      "text/plain": [
       "<Figure size 288x288 with 1 Axes>"
      ]
     },
     "metadata": {
      "needs_background": "light"
     },
     "output_type": "display_data"
    }
   ],
   "source": [
    "plt.matshow(conf_mx, cmap=plt.cm.gray)\n",
    "plt.show()"
   ]
  },
  {
   "cell_type": "code",
   "execution_count": 223,
   "id": "a4004c3c-8b92-4d72-9cde-2b1c5ac4d753",
   "metadata": {},
   "outputs": [
    {
     "data": {
      "image/png": "[encoded data removed]",
      "text/plain": [
       "<Figure size 288x288 with 1 Axes>"
      ]
     },
     "metadata": {
      "needs_background": "light"
     },
     "output_type": "display_data"
    }
   ],
   "source": [
    "row_sums = conf_mx.sum(axis=1, keepdims=True)\n",
    "norm_conf_mx = conf_mx / row_sums\n",
    "\n",
    "np.fill_diagonal(norm_conf_mx, 0)\n",
    "plt.matshow(norm_conf_mx, cmap=plt.cm.gray)\n",
    "plt.show()"
   ]
  },
  {
   "cell_type": "code",
   "execution_count": 224,
   "id": "55d15286-353f-48ad-81c8-57af245e1fca",
   "metadata": {},
   "outputs": [
    {
     "data": {
      "text/plain": [
       "array([[0.        , 0.06940063],\n",
       "       [0.22051282, 0.        ]])"
      ]
     },
     "execution_count": 224,
     "metadata": {},
     "output_type": "execute_result"
    }
   ],
   "source": [
    "norm_conf_mx"
   ]
  },
  {
   "cell_type": "markdown",
   "id": "7c647f37-798c-46ce-8049-d688140977e0",
   "metadata": {},
   "source": [
    "Find all the examples where actual datapoints are malignant but the model predicts them as benign, and investigate those features. See if by feature engineering keeping these examples in mind, can help improve our model. "
   ]
  },
  {
   "cell_type": "code",
   "execution_count": null,
   "id": "2b9df37d-4070-4596-a141-69b857bd2d21",
   "metadata": {},
   "outputs": [],
   "source": []
  }
 ],
 "metadata": {
  "kernelspec": {
   "display_name": "Python 3 (ipykernel)",
   "language": "python",
   "name": "python3"
  },
  "language_info": {
   "codemirror_mode": {
    "name": "ipython",
    "version": 3
   },
   "file_extension": ".py",
   "mimetype": "text/x-python",
   "name": "python",
   "nbconvert_exporter": "python",
   "pygments_lexer": "ipython3",
   "version": "3.9.12"
  }
 },
 "nbformat": 4,
 "nbformat_minor": 5
}
