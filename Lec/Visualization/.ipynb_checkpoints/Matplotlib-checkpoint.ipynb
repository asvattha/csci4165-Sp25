{
 "cells": [
  {
   "cell_type": "markdown",
   "id": "b0e8c956-f7f9-4199-8f21-aabbdb9ea71c",
   "metadata": {},
   "source": [
    "# Data Visualization\n",
    "\n",
    "What? \n",
    "Visualization is a graphical summary about a data/findings. \n",
    "\n",
    "Why?\n",
    "- Human brain is good in recognizing patterns in images than looking into raw data. \n",
    "- Excellent plots directly helps in making decisions\n",
    "- Good visualization is not an easy task\n",
    "\n",
    "How?\n",
    "To visualize data, we are going to use a widely used data analytics package, **matplotlib**.\n",
    "\n",
    "Matplotlib provides many different kinds of 2D and 3D plots that are useful for data analysis tasks. It offeres flexibility to create complex plots. \n",
    "\n",
    "Let's first try to understand the structure of matplotlib. It has mainly three layers. "
   ]
  },
  {
   "cell_type": "code",
   "execution_count": 1,
   "id": "3c746744-6bdd-4349-acf0-46c4e5f67770",
   "metadata": {},
   "outputs": [
    {
     "data": {
      "text/plain": [
       "<AxesSubplot:xlabel='Age', ylabel='Fare'>"
      ]
     },
     "execution_count": 1,
     "metadata": {},
     "output_type": "execute_result"
    },
    {
     "data": {
      "image/png": "[encoded data removed]",
      "text/plain": [
       "<Figure size 432x288 with 1 Axes>"
      ]
     },
     "metadata": {
      "needs_background": "light"
     },
     "output_type": "display_data"
    }
   ],
   "source": [
    "import pandas as pd\n",
    "titanic = pd.read_csv('../data/titanic.csv')\n",
    "titanic.plot.scatter('Age', 'Fare')\n",
    "# What can you conclude from this visualization? "
   ]
  },
  {
   "cell_type": "markdown",
   "id": "ca2af072-e60a-4f2e-97bb-9a6f41847273",
   "metadata": {},
   "source": [
    "Goal of Data Visualization: \n",
    "- to help your own understanding (for data exploration)\n",
    "- to communicate or convey results "
   ]
  },
  {
   "cell_type": "markdown",
   "id": "46f0d4c8-dc70-4962-9426-6b2cb7a25cee",
   "metadata": {},
   "source": [
    "## **Matplotlib Architecture**\n",
    "\n",
    "### Backend Layer\n",
    "Matplotlib has a backend which is responsible for rendering plots on screen or files. \n",
    "\n",
    "The jupyter notebook uses the inline backend to display the matplotlib on the browser. \n",
    "Although, we are not going to use the matplotlib backend object directly, but it is \n",
    "useful to know that the different kind of plot rendering requires different matplotlib backend.\n",
    "\n",
    "This layer mainly has three abstract classes:\n",
    "- FigureCanvas: defines the area on which the figure is drawn\n",
    "- Renderer: it is the tool to draw on FigureCanvas\n",
    "- Event: Handles user inputs such as keyboard strokes and mouse clicks\n",
    "\n",
    "For more info, read [matplotlib backend](https://matplotlib.org/stable/users/explain/backends.html). "
   ]
  },
  {
   "cell_type": "code",
   "execution_count": 2,
   "id": "44565de9-385e-4202-af33-03ba2442558e",
   "metadata": {},
   "outputs": [
    {
     "data": {
      "text/plain": [
       "'module://matplotlib_inline.backend_inline'"
      ]
     },
     "execution_count": 2,
     "metadata": {},
     "output_type": "execute_result"
    }
   ],
   "source": [
    "%matplotlib inline\n",
    "\n",
    "import matplotlib as mpl\n",
    "mpl.get_backend()"
   ]
  },
  {
   "cell_type": "markdown",
   "id": "bce8df12-ae92-4f42-9b2a-1e1fadb98b41",
   "metadata": {},
   "source": [
    "### Artist Layer\n",
    "Artist layer is composed of one object call **Artist**.<br>\n",
    "_Everything that we see on a plot produced by matplotlib is an Artist instance_. <br>\n",
    "Titles, lines, texts, axis labels are all instances of Artist class. \n",
    "**Figure** is the main Artist instance that holds everything together. Think of it as a container which holds the components of a plot together. Other containers are Subplot , Axes etc. \n",
    "\n",
    "Broadly, there are two types of Artist objects:\n",
    "- primitive objects such as a Line2D and Rectangle\n",
    "- collection objetcts such as PathCollection "
   ]
  },
  {
   "cell_type": "code",
   "execution_count": 3,
   "id": "b254a303-1c08-4fc1-8d69-ad8f2cd454ab",
   "metadata": {},
   "outputs": [
    {
     "data": {
      "image/png": "[encoded data removed]",
      "text/plain": [
       "<Figure size 720x432 with 1 Axes>"
      ]
     },
     "metadata": {
      "needs_background": "light"
     },
     "output_type": "display_data"
    }
   ],
   "source": [
    "import matplotlib.pyplot as plt\n",
    "fig = plt.figure(figsize = (10, 6)) # created a figure \n",
    "ax = fig.add_subplot(111) # inside figure container, contains the axes object"
   ]
  },
  {
   "cell_type": "markdown",
   "id": "f16dfba9-e456-47f7-b351-ba54a737e383",
   "metadata": {},
   "source": [
    "### Scripting Layer\n",
    "\n",
    "This is the layer that we are most commonly going to work with. It is the matplotlib.pyplot interface. Thus, when we create plots with **plt** after the following command, scripting layer is what we play with. \n",
    "\n",
    "``import matplotlib.pyplot as plt``\n",
    "\n",
    "Scripting layer stiches everything (Artist objects) together automatically, and thus is easier to use than the Artist layer. \n",
    "\n",
    "You can plot using either Artist layer objects (object-oriented style) or pyplot interface (pyplot style). "
   ]
  },
  {
   "cell_type": "code",
   "execution_count": 4,
   "id": "23ac3404-665b-49c5-84e4-726688647564",
   "metadata": {},
   "outputs": [],
   "source": [
    "### Basic plotting with Matplotlib\n",
    "\n",
    "from matplotlib.backends.backend_agg import FigureCanvasAgg\n",
    "from matplotlib.figure import Figure\n",
    "\n",
    "fig = Figure()\n",
    "canvas = FigureCanvasAgg(fig)\n",
    "\n",
    "ax = fig.add_subplot(111)\n",
    "ax.plot(3, 2, '.')\n",
    "canvas.print_png('test.png')"
   ]
  },
  {
   "cell_type": "code",
   "execution_count": 5,
   "id": "3c60f6e2-4202-44ab-84b3-9193b09e826a",
   "metadata": {},
   "outputs": [
    {
     "data": {
      "text/html": [
       "<img src = 'test.png' />\n"
      ],
      "text/plain": [
       "<IPython.core.display.HTML object>"
      ]
     },
     "metadata": {},
     "output_type": "display_data"
    }
   ],
   "source": [
    "%%html\n",
    "<img src = 'test.png' />"
   ]
  },
  {
   "cell_type": "code",
   "execution_count": 6,
   "id": "dc0580ab-74e3-450b-a90d-493402258cf6",
   "metadata": {},
   "outputs": [
    {
     "data": {
      "text/plain": [
       "[<matplotlib.lines.Line2D at 0x7fb399d02c40>]"
      ]
     },
     "execution_count": 6,
     "metadata": {},
     "output_type": "execute_result"
    },
    {
     "data": {
      "image/png": "[encoded data removed]",
      "text/plain": [
       "<Figure size 432x288 with 1 Axes>"
      ]
     },
     "metadata": {
      "needs_background": "light"
     },
     "output_type": "display_data"
    }
   ],
   "source": [
    "# the same thing can be done easily using Scripting layer\n",
    "\n",
    "plt.figure() # gets the current figure object, or else create one Figure object\n",
    "plt.plot(3, 2, 'o')\n"
   ]
  },
  {
   "cell_type": "markdown",
   "id": "eab50131-a841-4f71-adb4-a8ecafd75b5d",
   "metadata": {},
   "source": [
    "You can even access the Axes object of this Figure object, and can use the instances of Axes object such as axis ranges, or title, x-label, y-label etc to make modifications to the plot. "
   ]
  },
  {
   "cell_type": "code",
   "execution_count": 7,
   "id": "2b116949-51e3-48e7-ac9c-68818b4a914b",
   "metadata": {},
   "outputs": [
    {
     "data": {
      "text/plain": [
       "[<matplotlib.lines.Line2D at 0x7fb399c7b4f0>]"
      ]
     },
     "execution_count": 7,
     "metadata": {},
     "output_type": "execute_result"
    },
    {
     "data": {
      "image/png": "[encoded data removed]",
      "text/plain": [
       "<Figure size 432x288 with 1 Axes>"
      ]
     },
     "metadata": {
      "needs_background": "light"
     },
     "output_type": "display_data"
    }
   ],
   "source": [
    "# For eg:\n",
    "ax = plt.gca() # get current axes of the Figure object\n",
    "ax.axis([0,6,-3,3]) # set x-axis from [0,6] and y-axis from [-3, 3]\n",
    "ax.plot(3, 2, 'o')\n",
    "\n",
    "#note: here how scripting layer, is interacting with the Artist layer objects Axes."
   ]
  },
  {
   "cell_type": "code",
   "execution_count": 8,
   "id": "378cc48b-481e-4096-822a-45ddbec6bb20",
   "metadata": {},
   "outputs": [
    {
     "data": {
      "text/plain": [
       "[<matplotlib.lines.Line2D at 0x7fb399c7b4f0>,\n",
       " <matplotlib.spines.Spine at 0x7fb399ccd1f0>,\n",
       " <matplotlib.spines.Spine at 0x7fb399ccd310>,\n",
       " <matplotlib.spines.Spine at 0x7fb399ccd430>,\n",
       " <matplotlib.spines.Spine at 0x7fb399ccd550>,\n",
       " <matplotlib.axis.XAxis at 0x7fb399ccd190>,\n",
       " <matplotlib.axis.YAxis at 0x7fb399ccdac0>,\n",
       " Text(0.5, 1.0, ''),\n",
       " Text(0.0, 1.0, ''),\n",
       " Text(1.0, 1.0, ''),\n",
       " <matplotlib.patches.Rectangle at 0x7fb399ce01f0>]"
      ]
     },
     "execution_count": 8,
     "metadata": {},
     "output_type": "execute_result"
    }
   ],
   "source": [
    "# you can also check the children that Axes object container is holding by :\n",
    "ax.get_children()"
   ]
  },
  {
   "cell_type": "markdown",
   "id": "e62713c5-2aa6-4904-b5c5-8add1b4e3acc",
   "metadata": {},
   "source": [
    "### Scatterplots\n",
    "\n",
    "Matplotlib provides different useful methods to plot data in various ways. We are going to cover some of the important ones here, namely, scatterplots, lineplots, barcharts, histograms, heatmaps, geographical data, etc. \n",
    "\n",
    "**Scatterplot** is a 2D plot of various data points. "
   ]
  },
  {
   "cell_type": "code",
   "execution_count": 9,
   "id": "97e6f9a9-de24-47db-a5cb-a888d3758260",
   "metadata": {},
   "outputs": [
    {
     "data": {
      "text/plain": [
       "<matplotlib.collections.PathCollection at 0x7fb399c5cbe0>"
      ]
     },
     "execution_count": 9,
     "metadata": {},
     "output_type": "execute_result"
    },
    {
     "data": {
      "image/png": "[encoded data removed]",
      "text/plain": [
       "<Figure size 432x288 with 1 Axes>"
      ]
     },
     "metadata": {
      "needs_background": "light"
     },
     "output_type": "display_data"
    }
   ],
   "source": [
    "# For eg: \n",
    "import numpy as np\n",
    "x = np.arange(0,5)\n",
    "y = np.arange(0,5)\n",
    "\n",
    "plt.figure()\n",
    "plt.scatter(x, y)\n",
    "\n",
    "# can add colors to these points:\n",
    "colors = ['green'] * (len(x) - 1) + ['red']\n",
    "plt.scatter(x, y, c = colors, s = 100) # c to assign color to data points, and s to increase size\n",
    "\n",
    "# please read the documentation of plt.scatter to find what various parameters it can take"
   ]
  },
  {
   "cell_type": "code",
   "execution_count": 10,
   "id": "dd7cfe9d-05a2-478e-a18a-4ecf59c43c10",
   "metadata": {},
   "outputs": [
    {
     "data": {
      "text/plain": [
       "((0, 1, 2, 3, 4), (0, 1, 2, 3, 4))"
      ]
     },
     "execution_count": 10,
     "metadata": {},
     "output_type": "execute_result"
    }
   ],
   "source": [
    "data = zip(x, y)\n",
    "x, y = zip(*data)\n",
    "x, y"
   ]
  },
  {
   "cell_type": "code",
   "execution_count": 11,
   "id": "c8178cab-3e6e-411f-b96f-112dacc2063a",
   "metadata": {},
   "outputs": [
    {
     "data": {
      "text/plain": [
       "<matplotlib.collections.PathCollection at 0x7fb399bdc790>"
      ]
     },
     "execution_count": 11,
     "metadata": {},
     "output_type": "execute_result"
    },
    {
     "data": {
      "image/png": "[encoded data removed]",
      "text/plain": [
       "<Figure size 432x288 with 1 Axes>"
      ]
     },
     "metadata": {
      "needs_background": "light"
     },
     "output_type": "display_data"
    }
   ],
   "source": [
    "# You can plot points in the same plot using multiple scatterplots\n",
    "\n",
    "plt.figure()\n",
    "plt.scatter(x[:3], y[:3], c = 'red', s = 100)\n",
    "plt.scatter(x[3:], y[3:], c = 'green', s = 100)"
   ]
  },
  {
   "cell_type": "code",
   "execution_count": 12,
   "id": "c14bac75-a47f-4db3-b66a-a3ed3687b148",
   "metadata": {},
   "outputs": [
    {
     "data": {
      "text/plain": [
       "Text(0.5, 1.0, 'Some relationship')"
      ]
     },
     "execution_count": 12,
     "metadata": {},
     "output_type": "execute_result"
    },
    {
     "data": {
      "image/png": "[encoded data removed]",
      "text/plain": [
       "<Figure size 432x288 with 1 Axes>"
      ]
     },
     "metadata": {
      "needs_background": "light"
     },
     "output_type": "display_data"
    }
   ],
   "source": [
    "plt.figure()\n",
    "plt.scatter(x[:3], y[:3], c = 'red', s = 100)\n",
    "plt.scatter(x[3:], y[3:], c = 'green', s = 100)\n",
    "plt.xlabel('The grade of the student')\n",
    "plt.ylabel('Frequency ')\n",
    "plt.title('Some relationship')"
   ]
  },
  {
   "cell_type": "code",
   "execution_count": 13,
   "id": "8c1deac9-5cbf-4194-a00f-c6a57232220d",
   "metadata": {},
   "outputs": [
    {
     "data": {
      "text/plain": [
       "<matplotlib.legend.Legend at 0x7fb399b4bfa0>"
      ]
     },
     "execution_count": 13,
     "metadata": {},
     "output_type": "execute_result"
    },
    {
     "data": {
      "image/png": "[encoded data removed]",
      "text/plain": [
       "<Figure size 432x288 with 1 Axes>"
      ]
     },
     "metadata": {
      "needs_background": "light"
     },
     "output_type": "display_data"
    }
   ],
   "source": [
    "plt.figure()\n",
    "plt.scatter(x[:3], y[:3], c = 'red', s = 100, label = 'in-state')\n",
    "plt.scatter(x[3:], y[3:], c = 'green', s = 100, label = 'out-state')\n",
    "plt.xlabel('The grade of the student')\n",
    "plt.ylabel('Frequency ')\n",
    "plt.title('Some relationship')\n",
    "plt.legend(loc = 4, frameon=True, title='Legend')"
   ]
  },
  {
   "cell_type": "markdown",
   "id": "4bd94551-9d3a-4e86-8222-220141dc752e",
   "metadata": {},
   "source": [
    "### Line plots\n",
    "\n",
    "It looks like scatterplots, but each data points are connected with a line. "
   ]
  },
  {
   "cell_type": "code",
   "execution_count": 14,
   "id": "e545742f-cff9-4833-bb76-8cf102447283",
   "metadata": {},
   "outputs": [
    {
     "data": {
      "text/plain": [
       "[<matplotlib.lines.Line2D at 0x7fb399a88670>]"
      ]
     },
     "execution_count": 14,
     "metadata": {},
     "output_type": "execute_result"
    },
    {
     "data": {
      "image/png": "[encoded data removed]",
      "text/plain": [
       "<Figure size 432x288 with 1 Axes>"
      ]
     },
     "metadata": {
      "needs_background": "light"
     },
     "output_type": "display_data"
    }
   ],
   "source": [
    "import numpy as np\n",
    "\n",
    "data = np.arange(1, 9)\n",
    "data_squared = data ** 2\n",
    "\n",
    "plt.figure()\n",
    "plt.plot(data, '-o')\n",
    "plt.plot(data_squared, '-x')\n",
    "plt.plot([2, 15, 5], '--r')\n",
    "\n",
    "# create label and title and legend for this plot"
   ]
  },
  {
   "cell_type": "code",
   "execution_count": 15,
   "id": "063eeaf5-1074-49ca-9638-943a7efd1579",
   "metadata": {},
   "outputs": [
    {
     "data": {
      "text/plain": [
       "<matplotlib.collections.PolyCollection at 0x7fb3999f31f0>"
      ]
     },
     "execution_count": 15,
     "metadata": {},
     "output_type": "execute_result"
    },
    {
     "data": {
      "image/png": "[encoded data removed]",
      "text/plain": [
       "<Figure size 432x288 with 1 Axes>"
      ]
     },
     "metadata": {
      "needs_background": "light"
     },
     "output_type": "display_data"
    }
   ],
   "source": [
    "# you can also fill color between different line plots using fill_between function\n",
    "\n",
    "plt.gca().fill_between(range(len(data)), data, data_squared, facecolor='blue', alpha=0.5)"
   ]
  },
  {
   "cell_type": "code",
   "execution_count": 16,
   "id": "4b861257-1768-48cc-9144-2b0d10a13f26",
   "metadata": {},
   "outputs": [
    {
     "data": {
      "text/plain": [
       "[<matplotlib.lines.Line2D at 0x7fb3999d7c10>]"
      ]
     },
     "execution_count": 16,
     "metadata": {},
     "output_type": "execute_result"
    },
    {
     "data": {
      "image/png": "[encoded data removed]",
      "text/plain": [
       "<Figure size 432x288 with 1 Axes>"
      ]
     },
     "metadata": {
      "needs_background": "light"
     },
     "output_type": "display_data"
    }
   ],
   "source": [
    "import pandas as pd\n",
    "\n",
    "dates = pd.date_range('2021-01-09', '2022-05-03', freq='M')\n",
    "\n",
    "x = np.arange(len(dates))\n",
    "plt.plot(list(dates), x, '-o')"
   ]
  },
  {
   "cell_type": "code",
   "execution_count": 17,
   "id": "972fa312-d22e-4c12-b267-05e4a8a8df55",
   "metadata": {},
   "outputs": [
    {
     "data": {
      "image/png": "[encoded data removed]",
      "text/plain": [
       "<Figure size 432x288 with 1 Axes>"
      ]
     },
     "metadata": {
      "needs_background": "light"
     },
     "output_type": "display_data"
    }
   ],
   "source": [
    "import pandas as pd\n",
    "\n",
    "dates = pd.date_range('2021-01-09', '2022-05-03', freq='M')\n",
    "\n",
    "x = np.arange(len(dates))\n",
    "plt.plot(list(dates), x, '-o')\n",
    "\n",
    "ax = plt.gca() # get the Axes object\n",
    "xaxis = ax.xaxis # with Axes object, get the XAxis object\n",
    "\n",
    "for item in xaxis.get_ticklabels(): # get all xaxis labels \n",
    "    item.set_rotation(45) # rotate the text\n",
    "    "
   ]
  },
  {
   "cell_type": "code",
   "execution_count": 18,
   "id": "38b4ef2a-e8e9-4767-9cc8-231425d9b991",
   "metadata": {},
   "outputs": [],
   "source": [
    "### Bar charts"
   ]
  },
  {
   "cell_type": "code",
   "execution_count": 34,
   "id": "f30a0086-db2b-451f-9e76-66aa8cf27c0f",
   "metadata": {},
   "outputs": [
    {
     "data": {
      "image/png": "[encoded data removed]",
      "text/plain": [
       "<Figure size 432x288 with 1 Axes>"
      ]
     },
     "metadata": {
      "needs_background": "light"
     },
     "output_type": "display_data"
    }
   ],
   "source": [
    "data = np.arange(1, 9)\n",
    "data_squared = data ** 2\n",
    "\n",
    "plt.figure()\n",
    "xvals = range(len(data))\n",
    "plt.bar(xvals, data, width=0.3)\n",
    "\n",
    "text = [50, 60, 70, 90, 80, 100, 110, 120]\n",
    "i = 0\n",
    "for item in plt.gca().get_children()[0: 8]:\n",
    "    \n",
    "    plt.text(item.get_x() + 0.1, item.get_height(), str(text[i]) , weight = 'bold', ha='center')\n",
    "    i+=1"
   ]
  },
  {
   "cell_type": "code",
   "execution_count": 35,
   "id": "31505a88-42d7-49db-9c1b-4c50e1620311",
   "metadata": {},
   "outputs": [
    {
     "data": {
      "text/plain": [
       "<BarContainer object of 8 artists>"
      ]
     },
     "execution_count": 35,
     "metadata": {},
     "output_type": "execute_result"
    },
    {
     "data": {
      "image/png": "[encoded data removed]",
      "text/plain": [
       "<Figure size 432x288 with 1 Axes>"
      ]
     },
     "metadata": {
      "needs_background": "light"
     },
     "output_type": "display_data"
    }
   ],
   "source": [
    "data = np.arange(1, 9)\n",
    "data_squared = data ** 2\n",
    "\n",
    "plt.figure()\n",
    "xvals = range(len(data))\n",
    "plt.bar(xvals, data, width=0.3)\n",
    "\n",
    "new_xvals = []\n",
    "for item in xvals:\n",
    "    new_xvals.append(item + 0.3)\n",
    "    \n",
    "plt.bar(new_xvals, data_squared, width = 0.3, color = 'red')"
   ]
  },
  {
   "cell_type": "code",
   "execution_count": 21,
   "id": "9a4b821e-51c7-4490-a87f-8532b24c747b",
   "metadata": {},
   "outputs": [
    {
     "data": {
      "text/plain": [
       "<BarContainer object of 8 artists>"
      ]
     },
     "execution_count": 21,
     "metadata": {},
     "output_type": "execute_result"
    },
    {
     "data": {
      "image/png": "[encoded data removed]",
      "text/plain": [
       "<Figure size 432x288 with 1 Axes>"
      ]
     },
     "metadata": {
      "needs_background": "light"
     },
     "output_type": "display_data"
    }
   ],
   "source": [
    "# you can even plot stacked bar \n",
    "plt.figure()\n",
    "xvals = range(len(data))\n",
    "plt.bar(xvals, data, width = 0.3, color = 'b')\n",
    "plt.bar(xvals, data_squared, width = 0.3, color = 'r', bottom = data)"
   ]
  },
  {
   "cell_type": "code",
   "execution_count": 22,
   "id": "fa2830b0-0080-40b9-bb99-60281b314946",
   "metadata": {},
   "outputs": [
    {
     "data": {
      "text/plain": [
       "<BarContainer object of 8 artists>"
      ]
     },
     "execution_count": 22,
     "metadata": {},
     "output_type": "execute_result"
    },
    {
     "data": {
      "image/png": "[encoded data removed]",
      "text/plain": [
       "<Figure size 432x288 with 1 Axes>"
      ]
     },
     "metadata": {
      "needs_background": "light"
     },
     "output_type": "display_data"
    }
   ],
   "source": [
    "# you can also plot horizontal bar plots using barh\n",
    "\n",
    "plt.figure()\n",
    "xvals = range(len(data))\n",
    "plt.barh(xvals, data, height = 0.3, color = 'b')\n",
    "plt.barh(xvals, data_squared, height = 0.3, color = 'r', left = data)"
   ]
  },
  {
   "cell_type": "code",
   "execution_count": 23,
   "id": "7620adbe-8dbd-47af-b403-eac770952239",
   "metadata": {},
   "outputs": [
    {
     "data": {
      "text/plain": [
       "[<matplotlib.lines.Line2D at 0x7fb39962bac0>]"
      ]
     },
     "execution_count": 23,
     "metadata": {},
     "output_type": "execute_result"
    },
    {
     "data": {
      "image/png": "[encoded data removed]",
      "text/plain": [
       "<Figure size 432x288 with 2 Axes>"
      ]
     },
     "metadata": {
      "needs_background": "light"
     },
     "output_type": "display_data"
    }
   ],
   "source": [
    "# Subplots\n",
    "\n",
    "#Sometimes you would like to plot two plots side by side to compare between them. \n",
    "\n",
    "plt.figure()\n",
    "plt.subplot(1, 2, 1)\n",
    "\n",
    "plt.plot(data, '-o')\n",
    "#plt.plot(data_squared, '-o')\n",
    "\n",
    "plt.subplot(1, 2, 2)\n",
    "plt.plot(data_squared, '-o')\n",
    "\n",
    "# this is confusing and misleading\n",
    "# use same y axis\n"
   ]
  },
  {
   "cell_type": "code",
   "execution_count": 24,
   "id": "5593d722-f8fb-4e47-b653-6da1e0285e08",
   "metadata": {},
   "outputs": [
    {
     "data": {
      "text/plain": [
       "[<matplotlib.lines.Line2D at 0x7fb3998fe130>]"
      ]
     },
     "execution_count": 24,
     "metadata": {},
     "output_type": "execute_result"
    },
    {
     "data": {
      "image/png": "[encoded data removed]",
      "text/plain": [
       "<Figure size 432x288 with 2 Axes>"
      ]
     },
     "metadata": {
      "needs_background": "light"
     },
     "output_type": "display_data"
    }
   ],
   "source": [
    "# Subplots\n",
    "\n",
    "#Sometimes you would like to plot two plots side by side to compare between them. \n",
    "\n",
    "plt.figure()\n",
    "ax1 = plt.subplot(1, 2, 1)\n",
    "\n",
    "plt.plot(data, '-o')\n",
    "#plt.plot(data_squared, '-o')\n",
    "\n",
    "plt.subplot(1, 2, 2, sharey = ax1)\n",
    "plt.plot(data_squared, '-o')"
   ]
  },
  {
   "cell_type": "code",
   "execution_count": 25,
   "id": "9842d4ce-062d-4979-932e-d25b07a34b6f",
   "metadata": {},
   "outputs": [
    {
     "data": {
      "text/plain": [
       "[<matplotlib.lines.Line2D at 0x7fb3994f19a0>]"
      ]
     },
     "execution_count": 25,
     "metadata": {},
     "output_type": "execute_result"
    },
    {
     "data": {
      "image/png": "[encoded data removed]",
      "text/plain": [
       "<Figure size 432x288 with 4 Axes>"
      ]
     },
     "metadata": {
      "needs_background": "light"
     },
     "output_type": "display_data"
    }
   ],
   "source": [
    "# You can also create grid of subplot\n",
    "\n",
    "fig, ((ax1, ax2), (ax3, ax4)) = plt.subplots(2, 2, sharex = True, sharey = True)\n",
    "ax3.plot(data)"
   ]
  },
  {
   "cell_type": "code",
   "execution_count": 26,
   "id": "3810f737-656f-448e-b8d4-3b8b4ddf8c18",
   "metadata": {},
   "outputs": [
    {
     "data": {
      "image/png": "[encoded data removed]",
      "text/plain": [
       "<Figure size 432x288 with 4 Axes>"
      ]
     },
     "metadata": {
      "needs_background": "light"
     },
     "output_type": "display_data"
    }
   ],
   "source": [
    "# Histograms\n",
    "fig, ((ax1, ax2), (ax3, ax4)) = plt.subplots(2, 2, sharex = True)\n",
    "axs = [ax1, ax2, ax3, ax4]\n",
    "\n",
    "\n",
    "sample_size = [10, 100, 1000, 10000]\n",
    "for i in range(len(sample_size)):\n",
    "    samples = np.random.normal(loc = 0.0, scale = 1.0, size = sample_size[i])\n",
    "    axs[i].hist(samples) # with no bins\n",
    "    axs[i].set_title('n={}'.format(sample_size[i]))\n",
    "    "
   ]
  },
  {
   "cell_type": "code",
   "execution_count": 27,
   "id": "a5ae3281-ea8e-4b48-b9a3-b19d66f9e521",
   "metadata": {},
   "outputs": [],
   "source": [
    "# Box plots\n",
    "\n",
    "df = pd.read_csv('../data/titanic.csv')"
   ]
  },
  {
   "cell_type": "code",
   "execution_count": 28,
   "id": "72668afa-4a1a-43ff-aeb1-ca603c870c3c",
   "metadata": {},
   "outputs": [
    {
     "data": {
      "text/plain": [
       "{'bodies': [<matplotlib.collections.PolyCollection at 0x7fb39926b580>],\n",
       " 'cmaxes': <matplotlib.collections.LineCollection at 0x7fb39951b8b0>,\n",
       " 'cmins': <matplotlib.collections.LineCollection at 0x7fb39926bbe0>,\n",
       " 'cbars': <matplotlib.collections.LineCollection at 0x7fb39926bfa0>}"
      ]
     },
     "execution_count": 28,
     "metadata": {},
     "output_type": "execute_result"
    },
    {
     "data": {
      "image/png": "[encoded data removed]",
      "text/plain": [
       "<Figure size 432x288 with 1 Axes>"
      ]
     },
     "metadata": {
      "needs_background": "light"
     },
     "output_type": "display_data"
    }
   ],
   "source": [
    "plt.figure()\n",
    "plt.boxplot(df['Age'].dropna())\n",
    "plt.violinplot(df['Age'].dropna())"
   ]
  },
  {
   "cell_type": "code",
   "execution_count": 29,
   "id": "310f6fd4-2b5d-4c7f-9c54-6e4e8d8f7acf",
   "metadata": {},
   "outputs": [
    {
     "data": {
      "text/plain": [
       "{'bodies': [<matplotlib.collections.PolyCollection at 0x7fb399284a60>],\n",
       " 'cmaxes': <matplotlib.collections.LineCollection at 0x7fb399290ac0>,\n",
       " 'cmins': <matplotlib.collections.LineCollection at 0x7fb399255970>,\n",
       " 'cbars': <matplotlib.collections.LineCollection at 0x7fb399255d30>}"
      ]
     },
     "execution_count": 29,
     "metadata": {},
     "output_type": "execute_result"
    },
    {
     "data": {
      "image/png": "[encoded data removed]",
      "text/plain": [
       "<Figure size 432x288 with 1 Axes>"
      ]
     },
     "metadata": {
      "needs_background": "light"
     },
     "output_type": "display_data"
    }
   ],
   "source": [
    "plt.violinplot(df['Age'].dropna())"
   ]
  },
  {
   "cell_type": "code",
   "execution_count": 30,
   "id": "2864deb3-8e2c-4bc9-b5ba-fb23f56e8a47",
   "metadata": {},
   "outputs": [],
   "source": [
    "# Heatmap\n",
    "\n",
    "df = df.dropna()"
   ]
  },
  {
   "cell_type": "code",
   "execution_count": 31,
   "id": "f4a82dae-0c58-4fcf-9fdc-1f182a8b6a3e",
   "metadata": {},
   "outputs": [
    {
     "data": {
      "image/png": "[encoded data removed]",
      "text/plain": [
       "<Figure size 432x288 with 2 Axes>"
      ]
     },
     "metadata": {
      "needs_background": "light"
     },
     "output_type": "display_data"
    }
   ],
   "source": [
    "plt.figure()\n",
    "_ = plt.hist2d(df['Age'], df['Fare'], bins = 10)\n",
    "_ = plt.colorbar()"
   ]
  },
  {
   "cell_type": "markdown",
   "id": "a6f62cda-fa3d-4306-8f30-d493276f7600",
   "metadata": {},
   "source": [
    "# Visualizing Amounts or Proportions\n",
    "\n",
    "## *Bar plots*\n",
    "\n",
    "When one of the axis represent categories and the other represents counts of it or proportion of it then, you may use bar plots. \n",
    "\n",
    "<img src=\"images/bar1.png\" alt=\"drawing\" width=\"500\"/>\n",
    "<img src=\"images/bar2.png\" alt=\"drawing\" width=\"500\"/>\n",
    "\n",
    "If the categories are nominal, then you should sort it. However, if the categories are ordinal, then don't do it.\n",
    "\n",
    "\n",
    "<img src=\"images/bar4.png\" alt=\"drawing\" width=\"400\"/>     <img src=\"images/bar5.png\" alt=\"drawing\" width=\"400\"/>   \n",
    "\n",
    "If the axis labels are long, the you can swap the axis, in that case, your bar plot will be horizontal.\n",
    "\n",
    "<img src=\"images/bar3.png\" alt=\"drawing\" width=\"500\"/>\n",
    "\n",
    "* All bar plots should start with 0 *\n",
    "\n",
    "<img src=\"images/bar_0.png\" alt=\"drawing\" width=\"400\"/> <img src=\"images/bar_1.png\" alt=\"drawing\" width=\"400\"/>\n",
    "\n",
    "If possible then try to reduce ink for non-data elements in the plots. \n",
    "\n",
    "<img src=\"images/bar9.png\" alt=\"drawing\" width=\"400\"/> <img src=\"images/tips6.png\" alt=\"drawing\" width=\"400\"/>\n",
    "\n",
    "### _Grouped and stacked bars_\n",
    "<img src=\"images/bar6.png\" alt=\"drawing\" width=\"500\"/>\n",
    "<img src=\"images/bar7.png\" alt=\"drawing\" width=\"500\"/>\n",
    "<img src=\"images/bar8.png\" alt=\"drawing\" width=\"500\"/>\n",
    "\n",
    "\n",
    "*If shaded region is used to represent numerical values, then the area of the shaded region should be proportional to the numerical value*\n",
    "\n",
    "*If values are in different magnitude, then plotting them into log-scale or square-root scale is a good idea.*\n",
    "<img src=\"images/dot1.png\" alt=\"drawing\" width=\"400\"/> <img src=\"images/dot3.png\" alt=\"drawing\" width=\"400\"/>\n",
    "\n",
    "*If the bars are too long then try to use dot plots. \n",
    "\n",
    "<img src=\"images/dots1.png\" alt=\"drawing\" width=\"300\"/>\n",
    "\n",
    "- Only stack upto two bars together only \n",
    "- Some  other ways to visualizing proportions are stacked densities (read further).\n",
    "- For nested proportions, you may use mosaic plots, tree maps or parallel sets. (read further)\n",
    "\n",
    "Example of stacked densities:\n",
    "\n",
    "<img src=\"images/dens5.png\" alt=\"drawing\" width=\"400\"/>\n",
    "\n",
    "<img src=\"images/dens6.png\" alt=\"drawing\" width=\"300\"/>\n",
    "\n",
    "\n",
    "Finally, you can also use heatmaps to represent amounts, especially when you have 2 categories, along x and y, and value along z-axis, in that case, the values are represented as colors. \n",
    "\n",
    "<img src=\"images/heat1.png\" alt=\"drawing\" width=\"400\"/>"
   ]
  },
  {
   "cell_type": "markdown",
   "id": "b687d856-a745-413e-9b6a-051e6aead004",
   "metadata": {},
   "source": [
    "# Visualizing Distributions\n",
    "\n",
    "If you are interested to know how the values in a particular column is distributed, you can use histogram. \n",
    "Histograms y-axis represents the counts of the values that fall within certain range (called bins) along x-axis. \n",
    "It can also be used to represent the empirical probability distribution by setting the value of y-axis from 0 to 1, in that case, the y-axis can be treated as probability values. In matplotlib, you can do this by setting the parameter ``normed = True``. \n",
    "\n",
    "<img src=\"images/hist1.png\" alt=\"drawing\" width=\"400\"/>\n",
    "<img src=\"images/hist2.png\" alt=\"drawing\" width=\"400\"/>\n",
    "\n",
    "Histogram plots can be used as representation of the data, but not the true distribution of the data, as the plot may vary depending on the size of the bin. If the bin-width is small, the you see more busy graph, whereas if it is wide, the values which are less frequent are less prevelant. \n",
    "\n",
    "<img src=\"images/hist3.png\" alt=\"drawing\" width=\"300\"/>\n",
    "\n",
    "The other similar and popular form of visualizing data distribution is the density plot. The density plot estimates a distribution at each data point and the sum of all those estimates are shown as a continuous density graph. You can treat it as a continuous form of histogram plot. \n",
    "\n",
    "However, you need to be careful about the density plot on the edges, as sometimes, the edges may represent a value for which data doesn't exist or doesn't make any senese. \n",
    "\n",
    "<img src=\"images/hist4.png\" alt=\"drawing\" width=\"300\"/>\n",
    "\n",
    "Like histogram plots, density plots are also sensitive to the density __bandwidth__. \n",
    "\n",
    "<img src=\"images/hist5.png\" alt=\"drawing\" width=\"300\"/>\n",
    "\n",
    "If you want to visualize multiple distributions at once, you may use density plots separately or if the axis are same, then you can visualize them all together. \n",
    "\n",
    "<img src=\"images/dens1.png\" alt=\"drawing\" width=\"400\"/> <img src=\"images/dens2.png\" alt=\"drawing\" width=\"400\"/>\n",
    "\n",
    "If you want to visualize multiple plots at the same time, for eg: you would like to compare the distributions of many data columns together, you can use box plots. \n",
    "\n",
    "<img src=\"images/box1.png\" alt=\"drawing\" width=\"300\"/>\n",
    "\n",
    "Further more, you can also use violin plots. Violin plots also captures if the data has multimodality. \n",
    "\n",
    "<img src=\"images/violin2.png\" alt=\"drawing\" width=\"300\"/>\n",
    "\n",
    "You can also use strip plot, sino plot in violin plots if the data size is small or moderate. \n",
    "\n",
    "If you want to represent multiple distibutions for one or more plots staggered together over time, then you can use density plots. \n",
    "\n",
    "<img src=\"images/dens4.png\" alt=\"drawing\" width=\"400\"/>\n",
    "\n",
    "Other good ways of visualizing distributions are empirical cumulative distribution function or q-q plot. "
   ]
  },
  {
   "cell_type": "markdown",
   "id": "b9137caf-69df-4f08-88ee-d5dbbbc5054a",
   "metadata": {},
   "source": [
    "## *Visualizing x-y relationship*\n",
    "\n",
    "Scatter plots are good to visualize how a data point depending on x and y value is distributed, it also shows the true distibution of the data and not estimate (such as mean, variance). However, it only works when data size is small. \n",
    "When data size is large, then many dots would lie on top of each other. \n",
    "You can mitigate this issue by changing the colors of the dots transparently, or adding a little jitter to the data, however, they are not best ways to handle it. \n",
    "\n",
    "Therefore, when data size is large, then hist2D plots or contour plots are better options. \n",
    "<img src=\"images/tips3.png\" alt=\"drawing\" width=\"400\"/> <img src=\"images/tips4.png\" alt=\"drawing\" width=\"400\"/>\n",
    "\n",
    "<img src=\"images/tips7.png\" alt=\"drawing\" width=\"500\"/>\n",
    "\n",
    "\n",
    "You can also visualize many columns at once by taking subsets of them. Such plots are also called small multiples. \n",
    "\n",
    "<img src=\"images/tips8.png\" alt=\"drawing\" width=\"400\"/>\n",
    "\n",
    "Another way, to plot correlation between two data column values, is to use correlograms. They are the plot of the pearson correlation coefficient. \n",
    "\n",
    "<img src=\"images/cor.png\" alt=\"drawing\" width=\"500\"/>\n",
    "\n",
    "\n",
    "Paired values can also be represented as Slope graph.\n",
    "\n",
    "<img src=\"images/slope1.png\" alt=\"drawing\" width=\"400\"/> <img src=\"images/slope2.png\" alt=\"drawing\" width=\"400\"/>\n",
    "\n",
    "Another common way of visualzing data points on higher dimension is to first reduce the dimension to 2D (using techniques such as PCA), and then plot the data to see the correlations. "
   ]
  },
  {
   "cell_type": "markdown",
   "id": "06783190-c837-433d-8a68-474558d4b3aa",
   "metadata": {},
   "source": [
    "## *Visualizing geospatial data*\n",
    "\n",
    "We frequently want to show how some quantity varies across locations. For this, we can color individual regions in a map, according to data dimension. \n",
    "\n",
    "<img src=\"images/map5.png\" alt=\"drawing\" width=\"500\"/>\n",
    "\n",
    "If plotting a density values (such as population count / surface area of each state for population density) then choropleth map visualization will be correct. \n",
    "\n",
    "\n",
    "However, when try to visualize values that are not densities on map, then such representations should be carefully visualized, as the shaded region is not proportional to the numerical value. \n",
    "In that case, try to represent color based on county values, as counties areas do not differ much compared to the entire map, then it should be fine. \n",
    "\n",
    "<img src=\"images/map1.png\" alt=\"drawing\" width=\"500\"/>\n",
    "\n",
    "\n",
    "Otherwise, if we would like to compare based on state level, then we would need to distort the state boundaries to represent same area (such visualizations are called Cartograms), or use cartogram heatmaps. \n",
    "\n",
    "<img src=\"images/map2.png\" alt=\"drawing\" width=\"400\"/>\n",
    "<img src=\"images/map3.png\" alt=\"drawing\" width=\"400\"/>\n",
    "\n",
    "<img src=\"images/map4.png\" alt=\"drawing\" width=\"500\"/>\n"
   ]
  },
  {
   "cell_type": "markdown",
   "id": "b77fa95d-e104-4d5f-ad6a-77ddcf323c56",
   "metadata": {},
   "source": [
    "## _Do not use 3D plots (unless you have to)_\n",
    "\n",
    "<img src=\"images/3d.png\" alt=\"drawing\" width=\"500\"/>\n",
    "\n",
    "\n",
    "Use case: if you want to show something that needs to be represented in 3D\n",
    "\n",
    "<img src=\"images/3d1.png\" alt=\"drawing\" width=\"500\"/>"
   ]
  },
  {
   "cell_type": "code",
   "execution_count": null,
   "id": "2d9c8c55-73d6-4c8d-b998-7f2552b53dfa",
   "metadata": {},
   "outputs": [],
   "source": []
  }
 ],
 "metadata": {
  "kernelspec": {
   "display_name": "Python 3 (ipykernel)",
   "language": "python",
   "name": "python3"
  },
  "language_info": {
   "codemirror_mode": {
    "name": "ipython",
    "version": 3
   },
   "file_extension": ".py",
   "mimetype": "text/x-python",
   "name": "python",
   "nbconvert_exporter": "python",
   "pygments_lexer": "ipython3",
   "version": "3.12.4"
  }
 },
 "nbformat": 4,
 "nbformat_minor": 5
}
