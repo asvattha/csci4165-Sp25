{
 "cells": [
  {
   "cell_type": "code",
   "execution_count": 43,
   "id": "469d4081-1bb4-425d-a2cd-272df4dcd778",
   "metadata": {},
   "outputs": [
    {
     "name": "stdout",
     "output_type": "stream",
     "text": [
      "5\n"
     ]
    }
   ],
   "source": [
    "# Variables\n",
    "\n",
    "x = 5\n",
    "print(x)"
   ]
  },
  {
   "cell_type": "code",
   "execution_count": 44,
   "id": "6e44a1e9-4874-46b9-8db2-126922717f6c",
   "metadata": {},
   "outputs": [
    {
     "data": {
      "text/plain": [
       "int"
      ]
     },
     "execution_count": 44,
     "metadata": {},
     "output_type": "execute_result"
    }
   ],
   "source": [
    "type(x)"
   ]
  },
  {
   "cell_type": "code",
   "execution_count": 2,
   "id": "200e6baa-23b8-4a36-89e8-9608586e7f51",
   "metadata": {},
   "outputs": [
    {
     "name": "stdout",
     "output_type": "stream",
     "text": [
      "27\n"
     ]
    }
   ],
   "source": [
    "# Expressions\n",
    "\n",
    "y = x * 5 + 2\n",
    "print(y)"
   ]
  },
  {
   "cell_type": "code",
   "execution_count": 3,
   "id": "ba65d508-669b-4e34-b476-c13e90b2d278",
   "metadata": {},
   "outputs": [
    {
     "data": {
      "text/plain": [
       "25"
      ]
     },
     "execution_count": 3,
     "metadata": {},
     "output_type": "execute_result"
    }
   ],
   "source": [
    "5 ** 2"
   ]
  },
  {
   "cell_type": "code",
   "execution_count": 4,
   "id": "2c59291d-a125-4e6b-98a4-a84b209c4fb2",
   "metadata": {},
   "outputs": [
    {
     "data": {
      "text/plain": [
       "2"
      ]
     },
     "execution_count": 4,
     "metadata": {},
     "output_type": "execute_result"
    }
   ],
   "source": [
    "5 // 2"
   ]
  },
  {
   "cell_type": "code",
   "execution_count": 5,
   "id": "23abbfb7-f9a6-4c60-8cc1-c125ed9aabe8",
   "metadata": {},
   "outputs": [
    {
     "data": {
      "text/plain": [
       "1"
      ]
     },
     "execution_count": 5,
     "metadata": {},
     "output_type": "execute_result"
    }
   ],
   "source": [
    "5 % 2"
   ]
  },
  {
   "cell_type": "code",
   "execution_count": 50,
   "id": "8146f374-3239-49b8-a970-5ad9b8e4aa84",
   "metadata": {},
   "outputs": [
    {
     "name": "stdout",
     "output_type": "stream",
     "text": [
      "5\n",
      "5.0\n",
      "123 <class 'str'>\n"
     ]
    }
   ],
   "source": [
    "# Casting \n",
    "\n",
    "x = int(5.3)\n",
    "print(x)\n",
    "\n",
    "y = float(x)\n",
    "print(y)\n",
    "\n",
    "z = str(123)\n",
    "print(z, type(z))"
   ]
  },
  {
   "cell_type": "code",
   "execution_count": 6,
   "id": "1caf5ba8-59de-4188-8996-1d00a54ca27f",
   "metadata": {},
   "outputs": [
    {
     "data": {
      "text/plain": [
       "10"
      ]
     },
     "execution_count": 6,
     "metadata": {},
     "output_type": "execute_result"
    }
   ],
   "source": [
    "# Functions\n",
    "\n",
    "def double(x):\n",
    "    return 2 * x\n",
    "\n",
    "double(5)"
   ]
  },
  {
   "cell_type": "code",
   "execution_count": 7,
   "id": "670327d3-c6a2-42e7-9475-72f59685e579",
   "metadata": {},
   "outputs": [
    {
     "name": "stdout",
     "output_type": "stream",
     "text": [
      "x is larger or equal to 2\n"
     ]
    }
   ],
   "source": [
    "# If statements\n",
    "\n",
    "if (x < 2):\n",
    "    print(\"x is smaller than 2\")\n",
    "else:\n",
    "    print(\"x is larger or equal to 2\")"
   ]
  },
  {
   "cell_type": "code",
   "execution_count": 9,
   "id": "93c4c4b7-97d7-4f08-9f4f-34cedbbf055e",
   "metadata": {},
   "outputs": [
    {
     "name": "stdout",
     "output_type": "stream",
     "text": [
      "Hello\n",
      "Hello\n",
      "Hello\n",
      "Hello\n",
      "Hello\n"
     ]
    }
   ],
   "source": [
    "# for statements\n",
    "\n",
    "for _ in range(5):\n",
    "    print(\"Hello\")"
   ]
  },
  {
   "cell_type": "code",
   "execution_count": 10,
   "id": "4c54202f-3d70-4e94-bc75-3c6581b07036",
   "metadata": {},
   "outputs": [
    {
     "name": "stdout",
     "output_type": "stream",
     "text": [
      "5\n",
      "3\n",
      "5\n"
     ]
    }
   ],
   "source": [
    "for x in [5, 3, 5]:\n",
    "    print(x)"
   ]
  },
  {
   "cell_type": "code",
   "execution_count": 17,
   "id": "7190b03f-a889-4d77-9c25-b92727421045",
   "metadata": {},
   "outputs": [
    {
     "data": {
      "text/plain": [
       "'d'"
      ]
     },
     "execution_count": 17,
     "metadata": {},
     "output_type": "execute_result"
    }
   ],
   "source": [
    "# Data structures and Slicing in python\n",
    "\n",
    "### Strings (data structures)\n",
    "\n",
    "name = \"dipak singh\"\n",
    "name[0]\n"
   ]
  },
  {
   "cell_type": "code",
   "execution_count": 41,
   "id": "ec6a3d8b-6b4d-47c6-a36a-c964b7c93212",
   "metadata": {},
   "outputs": [
    {
     "data": {
      "text/plain": [
       "7"
      ]
     },
     "execution_count": 41,
     "metadata": {},
     "output_type": "execute_result"
    }
   ],
   "source": [
    "len(name)"
   ]
  },
  {
   "cell_type": "code",
   "execution_count": 18,
   "id": "d97f1106-d5b0-4dc0-9210-78cd8d39224b",
   "metadata": {},
   "outputs": [
    {
     "data": {
      "text/plain": [
       "'dip'"
      ]
     },
     "execution_count": 18,
     "metadata": {},
     "output_type": "execute_result"
    }
   ],
   "source": [
    "name[0:3]"
   ]
  },
  {
   "cell_type": "code",
   "execution_count": 21,
   "id": "b1b0d22b-2b71-45eb-8e74-7f79e849ecbc",
   "metadata": {},
   "outputs": [
    {
     "data": {
      "text/plain": [
       "'hgnis k'"
      ]
     },
     "execution_count": 21,
     "metadata": {},
     "output_type": "execute_result"
    }
   ],
   "source": [
    "name[-1:-8:-1]"
   ]
  },
  {
   "cell_type": "code",
   "execution_count": 23,
   "id": "906f089f-a0b7-485f-931f-9c8091e9934c",
   "metadata": {},
   "outputs": [
    {
     "data": {
      "text/plain": [
       "'dipak'"
      ]
     },
     "execution_count": 23,
     "metadata": {},
     "output_type": "execute_result"
    }
   ],
   "source": [
    "name[:5]"
   ]
  },
  {
   "cell_type": "code",
   "execution_count": 24,
   "id": "da600973-34dd-40fc-a872-207eba6fcc4e",
   "metadata": {},
   "outputs": [
    {
     "data": {
      "text/plain": [
       "'ak singh'"
      ]
     },
     "execution_count": 24,
     "metadata": {},
     "output_type": "execute_result"
    }
   ],
   "source": [
    "name[3:]"
   ]
  },
  {
   "cell_type": "code",
   "execution_count": 51,
   "id": "d5e51d35-9e11-4bfe-9eaa-d43566e98dc8",
   "metadata": {},
   "outputs": [
    {
     "data": {
      "text/plain": [
       "'helloworld'"
      ]
     },
     "execution_count": 51,
     "metadata": {},
     "output_type": "execute_result"
    }
   ],
   "source": [
    "\"hello\" + \"world\""
   ]
  },
  {
   "cell_type": "code",
   "execution_count": 53,
   "id": "5bb40e5e-85fd-431f-863d-8b46c9172206",
   "metadata": {},
   "outputs": [
    {
     "data": {
      "text/plain": [
       "['kyla', 'john', 'gaby']"
      ]
     },
     "execution_count": 53,
     "metadata": {},
     "output_type": "execute_result"
    }
   ],
   "source": [
    "\"kyla-john-gaby\".split(\"-\")"
   ]
  },
  {
   "cell_type": "markdown",
   "id": "d00f74c4-913b-4392-a212-b90b8505d0fb",
   "metadata": {},
   "source": [
    "To read more about in-built String methods visit: https://www.w3schools.com/python/python_strings_methods.asp"
   ]
  },
  {
   "cell_type": "code",
   "execution_count": null,
   "id": "c27fdc71-4617-4e73-8bd0-fd184ac15d25",
   "metadata": {},
   "outputs": [],
   "source": [
    "### Tuples (data structures)\n",
    "\n",
    "x = (5, 3, 'charlie')\n",
    "x[0]"
   ]
  },
  {
   "cell_type": "code",
   "execution_count": 12,
   "id": "921983df-2296-46e4-87a3-f951e8e743b9",
   "metadata": {},
   "outputs": [
    {
     "data": {
      "text/plain": [
       "'charlie'"
      ]
     },
     "execution_count": 12,
     "metadata": {},
     "output_type": "execute_result"
    }
   ],
   "source": [
    "x[-1]"
   ]
  },
  {
   "cell_type": "code",
   "execution_count": 26,
   "id": "0b81e19a-4872-4b97-8a5e-6e57eafe1897",
   "metadata": {},
   "outputs": [
    {
     "data": {
      "text/plain": [
       "(5, 3)"
      ]
     },
     "execution_count": 26,
     "metadata": {},
     "output_type": "execute_result"
    }
   ],
   "source": [
    "x[:2]"
   ]
  },
  {
   "cell_type": "code",
   "execution_count": 28,
   "id": "062b70b8-fecf-4ebc-b63d-87a32cfb3719",
   "metadata": {},
   "outputs": [
    {
     "data": {
      "text/plain": [
       "5"
      ]
     },
     "execution_count": 28,
     "metadata": {},
     "output_type": "execute_result"
    }
   ],
   "source": [
    "value1, value2, name = x # unwrapping tuple\n",
    "value1"
   ]
  },
  {
   "cell_type": "markdown",
   "id": "75fe2401-ff62-4e5b-9849-b65fd450c04a",
   "metadata": {},
   "source": [
    "For tuple methods, visit: https://www.w3schools.com/python/python_tuples_methods.asp"
   ]
  },
  {
   "cell_type": "code",
   "execution_count": 61,
   "id": "746c8884-835b-4d6a-84a1-e25903ac360d",
   "metadata": {},
   "outputs": [
    {
     "data": {
      "text/plain": [
       "[5, 3, 5]"
      ]
     },
     "execution_count": 61,
     "metadata": {},
     "output_type": "execute_result"
    }
   ],
   "source": [
    "### List (data structures)\n",
    "\n",
    "x = [10, 20, \"hello\", [5, 3, 5]]\n",
    "x[-1]"
   ]
  },
  {
   "cell_type": "code",
   "execution_count": 62,
   "id": "858adeb0-62d4-41a5-bcc1-e13e0d5e53f5",
   "metadata": {},
   "outputs": [
    {
     "data": {
      "text/plain": [
       "[0, 1, 4, 9, 16]"
      ]
     },
     "execution_count": 62,
     "metadata": {},
     "output_type": "execute_result"
    }
   ],
   "source": [
    "[x**2 for x in range(5)] # List comprehension"
   ]
  },
  {
   "cell_type": "code",
   "execution_count": 63,
   "id": "8eb737b0-f9b3-40ad-85e8-fbce0e40bbeb",
   "metadata": {},
   "outputs": [
    {
     "data": {
      "text/plain": [
       "[10, 20, 'hello', [5, 3, 5], 'csci4365']"
      ]
     },
     "execution_count": 63,
     "metadata": {},
     "output_type": "execute_result"
    }
   ],
   "source": [
    "x.append(\"csci4365\")\n",
    "x"
   ]
  },
  {
   "cell_type": "code",
   "execution_count": 64,
   "id": "2106e141-2d34-4db4-afa3-2fb74af7b71c",
   "metadata": {},
   "outputs": [
    {
     "data": {
      "text/plain": [
       "[10, 'hello', [5, 3, 5], 'csci4365']"
      ]
     },
     "execution_count": 64,
     "metadata": {},
     "output_type": "execute_result"
    }
   ],
   "source": [
    "x.remove(20)\n",
    "x"
   ]
  },
  {
   "cell_type": "code",
   "execution_count": 66,
   "id": "95ee64bb-14bc-44b8-aeb3-7f3ead8ff41b",
   "metadata": {},
   "outputs": [
    {
     "data": {
      "text/plain": [
       "[1, 2, 3, 'a', 'b', 'c']"
      ]
     },
     "execution_count": 66,
     "metadata": {},
     "output_type": "execute_result"
    }
   ],
   "source": [
    "[1, 2, 3] + ['a', 'b', 'c']"
   ]
  },
  {
   "cell_type": "code",
   "execution_count": 68,
   "id": "c4b47412-cef8-4811-a3fc-fd7461420273",
   "metadata": {},
   "outputs": [
    {
     "data": {
      "text/plain": [
       "'925-293-1959'"
      ]
     },
     "execution_count": 68,
     "metadata": {},
     "output_type": "execute_result"
    }
   ],
   "source": [
    "(\"-\").join([\"925\", \"293\", \"1959\"])"
   ]
  },
  {
   "cell_type": "markdown",
   "id": "eb0fc079-210b-496e-8da3-35520b6743bc",
   "metadata": {},
   "source": [
    "For list methods visit: https://www.w3schools.com/python/python_lists_methods.asp"
   ]
  },
  {
   "cell_type": "code",
   "execution_count": 59,
   "id": "9521ecb5-778f-457a-87a6-c00a268bfb51",
   "metadata": {},
   "outputs": [
    {
     "data": {
      "text/plain": [
       "dict_keys(['name', 'id'])"
      ]
     },
     "execution_count": 59,
     "metadata": {},
     "output_type": "execute_result"
    }
   ],
   "source": [
    "### Dictionaries (data structures)\n",
    "\n",
    "x = {'name': \"kyla\", 'id': 1325}\n",
    "x.keys()"
   ]
  },
  {
   "cell_type": "code",
   "execution_count": 35,
   "id": "d2b77b17-9ef6-42eb-9390-fa693aaa8fc6",
   "metadata": {},
   "outputs": [
    {
     "data": {
      "text/plain": [
       "dict_values(['kyla', 1325])"
      ]
     },
     "execution_count": 35,
     "metadata": {},
     "output_type": "execute_result"
    }
   ],
   "source": [
    "x.values()"
   ]
  },
  {
   "cell_type": "code",
   "execution_count": 39,
   "id": "e42a379e-d755-447e-9ebb-c5ab64a2a16f",
   "metadata": {},
   "outputs": [
    {
     "name": "stdout",
     "output_type": "stream",
     "text": [
      "kyla\n",
      "1325\n"
     ]
    }
   ],
   "source": [
    "for key, value in x.items():\n",
    "    print(value)"
   ]
  },
  {
   "cell_type": "code",
   "execution_count": 40,
   "id": "dc2ca29c-e4c1-4293-8353-578421105362",
   "metadata": {},
   "outputs": [
    {
     "data": {
      "text/plain": [
       "2"
      ]
     },
     "execution_count": 40,
     "metadata": {},
     "output_type": "execute_result"
    }
   ],
   "source": [
    "len(x)"
   ]
  },
  {
   "cell_type": "code",
   "execution_count": 69,
   "id": "5cbb962a-b237-4e41-828a-7dd93c66716c",
   "metadata": {},
   "outputs": [
    {
     "data": {
      "text/plain": [
       "{45, 92, 'hey'}"
      ]
     },
     "execution_count": 69,
     "metadata": {},
     "output_type": "execute_result"
    }
   ],
   "source": [
    "### Set (data structures)\n",
    "\n",
    "x = {45, 92, 'hey'}\n",
    "x"
   ]
  },
  {
   "cell_type": "code",
   "execution_count": 70,
   "id": "2cd35d58-16ca-4ad6-bbd9-a9dfb6b36e3d",
   "metadata": {},
   "outputs": [
    {
     "data": {
      "text/plain": [
       "6"
      ]
     },
     "execution_count": 70,
     "metadata": {},
     "output_type": "execute_result"
    }
   ],
   "source": [
    "### Lambda expressions\n",
    "\n",
    "x = lambda a : a * 2\n",
    "x(3)"
   ]
  },
  {
   "cell_type": "code",
   "execution_count": 71,
   "id": "ade00f83-55ed-4737-bfb1-c5bdb7ddfc35",
   "metadata": {},
   "outputs": [
    {
     "data": {
      "text/plain": [
       "10"
      ]
     },
     "execution_count": 71,
     "metadata": {},
     "output_type": "execute_result"
    }
   ],
   "source": [
    "def multiplier(n):\n",
    "    return lambda x : x * n\n",
    "\n",
    "doubler = multiplier(2)\n",
    "\n",
    "double(5)"
   ]
  },
  {
   "cell_type": "code",
   "execution_count": 72,
   "id": "577106f3-604f-4df1-8696-7cefc028b89d",
   "metadata": {},
   "outputs": [
    {
     "data": {
      "text/plain": [
       "15"
      ]
     },
     "execution_count": 72,
     "metadata": {},
     "output_type": "execute_result"
    }
   ],
   "source": [
    "tripler = multiplier(3)\n",
    "tripler(5)"
   ]
  },
  {
   "cell_type": "code",
   "execution_count": 74,
   "id": "aa6334e9-9d5f-44c7-85f4-ec69a01a5569",
   "metadata": {},
   "outputs": [
    {
     "data": {
      "text/plain": [
       "[10, 12, 14, 16, 18]"
      ]
     },
     "execution_count": 74,
     "metadata": {},
     "output_type": "execute_result"
    }
   ],
   "source": [
    "### map function\n",
    "\n",
    "x = [5, 6, 7, 8, 9]\n",
    "\n",
    "list(map(lambda a: a * 2, x))"
   ]
  },
  {
   "cell_type": "code",
   "execution_count": 76,
   "id": "f5147163-4520-482a-ae02-7c65eceddd51",
   "metadata": {},
   "outputs": [
    {
     "data": {
      "text/plain": [
       "[6, 8]"
      ]
     },
     "execution_count": 76,
     "metadata": {},
     "output_type": "execute_result"
    }
   ],
   "source": [
    "list(filter(lambda a: a % 2 == 0, x))"
   ]
  },
  {
   "cell_type": "code",
   "execution_count": 77,
   "id": "a8007934-c4c1-4205-81ae-b778d42f13f8",
   "metadata": {},
   "outputs": [
    {
     "name": "stdout",
     "output_type": "stream",
     "text": [
      "10\n",
      "20\n",
      "30\n",
      "40\n"
     ]
    }
   ],
   "source": [
    "### *args and **kwargs\n",
    "\n",
    "def func(*args):\n",
    "    for arg in args:\n",
    "        print(arg)\n",
    "\n",
    "func(10, 20, 30, 40)"
   ]
  },
  {
   "cell_type": "code",
   "execution_count": 78,
   "id": "1222592a-5a35-42a3-8bed-a81291994013",
   "metadata": {},
   "outputs": [
    {
     "name": "stdout",
     "output_type": "stream",
     "text": [
      "2\n",
      "5\n",
      "5\n"
     ]
    }
   ],
   "source": [
    "def func(**kwargs):\n",
    "    for key, value in kwargs.items():\n",
    "        print(value)\n",
    "\n",
    "func(s=2, k=5, j=5)"
   ]
  },
  {
   "cell_type": "code",
   "execution_count": 80,
   "id": "47a6cf7e-361b-44e3-8254-881dd55ddbac",
   "metadata": {},
   "outputs": [
    {
     "data": {
      "text/plain": [
       "[(10, 'a'), (20, 'b'), (30, 'c')]"
      ]
     },
     "execution_count": 80,
     "metadata": {},
     "output_type": "execute_result"
    }
   ],
   "source": [
    "x = [10, 20, 30]\n",
    "y = ['a', 'b', 'c']\n",
    "list(zip(x, y))"
   ]
  },
  {
   "cell_type": "code",
   "execution_count": 81,
   "id": "91d5f685-9895-48e0-8ad0-c49a1d67336f",
   "metadata": {},
   "outputs": [
    {
     "name": "stdout",
     "output_type": "stream",
     "text": [
      "0\n",
      "1\n",
      "2\n"
     ]
    }
   ],
   "source": [
    "for i, x in enumerate([10, 30, 40]):\n",
    "    print(i)"
   ]
  },
  {
   "cell_type": "code",
   "execution_count": null,
   "id": "6a0f5fb2-1d46-4b22-a748-e64cc0cb1247",
   "metadata": {},
   "outputs": [],
   "source": []
  }
 ],
 "metadata": {
  "kernelspec": {
   "display_name": "Python 3 (ipykernel)",
   "language": "python",
   "name": "python3"
  },
  "language_info": {
   "codemirror_mode": {
    "name": "ipython",
    "version": 3
   },
   "file_extension": ".py",
   "mimetype": "text/x-python",
   "name": "python",
   "nbconvert_exporter": "python",
   "pygments_lexer": "ipython3",
   "version": "3.12.6"
  }
 },
 "nbformat": 4,
 "nbformat_minor": 5
}
