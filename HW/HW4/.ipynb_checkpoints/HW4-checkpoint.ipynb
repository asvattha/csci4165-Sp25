{
 "cells": [
  {
   "cell_type": "raw",
   "id": "0113164d-3b51-4616-a307-40b5f7a58aca",
   "metadata": {},
   "source": [
    "# ASSIGNMENT CONFIG\n",
    "requirements:\n",
    "files:\n",
    "    - data\n",
    "solutions_pdf: false\n",
    "run_tests: false\n",
    "export_cell: false\n",
    "generate:\n",
    "    pdf: false"
   ]
  },
  {
   "cell_type": "markdown",
   "id": "beec3b9c-397a-4a7b-b623-b4af71d8bdd1",
   "metadata": {},
   "source": [
    "Due Date: 16 Apr 2025 by 11:59 pm\n",
    "\n",
    "Rubric:\n",
    "\n",
    "| Question | Points |  \n",
    "| :--- | ----------- |\n",
    "| 1(a) |  25 |\n",
    "| 1(b) |  25 |\n",
    "| 2(a) |  25 |\n",
    "| 2(b) |  25 |\n",
    "|Total | 100 |"
   ]
  },
  {
   "cell_type": "code",
   "execution_count": 31,
   "id": "fa618673-dbbc-46d1-8f53-f47daf053629",
   "metadata": {},
   "outputs": [],
   "source": [
    "import torch\n",
    "import torchvision\n",
    "from torchvision import transforms\n",
    "from torch.utils.data import DataLoader, Subset\n",
    "from torch import nn, optim"
   ]
  },
  {
   "cell_type": "markdown",
   "id": "e9dd14da-6f8a-41e0-9b20-9f99237881cc",
   "metadata": {},
   "source": [
    "In this HW assignment, you will get yourself accustommed to Pytorch. Feel free to refer online or Pytorch documentation to implement this HW assignment. "
   ]
  },
  {
   "cell_type": "markdown",
   "id": "819b94d7-48b5-4258-83e5-7de947949301",
   "metadata": {},
   "source": [
    "### Question 1a) [25 points]\n",
    "\n",
    "Build a deep neural network (DNN) with five hidden layers of 100 neurons each, He initialization and the ReLU activation function. Using Adam optimization, train it on MNIST but only on digits 0 to 4, as we will use transfer learning for digits 5 to 9 in the next exercise. You will need a softmax output layer with five neurons, and make sure you save the weights of the final model parameters into a file, `model1_weights.pth`\n",
    "\n",
    "Use precision as performance metric for your model. "
   ]
  },
  {
   "cell_type": "code",
   "execution_count": 32,
   "id": "70e088ba-9c25-4a23-b8dc-9d512363a108",
   "metadata": {},
   "outputs": [],
   "source": [
    "# Define a transform to normalize the data\n",
    "transform = transforms.Compose([\n",
    "    transforms.ToTensor(),\n",
    "    transforms.Normalize((0.1307,), (0.3081,))\n",
    "])\n",
    "\n",
    "# Load the training dataset\n",
    "train_dataset = torchvision.datasets.MNIST(\n",
    "    root='./data', train=True, download=True, transform=transform\n",
    ")\n",
    "\n",
    "# Load the testing dataset\n",
    "test_dataset = torchvision.datasets.MNIST(\n",
    "    root='./data', train=False, download=True, transform=transform\n",
    ")"
   ]
  },
  {
   "cell_type": "code",
   "execution_count": 33,
   "id": "98db782a-848b-4505-bd9c-bef1b4e44b7d",
   "metadata": {},
   "outputs": [
    {
     "data": {
      "text/plain": [
       "torch.Size([1, 28, 28])"
      ]
     },
     "execution_count": 33,
     "metadata": {},
     "output_type": "execute_result"
    }
   ],
   "source": [
    "img, _ = train_dataset[0]\n",
    "img.shape"
   ]
  },
  {
   "cell_type": "code",
   "execution_count": 34,
   "id": "ebfefb0a-bdfe-4f72-9c18-61117967faa6",
   "metadata": {},
   "outputs": [],
   "source": [
    "train_indices = [i for i, label in enumerate(train_dataset.targets) if label in range(5)]\n",
    "test_indices = [i for i, label in enumerate(test_dataset.targets) if label in range(5)]"
   ]
  },
  {
   "cell_type": "code",
   "execution_count": 35,
   "id": "0338d4e4-4420-470a-af45-88025bff4f5a",
   "metadata": {},
   "outputs": [
    {
     "data": {
      "text/plain": [
       "(30596, 5139)"
      ]
     },
     "execution_count": 35,
     "metadata": {},
     "output_type": "execute_result"
    }
   ],
   "source": [
    "train_dataset_04 = Subset(train_dataset, train_indices)\n",
    "test_dataset_04 = Subset(test_dataset, test_indices)\n",
    "len(train_dataset_04), len(test_dataset_04)"
   ]
  },
  {
   "cell_type": "code",
   "execution_count": 36,
   "id": "9177a1bd-b518-4025-9288-6dddd2dab0e7",
   "metadata": {
    "scrolled": true
   },
   "outputs": [],
   "source": [
    "from sklearn.model_selection import train_test_split\n",
    "\n",
    "y = [label for label in train_dataset.targets if label in range(5)]\n",
    "train_indices, val_indices, _ , _= train_test_split(train_indices,y, train_size=0.8, \n",
    "                                                   random_state=None, \n",
    "                                                   shuffle=True, stratify=None)"
   ]
  },
  {
   "cell_type": "code",
   "execution_count": 37,
   "id": "0bb1fcad-31db-4d52-8a27-cceeb32cec68",
   "metadata": {
    "scrolled": true
   },
   "outputs": [
    {
     "data": {
      "text/plain": [
       "(24476, 6120)"
      ]
     },
     "execution_count": 37,
     "metadata": {},
     "output_type": "execute_result"
    }
   ],
   "source": [
    "val_dataset_04 = Subset(train_dataset, val_indices)\n",
    "train_dataset_04 = Subset(train_dataset, train_indices)\n",
    "len(train_dataset_04), len(val_dataset_04)"
   ]
  },
  {
   "cell_type": "code",
   "execution_count": 38,
   "id": "3d9616df-3acc-4acf-ba86-f97e9577543e",
   "metadata": {},
   "outputs": [],
   "source": [
    "# Create data loaders\n",
    "train_loader = DataLoader(train_dataset_04, batch_size=64, shuffle=True)\n",
    "val_loader = DataLoader(val_dataset_04, batch_size=64, shuffle=False)\n",
    "test_loader = DataLoader(test_dataset_04, batch_size=1000, shuffle=False)"
   ]
  },
  {
   "cell_type": "code",
   "execution_count": 39,
   "id": "793dd63c-2cc6-4240-91cb-ebff772036cd",
   "metadata": {},
   "outputs": [],
   "source": [
    "model1 = ..."
   ]
  },
  {
   "cell_type": "code",
   "execution_count": 40,
   "id": "c68e3474-6e7f-48e8-b721-415d2025c3e4",
   "metadata": {},
   "outputs": [],
   "source": [
    "### refer to my class notes on how to write code for this section\n",
    "learning_rate = 1e-2\n",
    "n_epochs = 1 # set this to 50 later for training\n",
    "\n",
    "for epoch in range(n_epochs):\n",
    "    for imgs, labels in train_loader:\n",
    "        ...\n",
    "\n",
    "    with torch.no_grad():\n",
    "        for imgs, labels in val_loader:\n",
    "            ..."
   ]
  },
  {
   "cell_type": "markdown",
   "id": "4a4b081f-a1b8-439f-93d7-ed3703386c97",
   "metadata": {},
   "source": [
    "### Question 1b) [25 points]\n",
    "Is the model overfitting the training set? Try adding Batch Normalization and dropout to every layer and try again. Does it help? \n",
    "\n",
    "You can tweak and tune the dropout rate as per your choice. "
   ]
  },
  {
   "cell_type": "code",
   "execution_count": null,
   "id": "49fdb370-ddee-49bb-ad40-44cb19e45367",
   "metadata": {},
   "outputs": [],
   "source": []
  },
  {
   "cell_type": "markdown",
   "id": "7a6c7d75-c33e-463d-84ef-71450464b487",
   "metadata": {},
   "source": [
    "## 2. Transfer Learning"
   ]
  },
  {
   "cell_type": "markdown",
   "id": "efa024e7-5e8f-4266-b438-3f8d64ff3daa",
   "metadata": {},
   "source": [
    "### Question 2a) [25 points]\n",
    "\n",
    "Create a new DNN that reuses all the pretrained hidden layers of the previous model, freezes them, and replaces the softmax output layer with a fresh new one. Train this new DNN on digits 5 to 9, using only 100 images per digit, and time how long it takes. Despite this small number of examples, can you achieve a high precision? "
   ]
  },
  {
   "cell_type": "code",
   "execution_count": null,
   "id": "3e2d7155-3df6-415a-b7d1-2747830fc153",
   "metadata": {},
   "outputs": [],
   "source": []
  },
  {
   "cell_type": "markdown",
   "id": "a59113e8-54ae-4dba-b08e-83cb9cd15fb9",
   "metadata": {},
   "source": [
    "### Question 2b) [25 points]\n",
    "\n",
    "Now unfreeze the top two hidden layers (fourth and fifth hidden layers) and continue training: can you get the model to perform even better? "
   ]
  },
  {
   "cell_type": "code",
   "execution_count": null,
   "id": "f2c1fbf5-a8a5-4c9a-940f-076a984b2023",
   "metadata": {},
   "outputs": [],
   "source": []
  }
 ],
 "metadata": {
  "kernelspec": {
   "display_name": "Python 3 (ipykernel)",
   "language": "python",
   "name": "python3"
  },
  "language_info": {
   "codemirror_mode": {
    "name": "ipython",
    "version": 3
   },
   "file_extension": ".py",
   "mimetype": "text/x-python",
   "name": "python",
   "nbconvert_exporter": "python",
   "pygments_lexer": "ipython3",
   "version": "3.12.6"
  }
 },
 "nbformat": 4,
 "nbformat_minor": 5
}
