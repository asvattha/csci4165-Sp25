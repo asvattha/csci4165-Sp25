{
 "cells": [
  {
   "cell_type": "code",
   "execution_count": null,
   "id": "047a4e43",
   "metadata": {
    "deletable": false,
    "editable": false
   },
   "outputs": [],
   "source": [
    "# Initialize Otter\n",
    "import otter\n",
    "grader = otter.Notebook(\"HW1.ipynb\")"
   ]
  },
  {
   "cell_type": "markdown",
   "id": "a3c25d44-a21e-4080-8915-ae31d6a34061",
   "metadata": {},
   "source": [
    "# Due Date: 21 Feb 2025 by 11:59 pm\n",
    "\n",
    "Grading Rubric:\n",
    "\n",
    "| Question | Points |\n",
    "| ----- |---- |\n",
    "| 1a | 10 |\n",
    "| 1b | 10 |\n",
    "| 1c | 10 |\n",
    "| 2a | 5 |\n",
    "| 2b | 5 |\n",
    "| 2c | 5 |\n",
    "| 2d | 5 |\n",
    "| 2e | 5 |\n",
    "| 2f | 5 |\n",
    "| 2g | 5 |\n",
    "| 3a | 5 |\n",
    "| 3b | 5 |\n",
    "| 3c | 5 |\n",
    "| 3d | 5 |\n",
    "| 3e | 5 |\n",
    "| 3f | 5 |\n",
    "| 3g | 5 |\n",
    "| Total | 100 |"
   ]
  },
  {
   "cell_type": "code",
   "execution_count": null,
   "id": "79b9c8e8-39c1-459e-9c37-95259e180e75",
   "metadata": {},
   "outputs": [],
   "source": [
    "import numpy as np\n",
    "np.random.seed(42)"
   ]
  },
  {
   "cell_type": "code",
   "execution_count": null,
   "id": "dafa0ce9-31e4-4f7e-8e03-a0d45f8b3bf1",
   "metadata": {},
   "outputs": [],
   "source": [
    "import mysql.connector\n",
    "import pandas as pd"
   ]
  },
  {
   "cell_type": "markdown",
   "id": "d9bf69dd-ae24-4dda-bdc4-07b068f62d1c",
   "metadata": {},
   "source": [
    "# 1. Numpy "
   ]
  },
  {
   "cell_type": "markdown",
   "id": "19018715-4b96-46a6-9807-2b6cc63f6b1b",
   "metadata": {},
   "source": [
    "The goal of this section is to allow you to learn how matrix computations can be done in an efficient way using numpy concepts you learned in the class, without having to use any loops. You will see that this efficiency leads to a faster algorithms. \n",
    "\n",
    "In the following, you will write python code (skeleton code is given to you in each question), to calculate function using numpy. The function is called a Support Vector Machine (SVM) loss function and provides a measure between two objects, in this case matrices. \n",
    "\n",
    "We'll first introduce the SVM loss function.  The goal will be to create a python method to calculate the SVM loss function based on user-given input. However, can we make our implementation more efficient? Read on!\n",
    "\n",
    "In Question 1a, you will implement the function using two for loops (in effecient, unvectorized form). This will create a platform to investigate improvements to the code. Remember, you can't edit nothing, so it is far better to have something than nothing! In other words, getting a solution (working code) is better than not having a solution (not working code).\n",
    "\n",
    "In Question 1b, you will start improving your working code (let's hope its working!).  Here, the goal will be develop a routine (method) that implements the SVM loss function using one **for loop**; This is called a semi-vectorized form.\n",
    "\n",
    "In Question 1c, Are you able to implement the same function without using a single for loop? This implementation is call full vectorized and is the most efficient implementation of the SVM loss function.  \n",
    "\n",
    "Let us start with a description of the SVM function:"
   ]
  },
  {
   "cell_type": "markdown",
   "id": "7ee0c713-f938-409b-ba58-ea8d905f3c56",
   "metadata": {},
   "source": [
    "#### Support Vector Machine Loss (SVM loss)\n",
    "\n",
    "Given a matrix S of size (m, n), where each element of S is represented by $s_{i, j}$, where $ 0 \\leq i < m$ and $ 0 \\leq j < n $, and i, j are non-negative integers. \n",
    "\n",
    "Furthermore, given a vector Y of size (m, 1) where each element of Y is represented by $y_i$, where $ 0 \\leq y_i <  n $, where i is a non-negative integer. \n",
    "\n",
    "Write a code to find the output $loss$, where $loss$ is given by: \n",
    "\n",
    "$$ loss = \\sum_{i = 0}^m \\sum_{ j \\neq y_i}^n max(0, s_{i,j} - s_{i, y_i} + \\Delta) $$\n",
    "\n",
    "where $\\Delta = 10$\n",
    "\n",
    "*Notation: It is common to use capital letters for matrices and then their equivalent lower case when referencing a value in the matrix. So if A is a matrix, then $a_{i,j}$ references the entry in A at the ith row and jth column. In this course we make no explicit difference between a vector and a matrix. Hence, the vector Y above has entries $y_1, y_2, \\ldots,~y_n$.*\n",
    "\n",
    "Let's work out two examples together:"
   ]
  },
  {
   "cell_type": "markdown",
   "id": "6a42f932-f10a-4ca3-86e1-408757a315ca",
   "metadata": {},
   "source": [
    "**Example 1:**\n",
    "\n",
    "<img src=\"pics/lab3_ex1.png\" width=\"600\">"
   ]
  },
  {
   "cell_type": "code",
   "execution_count": null,
   "id": "501334db-bcd4-4f5f-bcc8-dc74c607d6d1",
   "metadata": {},
   "outputs": [],
   "source": [
    "#S = np.array([[13, -7, 11]])\n",
    "#Y = np.array([0])\n",
    "# What is our forthcoming goal? To pass in S and Y to a python method that calculutes loss.  I.e. loss(S,Y) returns 8."
   ]
  },
  {
   "cell_type": "markdown",
   "id": "bd8c98d9-cee9-43c8-b0f6-727f9a0d42d7",
   "metadata": {},
   "source": [
    "**Example 2:**\n",
    "    \n",
    "<img src=\"pics/lab3.png\" width=\"600\">"
   ]
  },
  {
   "cell_type": "code",
   "execution_count": null,
   "id": "bffd91fd-a81e-412d-a98b-4a3be769ef57",
   "metadata": {},
   "outputs": [],
   "source": [
    "S = np.array([[2, 13, -23], [23, 34, 59], [-39, 33, 13], [31, 19, 29]])\n",
    "\n",
    "Y = np.array([1, 0, 2, 1])\n",
    "\n",
    "#Likewise, the goal will be to have a method such that loss(S,Y) returns 139."
   ]
  },
  {
   "cell_type": "markdown",
   "id": "d57d8de6-0754-44f8-b723-6751b1b2a1fb",
   "metadata": {
    "deletable": false,
    "editable": false
   },
   "source": [
    "### Question 1a: (Unvectorized form)  [10 points]\n",
    "\n",
    "Implement the loss function (shown above) using two for loops. "
   ]
  },
  {
   "cell_type": "code",
   "execution_count": null,
   "id": "93c0caee-e7da-45e5-b23a-6d8dd14a1544",
   "metadata": {
    "tags": []
   },
   "outputs": [],
   "source": [
    "def calculate_loss_two_loops(S, Y):\n",
    "    \"\"\"\n",
    "    S: a numpy array of shape (m, n)\n",
    "    Y: a numpy array of shape (m,) where 0 <= Y[i] < n\n",
    "    \"\"\"\n",
    "    loss = 0\n",
    "    delta = 10\n",
    "    \n",
    "    m, n = S.shape\n",
    "\n",
    "    for i in range(0, m):\n",
    "        for j in range(0, n):\n",
    "            ...\n",
    "    return loss"
   ]
  },
  {
   "cell_type": "code",
   "execution_count": null,
   "id": "a583d469-8f09-4e3c-9ba2-ab08f4c79659",
   "metadata": {
    "tags": []
   },
   "outputs": [],
   "source": [
    "calculate_loss_two_loops(S, Y)"
   ]
  },
  {
   "cell_type": "code",
   "execution_count": null,
   "id": "3b157a13-6a09-4c02-9a5f-10c53ba92db2",
   "metadata": {
    "tags": []
   },
   "outputs": [],
   "source": [
    "calculate_loss_two_loops(np.array([[13, -7, 11]]), np.array([0]))"
   ]
  },
  {
   "cell_type": "code",
   "execution_count": null,
   "id": "de83aeb1",
   "metadata": {
    "deletable": false,
    "editable": false
   },
   "outputs": [],
   "source": [
    "grader.check(\"q1a\")"
   ]
  },
  {
   "cell_type": "markdown",
   "id": "c176356c-c4f5-4645-9fe7-93468ea35b82",
   "metadata": {
    "deletable": false,
    "editable": false
   },
   "source": [
    "### Question 1b: (Semi-Vectorized form)  [10 points]\n",
    "\n",
    "Implement the loss function using only one loop\n",
    "\n",
    "Hint: Use `np.maximum`"
   ]
  },
  {
   "cell_type": "code",
   "execution_count": null,
   "id": "4a3fa4dd-1da0-4a97-832a-378bd0ffdf96",
   "metadata": {
    "tags": []
   },
   "outputs": [],
   "source": [
    "def calculate_loss_one_loop(S, Y):\n",
    "    \"\"\"\n",
    "    S: a numpy array of shape (m, n)\n",
    "    Y: a numpy array of shape (m,) where 0 <= Y[i] < n\n",
    "    \"\"\"\n",
    "    loss = 0\n",
    "    delta = 10\n",
    "    \n",
    "    m, n = S.shape\n",
    "\n",
    "    for i in range(0, m):\n",
    "        ...\n",
    "\n",
    "    return loss"
   ]
  },
  {
   "cell_type": "code",
   "execution_count": null,
   "id": "1ea02800-ab96-45be-b8a3-30d084c56341",
   "metadata": {
    "tags": []
   },
   "outputs": [],
   "source": [
    "calculate_loss_one_loop(S, Y)"
   ]
  },
  {
   "cell_type": "code",
   "execution_count": null,
   "id": "6153cd01-3bac-4032-9446-786e09b51360",
   "metadata": {
    "tags": []
   },
   "outputs": [],
   "source": [
    "calculate_loss_one_loop(np.array([[13, -7, 11]]), np.array([0]))"
   ]
  },
  {
   "cell_type": "code",
   "execution_count": null,
   "id": "fea5760f",
   "metadata": {
    "deletable": false,
    "editable": false
   },
   "outputs": [],
   "source": [
    "grader.check(\"q1b\")"
   ]
  },
  {
   "cell_type": "markdown",
   "id": "affcdef3-0ed9-4e92-af15-47a1c43a5a6d",
   "metadata": {
    "deletable": false,
    "editable": false
   },
   "source": [
    "### Question 1c: (Fully vectorized form)   [10 points]\n",
    "\n",
    "Implement the loss function using no loop. "
   ]
  },
  {
   "cell_type": "code",
   "execution_count": null,
   "id": "8f722cab-b799-46be-b5a7-8d4b26f950b6",
   "metadata": {
    "tags": []
   },
   "outputs": [],
   "source": [
    "def calculate_loss_no_loop(S, Y):\n",
    "    \"\"\"\n",
    "    S: a numpy array of shape (m, n)\n",
    "    Y: a numpy array of shape (m,) where 0 <= Y[i] < n\n",
    "    \"\"\"\n",
    "    loss = 0\n",
    "    delta = 10\n",
    "    \n",
    "    m, n = S.shape\n",
    "\n",
    "    ...\n",
    "    \n",
    "    \n",
    "    return loss "
   ]
  },
  {
   "cell_type": "code",
   "execution_count": null,
   "id": "6f94387b-dce1-4052-8a9a-aa007842b640",
   "metadata": {
    "tags": []
   },
   "outputs": [],
   "source": [
    "S[np.arange(4), Y]"
   ]
  },
  {
   "cell_type": "code",
   "execution_count": null,
   "id": "d8fd95b9-cd3c-4ac3-a426-b0fa5598fcb3",
   "metadata": {
    "tags": []
   },
   "outputs": [],
   "source": [
    "calculate_loss_no_loop(S, Y)"
   ]
  },
  {
   "cell_type": "code",
   "execution_count": null,
   "id": "2b154537-e41f-4fa8-a67a-c0b1b6112327",
   "metadata": {
    "tags": []
   },
   "outputs": [],
   "source": [
    "calculate_loss_no_loop(np.array([[13, -7, 11]]), np.array([0]))"
   ]
  },
  {
   "cell_type": "code",
   "execution_count": null,
   "id": "37546226",
   "metadata": {
    "deletable": false,
    "editable": false
   },
   "outputs": [],
   "source": [
    "grader.check(\"q1c\")"
   ]
  },
  {
   "cell_type": "markdown",
   "id": "609b0e26-94b6-4d74-8b9b-d67806e83646",
   "metadata": {},
   "source": [
    "# 2. SQL and Regex"
   ]
  },
  {
   "cell_type": "markdown",
   "id": "6d330572-6abd-4d52-8aea-24d1c78fa620",
   "metadata": {},
   "source": [
    "Python can also be used as a scripting language. It's `os` library is very handy with manipulating files or directories, as you may have done something similar in the past using bash script. \n",
    "\n",
    "For eg: You are provided with two twitter data files (`biden.txt`, `trump.txt`) for each of the Presidents. Let's see those file names, using pandas `os` library"
   ]
  },
  {
   "cell_type": "code",
   "execution_count": null,
   "id": "f9307270-3488-497e-b36a-7c6b47debd8c",
   "metadata": {},
   "outputs": [],
   "source": [
    "from os import listdir\n",
    "for f in listdir(\"data\"):\n",
    "    print(f)"
   ]
  },
  {
   "cell_type": "markdown",
   "id": "a1bbb574-c64e-437c-b414-38ebe207da63",
   "metadata": {
    "deletable": false,
    "editable": false
   },
   "source": [
    "### Question 2a  [5 points]\n",
    "Let's dive into one of the data file (`biden.txt`), to view it's content. It is not a good idea to print the entire content of the file in the notebook (otherwise if the file is big, your notebook will crash). Therefore, we will only read the first few characters (1000 characters) of it. \n",
    "\n",
    "Using `open` and `read` python functions, write a program to read the `biden.txt` file and read the first 1000 characters in a variable, `q1a`. \n",
    "\n",
    "Hint: You may want to use the `with` statement\n",
    "\n",
    "```\n",
    "with open(\"filename\", \"r\") as f:\n",
    "    f.read(2)\n",
    "```"
   ]
  },
  {
   "cell_type": "code",
   "execution_count": null,
   "id": "7d3c063a-39ce-41c5-b8ff-f91d37023901",
   "metadata": {
    "tags": []
   },
   "outputs": [],
   "source": [
    "with ... as ...\n",
    "    q1a = ..."
   ]
  },
  {
   "cell_type": "code",
   "execution_count": null,
   "id": "db9eafe9",
   "metadata": {
    "deletable": false,
    "editable": false
   },
   "outputs": [],
   "source": [
    "grader.check(\"q2a\")"
   ]
  },
  {
   "cell_type": "markdown",
   "id": "965a4060-fd26-41b6-9123-094513c2b193",
   "metadata": {
    "deletable": false,
    "editable": false
   },
   "source": [
    "### Question 2b [5 points]\n",
    "\n",
    "What is the structure of the `biden.txt` data? \n",
    "\n",
    "**A**. Structured data (like tabular)\n",
    "\n",
    "**B**. Unstructured data \n",
    "\n",
    "**C**. Semi-structured data\n",
    "\n",
    "Answer this question by entering the letter (\"A\", \"B\", \"C\") corresponding to the right format in the variable `q2b` below."
   ]
  },
  {
   "cell_type": "code",
   "execution_count": null,
   "id": "2c9a4612-ee8d-4786-82f4-2e3f1e75e379",
   "metadata": {
    "tags": []
   },
   "outputs": [],
   "source": [
    "q2b = ..."
   ]
  },
  {
   "cell_type": "code",
   "execution_count": null,
   "id": "d16aeefa",
   "metadata": {
    "deletable": false,
    "editable": false
   },
   "outputs": [],
   "source": [
    "grader.check(\"q2b\")"
   ]
  },
  {
   "cell_type": "markdown",
   "id": "ee77dba0-bace-4560-9078-cf62f84d8221",
   "metadata": {},
   "source": [
    "The Twitter ID (id), the time the tweet was posted (created_at), the tweet content (text), and the device used to post the tweet (source) have been extracted from both text files and already added to the MySQL tables (`biden` and `trump`) in the `hw1` database. However, for the final exam project, you will gain hands-on experience inserting your dataset into a MySQL database.\n",
    "\n",
    "You can easily retrieve the results of a MySQL query within Python code (or Jupyter Notebook) using the `mysql-connector` package, without needing to access the MySQL terminal. Below is an example of how to query and find the total number of rows in the `trump` table."
   ]
  },
  {
   "cell_type": "code",
   "execution_count": null,
   "id": "6d96f90c-de8c-456b-980c-1272ca2f490f",
   "metadata": {},
   "outputs": [],
   "source": [
    "# Connect with the MySQL Server\n",
    "cnx = mysql.connector.connect(\n",
    "    host=\"localhost\",\n",
    "    database=\"hw1\",\n",
    "    user=\"insert_your_username_here\", # change this\n",
    "    password=\"insert_your_password_here\" # change this\n",
    ")\n",
    "\n",
    "# Get cursor\n",
    "mycursor = cnx.cursor()\n",
    "\n",
    "query = \"select * from trump limit 2\" \n",
    "\n",
    "# execute the sql query\n",
    "mycursor.execute(query)\n",
    "\n",
    "# fetch all the rows of the output of the query\n",
    "myresult = mycursor.fetchall()\n",
    "\n",
    "# print each row one by one\n",
    "for row in myresult:\n",
    "    print(row)"
   ]
  },
  {
   "cell_type": "markdown",
   "id": "5fffa5c6-8977-4a77-8b8d-8eba1bf74e70",
   "metadata": {},
   "source": [
    "\n",
    "\n",
    "Often, a public figure's Twitter feed is managed by their public relations (PR) team. We can assess the activity level of each PR agency by analyzing the source column in the dataset. The source field in each tweet indicates the tool or platform used to post the tweet.\n",
    "\n",
    "For example, the source field of one of [Joe Biden's tweet](https://twitter.com/JoeBiden/status/1316840627817066496?cxt=HHwWiIC28bO92cEtAAAA), labeled \"Twitter Web App,\" implies that the tweet was posted through the Twitter web application (using a computer, rather than a phone), which is likely managed by a PR team. Many times, twitter feed of a public figure is managed by their public relations (PR) firm. We can analyze how active is each PR agency by studying the `source` column of the dataframe. Each twitter data contains a `source` field which tells us what utility source  was used to post the tweets. \n"
   ]
  },
  {
   "cell_type": "markdown",
   "id": "07959fce-5f94-4a20-a355-17a6fa270bf8",
   "metadata": {
    "deletable": false,
    "editable": false
   },
   "source": [
    "### Question 2c [5 points]\n",
    "\n",
    "Let's clean the `source` field by removing all the HTML tags using regular expressions and displaying only the utility source. First, write a regular expression to match the HTML tags and assign it to the variable `q2c`. Then, we can use `re.sub()` function to replace all occurrences of the matched HTML tags with an empty string (\"\").\n",
    "\n",
    "An HTML tag is defined as a `<` character, followed by zero or more non `>` characters, and ending with a `>` character. For example, both `<a>` and `</a>` are considered separate HTML tags."
   ]
  },
  {
   "cell_type": "code",
   "execution_count": null,
   "id": "eb7980d5-9e2b-4aec-a3a5-cd87bb25e73d",
   "metadata": {
    "deletable": false,
    "editable": false
   },
   "outputs": [],
   "source": [
    "import re"
   ]
  },
  {
   "cell_type": "code",
   "execution_count": null,
   "id": "e5c30994-b9de-47b8-86d6-6eb43554f917",
   "metadata": {
    "tags": []
   },
   "outputs": [],
   "source": [
    "q2c = ...\n",
    "some_string = '<a href=\"https://mobile.twitter.com\" rel=\"nofollow\">Twitter Web App</a>'\n",
    "your_answer = re.sub(...)\n",
    "your_answer # this variable will store \"Twitter Web App\" only. "
   ]
  },
  {
   "cell_type": "code",
   "execution_count": null,
   "id": "b7ac4600",
   "metadata": {
    "deletable": false,
    "editable": false
   },
   "outputs": [],
   "source": [
    "grader.check(\"q2c\")"
   ]
  },
  {
   "cell_type": "markdown",
   "id": "4b64bee1-9d50-403f-b0fc-cd80dd3ffc1f",
   "metadata": {
    "deletable": false,
    "editable": false
   },
   "source": [
    "### Question 2d: [5 points]\n",
    "\n",
    "There is another approach to solving the problem. Instead of replacing the HTML tags, we can directly capture the utility source from the text. This can be done using **capturing groups**, where we enclose the part of the regular expression we want to extract in parentheses.\n",
    "\n",
    "For example, to capture the year from `Toy Story (1995)`, we could use the pattern: `r\"\\w+\\s\\((\\d\\d\\d\\d)\\)\"`.\n"
   ]
  },
  {
   "cell_type": "code",
   "execution_count": null,
   "id": "b5a7605f-921a-4917-af29-1bff6c3f72e7",
   "metadata": {
    "deletable": false,
    "editable": false
   },
   "outputs": [],
   "source": [
    "s = \"Toy Story (1995)\"\n",
    "pattern = r\"\\w+\\s\\((\\d\\d\\d\\d)\\)\"\n",
    "\n",
    "re.findall(pattern, s)"
   ]
  },
  {
   "cell_type": "markdown",
   "id": "e2c1065a-9305-4574-b4f2-4d7def5a6317",
   "metadata": {
    "deletable": false,
    "editable": false
   },
   "source": [
    "Solve the problem in Question 2c, capture the utility source from the string. The value of `your_answer` should be of type string."
   ]
  },
  {
   "cell_type": "code",
   "execution_count": null,
   "id": "b0bc9299-ea2e-4c3b-9a82-9642e453496a",
   "metadata": {
    "tags": []
   },
   "outputs": [],
   "source": [
    "q2d = \"...\"\n",
    "some_string = '<a href=\"https://mobile.twitter.com\" rel=\"nofollow\">Twitter Web App</a>'\n",
    "your_answer = re.findall(...)\n",
    "your_answer"
   ]
  },
  {
   "cell_type": "code",
   "execution_count": null,
   "id": "35cad668",
   "metadata": {
    "deletable": false,
    "editable": false
   },
   "outputs": [],
   "source": [
    "grader.check(\"q2d\")"
   ]
  },
  {
   "cell_type": "markdown",
   "id": "ea7a7516-453c-4b02-8309-a7c6ee05ac08",
   "metadata": {
    "deletable": false,
    "editable": false
   },
   "source": [
    "### Question 2e [5 points]"
   ]
  },
  {
   "cell_type": "markdown",
   "id": "6fc5a5de-d306-41a8-b3dd-feb1c13c5eae",
   "metadata": {
    "deletable": false,
    "editable": false
   },
   "source": [
    "Complete the function `get_utility` which takes the sql query to select the `source` column from a table, and returns a pandas `DataFrame` with columns representing tweet id (`id`) and `utility`, without html tags, extracted using the regular expression that you developed in Question 2c or 2d. \n",
    "\n",
    "The first few rows of returned DataFrame from trump table would look like the following:\n",
    "\n",
    "<img src='pics/2e1.png' width='300'>"
   ]
  },
  {
   "cell_type": "code",
   "execution_count": null,
   "id": "6eb17fbc-59a6-4156-a6fa-6c31fdda6c6f",
   "metadata": {
    "tags": []
   },
   "outputs": [],
   "source": [
    "def get_utility(query):\n",
    "    mycursor.execute(query)\n",
    "    myresult = mycursor.fetchall()\n",
    "\n",
    "    df = pd.DataFrame({'id': ...,\n",
    "                       'utility': ..., \n",
    "                      })\n",
    "    \n",
    "    return df"
   ]
  },
  {
   "cell_type": "code",
   "execution_count": null,
   "id": "d3cfb7fd-e5c4-4ebd-ad02-4779e8dcb26c",
   "metadata": {
    "tags": []
   },
   "outputs": [],
   "source": [
    "utility_df = {\n",
    "              'biden': get_utility(\"SELECT id, source FROM biden\"),\n",
    "              'trump': get_utility(\"SELECT id, source FROM trump\")\n",
    "             }\n",
    "\n",
    "utility_df['trump'].head()"
   ]
  },
  {
   "cell_type": "code",
   "execution_count": null,
   "id": "1e95c88e",
   "metadata": {
    "deletable": false,
    "editable": false
   },
   "outputs": [],
   "source": [
    "grader.check(\"q2e\")"
   ]
  },
  {
   "cell_type": "markdown",
   "id": "689ef1e3-322d-4d7a-9232-a8bf29697f3b",
   "metadata": {
    "deletable": false,
    "editable": false
   },
   "source": [
    "### Question 2f [5 points]\n",
    "\n",
    "To analyze the most frequently used utility sources by each president, implement the `most_freq` function. This function should take a `Series` as input and return a new Series that contains the `k` most common entries from the original series. In the resulting series, the values represent the counts of each entry, and the indices are the entries themselves.\n",
    "\n",
    "For example: \n",
    "```python\n",
    "most_freq(pd.Series([\"A\", \"B\", \"A\", \"C\", \"B\", \"A\"]), k=2)\n",
    "```\n",
    "would return:\n",
    "```\n",
    "A    3\n",
    "B    2\n",
    "dtype: int64\n",
    "```\n",
    "\n",
    "\n",
    "\n",
    "\n",
    "**Hint**: You may want to use any of the functions such as `value_counts`, `sort_values`, `head`, and/or [`nlargest`](https://pandas.pydata.org/pandas-docs/stable/reference/api/pandas.Series.nlargest.html?highlight=nlargest))."
   ]
  },
  {
   "cell_type": "code",
   "execution_count": null,
   "id": "232e0078-69c7-4b30-b50a-56876310f9c9",
   "metadata": {
    "tags": []
   },
   "outputs": [],
   "source": [
    "def most_freq(series, k = 3):\n",
    "    ..."
   ]
  },
  {
   "cell_type": "code",
   "execution_count": null,
   "id": "d9c4bbbb-4892-4e25-b8b7-00a2bf20b13a",
   "metadata": {
    "tags": []
   },
   "outputs": [],
   "source": [
    "most_freq(utility_df['biden']['utility'], 5)"
   ]
  },
  {
   "cell_type": "code",
   "execution_count": null,
   "id": "e0bd325a-2e0c-4317-a549-fdc14ce65b65",
   "metadata": {
    "tags": []
   },
   "outputs": [],
   "source": [
    "most_freq(utility_df['trump']['utility'], 5)"
   ]
  },
  {
   "cell_type": "code",
   "execution_count": null,
   "id": "4e34bc89",
   "metadata": {
    "deletable": false,
    "editable": false
   },
   "outputs": [],
   "source": [
    "grader.check(\"q2f\")"
   ]
  },
  {
   "cell_type": "markdown",
   "id": "2245e442-0d75-48db-ae8f-34a161bc3d17",
   "metadata": {
    "deletable": false,
    "editable": false
   },
   "source": [
    "<!-- BEGIN QUESTION -->\n",
    "\n",
    "### Question 2g [5 points]\n",
    "\n",
    "Run the following two cells to compute a table and plot describing the top 5 most commonly used devices for each president."
   ]
  },
  {
   "cell_type": "code",
   "execution_count": null,
   "id": "0e02518d-3231-44fa-a9e1-ae2010e64ef1",
   "metadata": {
    "deletable": false,
    "editable": false
   },
   "outputs": [],
   "source": [
    "device_counts = pd.DataFrame({\n",
    "                            'biden': most_freq(utility_df['biden']['utility'], 5), \n",
    "                            'trump': most_freq(utility_df['trump']['utility'], 5),\n",
    "                             },\n",
    "                            dtype='int')\n",
    "device_counts = device_counts.fillna(0)\n",
    "device_counts"
   ]
  },
  {
   "cell_type": "code",
   "execution_count": null,
   "id": "88ea4350-20bf-4e48-adef-501cb99db413",
   "metadata": {
    "deletable": false,
    "editable": false
   },
   "outputs": [],
   "source": [
    "import matplotlib.pyplot as plt\n",
    "\n",
    "labels = device_counts.index\n",
    "\n",
    "y1 = device_counts['biden'].values\n",
    "y2 = device_counts['trump'].values\n",
    "\n",
    "x_axis = np.arange(len(labels))\n",
    "\n",
    "plt.barh(x_axis - 0.2, y1, 0.4, label='Biden')\n",
    "plt.barh(x_axis + 0.2, y2, 0.4, label='Trump')\n",
    "\n",
    "plt.yticks(x_axis, labels)\n",
    "plt.title('Device for tweets')\n",
    "plt.legend()\n",
    "plt.grid()\n",
    "\n",
    "plt.show()\n"
   ]
  },
  {
   "cell_type": "markdown",
   "id": "48cb190b-1ebc-4e95-a404-4517ca64d8f1",
   "metadata": {
    "deletable": false,
    "editable": false
   },
   "source": [
    "(i) What can you observe from the plot above about the two presidents regarding who manages twitter profiles for each presidents?\n",
    "\n",
    "(ii) Give one scenario for some dataset where representing bar plot with proportion/percentage of entries be better option than count of entries? "
   ]
  },
  {
   "cell_type": "markdown",
   "id": "57e2dbad",
   "metadata": {},
   "source": [
    "_Type your answer here, replacing this text._"
   ]
  },
  {
   "cell_type": "markdown",
   "id": "04696b1d-5288-43b8-a672-7141cfe22e3c",
   "metadata": {
    "deletable": false,
    "editable": false
   },
   "source": [
    "<!-- END QUESTION -->\n",
    "\n",
    "# 3. Sentiment Analysis\n",
    "\n",
    "<!-- END QUESTION -->\n",
    "\n",
    "# C. Sentiment Analysis\n",
    "\n",
    "In this section, we will analyze the tweet texts, and find out the sentiment of Trump with respect to the twitter useraccount it mentions in its tweets. \n",
    "\n",
    "For eg: One of the trump [tweet](https://twitter.com/realDonaldTrump/status/1319017831766368259?cxt=HHwWgsCsiamH2ogoAAAA), mentions `@BuckForColorado`, endorsing Ken Buck for the Colorado's 4th district congressional seat. Therefore, our goal would be to capture the overall sentiment of Trump when he tweets or retweets mentioning that twitter account. In this example, since the sentiment is positive, we should a higher positive value.  \n",
    "\n",
    "To measure the sentiment of each tweet, we can use the words in the tweet. For example, the word \"love\" within the sentence \"I love America\" has a positive sentiment, whereas the word \"sad\" within the sentence \"I am feeling sad\" has negative sentiment. Moreover, some words may have stronger sentiment than the others, for eg: \"I love America\" has stronger positive sentiment than \"I like America\".    \n",
    "\n",
    "We will use the [VADER (Valence Aware Dictionary and sEntiment Reasoner)](https://github.com/cjhutto/vaderSentiment) lexicon to analyze the sentiment of trump's tweets. VADER is a lexicon and rule-based sentiment analysis tool that is specifically trained on dataset from social media, which is great for our usage. It uses a human-centric approach, combining qualitative analysis and empirical validation by using human raters to create their trained model.\n",
    "\n",
    "The VADER lexicon gives the sentiment of individual words. Run the following cell to see the first few rows of the lexicon:"
   ]
  },
  {
   "cell_type": "code",
   "execution_count": null,
   "id": "66c29367-adc5-4116-a222-fe844bf651d7",
   "metadata": {},
   "outputs": [],
   "source": [
    "print(''.join(open(\"data/vader_lexicon.txt\").readlines()[:10]))"
   ]
  },
  {
   "cell_type": "markdown",
   "id": "53dcf4be-914b-496e-9c60-c53cad8de38d",
   "metadata": {},
   "source": [
    "As we can see above,  each row consists of four elements. The first element is a word and the second element is the polarity (+ denotes positive sentiment, and - denotes negative sentiment) of that word. So the first row has the word `$:`(which is an emoji) and has a negative sentiment of 1.5. whereas the word `('` has positive sentiment of 2.3"
   ]
  },
  {
   "cell_type": "markdown",
   "id": "cd9764cd-1dbb-439f-bec6-d19cd3781e0c",
   "metadata": {
    "deletable": false,
    "editable": false
   },
   "source": [
    "### Question 3a [5 points]\n",
    "\n",
    "Read `vader_lexicon.txt` into a dataframe called `sentiment` with two columns named `token` and `polarity`, storing the polarity of each token.\n",
    "\n",
    "**Hint:** use `pd.read_csv` function. Since the file is tab-separated, be sure to set `sep='\\t'` in your call to `pd.read_csv`. You should also set `header=None` to read the first line as the first row into the dataframe.  \n",
    "\n",
    "The first few rows of the dataframe would look like the following:\n",
    "\n",
    "<img src='pics/3a.png' width='100'>"
   ]
  },
  {
   "cell_type": "code",
   "execution_count": null,
   "id": "7655a24b-17dc-4545-afa8-befc2368c159",
   "metadata": {
    "tags": []
   },
   "outputs": [],
   "source": [
    "sentiment = ...\n",
    "sentiment.head()"
   ]
  },
  {
   "cell_type": "code",
   "execution_count": null,
   "id": "29460fed",
   "metadata": {
    "deletable": false,
    "editable": false
   },
   "outputs": [],
   "source": [
    "grader.check(\"q3a\")"
   ]
  },
  {
   "cell_type": "markdown",
   "id": "e45b7961-0d6d-4023-ba72-8601ae1dc0cb",
   "metadata": {
    "deletable": false,
    "editable": false
   },
   "source": [
    "### Question 3b [5 points]\n",
    "\n",
    "Complete the function `extract_mentioned_users`, which takes a tweet's text as input and returns a list of all Twitter usernames mentioned in the tweet. Store the result in the variable `q3b`.\n",
    "\n",
    "**Hint**: A user mention in a tweet always starts with the `@` symbol, followed by a series of word characters (with no spaces in between).\n",
    "\n",
    "For example, a tweet like `RT @wdunlap: @JoeBiden Failed ObamaCare cost the average American family $5,000 more per year - over doubling our healthcare insurance costs…` mentions only JoeBiden in the text. Trump is merely retweeting the tweet created by the user `@wdunlap`, so you should only extract `JoeBiden`, excluding the RT username `wdunlap`.\n",
    "\n",
    "Steps:\n",
    "\n",
    "1. First, remove any retweet usernames.\n",
    "2. Then, extract all the Twitter accounts mentioned in the tweet's text."
   ]
  },
  {
   "cell_type": "code",
   "execution_count": null,
   "id": "352713e5-15db-4baa-9489-312b2c2964b7",
   "metadata": {
    "deletable": false,
    "editable": false
   },
   "outputs": [],
   "source": [
    "query = \"SELECT text FROM trump where id = 1317805714228736000\"\n",
    "\n",
    "mycursor.execute(query)\n",
    "tweet = mycursor.fetchone()[0]\n",
    "\n",
    "tweet"
   ]
  },
  {
   "cell_type": "code",
   "execution_count": null,
   "id": "27c666e6-0d04-46ba-ac54-7819688e3143",
   "metadata": {
    "tags": []
   },
   "outputs": [],
   "source": [
    "def extract_mentioned_users(tweet):\n",
    "    ..."
   ]
  },
  {
   "cell_type": "code",
   "execution_count": null,
   "id": "1eb8355e-9cc4-4dae-9293-75732bbd2ba8",
   "metadata": {
    "deletable": false,
    "editable": false
   },
   "outputs": [],
   "source": [
    "q3b = extract_mentioned_users(tweet)\n",
    "q3b"
   ]
  },
  {
   "cell_type": "code",
   "execution_count": null,
   "id": "a02f55b5",
   "metadata": {
    "deletable": false,
    "editable": false
   },
   "outputs": [],
   "source": [
    "grader.check(\"q3b\")"
   ]
  },
  {
   "cell_type": "markdown",
   "id": "2cb9567e-b7b1-40cd-bb4a-3fa4b91e42f4",
   "metadata": {},
   "source": [
    "### Question 3c [5 points]\n",
    "\n",
    "Assign a regular expression to a new variable `q3c` that replaces all of the punctuations within a tweet with empty string. We consider punctuation to be any non-word, non-whitespace character.\n",
    "\n",
    "Later we will use it to remove all the punctuations from tweets in Question 3d. \n",
    "\n",
    "**Note**: A word character is any character that is alphanumeric or an underscore. A whitespace character is any character that is a space, a tab, a new line, or a carriage return. "
   ]
  },
  {
   "cell_type": "code",
   "execution_count": null,
   "id": "db6a92d8-ff81-4ad9-b341-f3effaef2d48",
   "metadata": {
    "tags": []
   },
   "outputs": [],
   "source": [
    "tweet"
   ]
  },
  {
   "cell_type": "code",
   "execution_count": null,
   "id": "70bc325c-b3e7-4157-836d-028a6887eb0a",
   "metadata": {
    "tags": []
   },
   "outputs": [],
   "source": [
    "q3c = ...\n",
    "\n",
    "cleaned_tweet = re.sub(q3c, \"\", tweet)\n",
    "cleaned_tweet"
   ]
  },
  {
   "cell_type": "code",
   "execution_count": null,
   "id": "4d6ced70",
   "metadata": {
    "deletable": false,
    "editable": false
   },
   "outputs": [],
   "source": [
    "grader.check(\"q3c\")"
   ]
  },
  {
   "cell_type": "markdown",
   "id": "55a911be-e96d-4830-bce1-0086404bf207",
   "metadata": {
    "deletable": false,
    "editable": false
   },
   "source": [
    "### Question 3d [5 points]\n",
    "\n",
    "Complete the function `sanitize_text` that takes a sql query as input and returns a pandas DataFrame containing twitter id (`id`) and cleaned text (`cleaned_text`). A cleaned text is a tweet that is converted into lower case and has no punctuations. \n",
    "\n",
    "The first few rows of the table would look like the following: \n",
    "\n",
    "<img src='pics/3d.png' width='400'>"
   ]
  },
  {
   "cell_type": "code",
   "execution_count": null,
   "id": "afe80080-bb6d-48b4-92ca-843b3302a620",
   "metadata": {
    "tags": []
   },
   "outputs": [],
   "source": [
    "def sanitize_text(query):\n",
    "    mycursor.execute(query)\n",
    "    myresult = mycursor.fetchall()\n",
    "\n",
    "    df = pd.DataFrame({'id': ...,\n",
    "                       'cleaned_text': ..., \n",
    "                      })\n",
    "    \n",
    "    return df"
   ]
  },
  {
   "cell_type": "code",
   "execution_count": null,
   "id": "dc663dc7-5cd1-4363-ba93-5898a0361673",
   "metadata": {
    "tags": []
   },
   "outputs": [],
   "source": [
    "trump_sanitized_tweets = sanitize_text(\"SELECT id, text from trump\")\n",
    "trump_sanitized_tweets.head()"
   ]
  },
  {
   "cell_type": "code",
   "execution_count": null,
   "id": "53e23e65",
   "metadata": {
    "deletable": false,
    "editable": false
   },
   "outputs": [],
   "source": [
    "grader.check(\"q3d\")"
   ]
  },
  {
   "cell_type": "markdown",
   "id": "e40212aa-ec19-43ff-9e38-ccf73507b561",
   "metadata": {
    "deletable": false,
    "editable": false
   },
   "source": [
    "### Question 3e [5 points]\n",
    "\n",
    "Complete the function `extract_mentioned_usernames` which takes a sql query and extract all the usernames mentioned in each tweet. The function will return a pandas dataframe, which will contain the following: \n",
    "- the column `id` indicating the tweet id\n",
    "- the column `mentioned_users` which will contain list of usernames mentioned in that corresponding tweet. You may want to use `extract_mentioned_user()` function you wrote in Question 3b. \n",
    "- each `mentioned_users` should be in lower case\n",
    "- drop all rows where tweet do not mention any twitter username\n",
    "\n",
    "The first few rows of the resultant dataframe would look like the following: \n",
    "\n",
    "<img src='pics/3e.png' width='400'>"
   ]
  },
  {
   "cell_type": "code",
   "execution_count": null,
   "id": "057ce282-6393-4767-911c-a32f0b7d2953",
   "metadata": {
    "tags": []
   },
   "outputs": [],
   "source": [
    "def extract_mentioned_usernames(query):\n",
    "    mycursor.execute(query)\n",
    "    myresult = mycursor.fetchall()\n",
    "\n",
    "    df = pd.DataFrame({'id': ...,\n",
    "                       'mentioned_users': ..., \n",
    "                      })\n",
    "            \n",
    "    \n",
    "    return df"
   ]
  },
  {
   "cell_type": "code",
   "execution_count": null,
   "id": "f2884251-044a-4784-b16d-7c028c34f729",
   "metadata": {
    "deletable": false,
    "editable": false
   },
   "outputs": [],
   "source": [
    "trump_mentioned_users = extract_mentioned_usernames(\"SELECT id, text from trump\")\n",
    "trump_mentioned_users.head()"
   ]
  },
  {
   "cell_type": "markdown",
   "id": "8bf1d919-9939-4827-80e2-e359512a3572",
   "metadata": {
    "deletable": false,
    "editable": false
   },
   "source": [
    "Let's now transform each `mentioned_users` of a list-like value to a row, replicating index. We will use pandas `explode()` function to achieve this. \n",
    "\n",
    "For example, the row with index 1 will get replicated twice for each value of the mentioned_users in that row, as shown below. "
   ]
  },
  {
   "cell_type": "code",
   "execution_count": null,
   "id": "61f43f4c-c571-423a-8d76-7cbefa321bde",
   "metadata": {
    "deletable": false,
    "editable": false
   },
   "outputs": [],
   "source": [
    "trump_mentioned_users = trump_mentioned_users.explode('mentioned_users')\n",
    "trump_mentioned_users.head()"
   ]
  },
  {
   "cell_type": "code",
   "execution_count": null,
   "id": "732308ec",
   "metadata": {
    "deletable": false,
    "editable": false
   },
   "outputs": [],
   "source": [
    "grader.check(\"q3e\")"
   ]
  },
  {
   "cell_type": "markdown",
   "id": "64710db2-2161-4130-97fc-dc2d79d6a695",
   "metadata": {
    "deletable": false,
    "editable": false
   },
   "source": [
    "### Question 3f [5 points]\n",
    "\n",
    "Complete the function `to_tidy_format` which takes a dataframe of tweets as input, and returns dataframe of words present in tweets in tidy format. \n",
    "\n",
    "For eg: Suppose tweet id 123 has text \"hello how are you?\", then the tidy format would be a series with rows, 123 \"hello\", 123 \"how\", 123 \"are\", and 123 \"you?\" \n",
    "\n",
    "Hint: \n",
    "\n",
    "Step 1: Split each tweet from the `cleaned_text` column into list of words\n",
    "\n",
    "Step 2: Use panda series method `explode` to transform each word to a row \n",
    "\n",
    "Step 3: Make further modifications (change to dataframe and rename column) to make your dataframe look like the following picture:\n",
    "\n",
    "The first few rows of the resultant dataframe is shown below: \n",
    "\n",
    "<img src='pics/3f.png' width='400'>"
   ]
  },
  {
   "cell_type": "code",
   "execution_count": null,
   "id": "357d67b6-5a4d-4dd4-be28-84cf2b960229",
   "metadata": {
    "tags": []
   },
   "outputs": [],
   "source": [
    "def to_tidy_format(df):\n",
    "    df['word'] = ...\n",
    "    ..."
   ]
  },
  {
   "cell_type": "code",
   "execution_count": null,
   "id": "6bf09dd8-ebcf-421a-bc27-b7971f0c6f2f",
   "metadata": {
    "tags": []
   },
   "outputs": [],
   "source": [
    "trump_tidy_tweets =  to_tidy_format(trump_sanitized_tweets)\n",
    "trump_tidy_tweets.head()"
   ]
  },
  {
   "cell_type": "markdown",
   "id": "a7872a43-0a6a-4f91-bb4b-3e4c2a44000e",
   "metadata": {},
   "source": [
    "Now we will compute the polarity score of each tweets. The idea is simple. We will compute the polarity score of each word based on `sentiment` dataframe, and then add the scores to return the polarity score for the entire tweet. \n",
    "\n",
    "The code to compute this has been provided to you. However, I will highly encourage to dig into it to see how it does this calculation."
   ]
  },
  {
   "cell_type": "code",
   "execution_count": null,
   "id": "4b28a82e-5ab4-4b2a-8f39-b66eb4b24c10",
   "metadata": {},
   "outputs": [],
   "source": [
    "sentiment.head()"
   ]
  },
  {
   "cell_type": "code",
   "execution_count": null,
   "id": "efdb656a-14fd-44a2-aa71-de27461160ab",
   "metadata": {},
   "outputs": [],
   "source": [
    "def find_polarity_per_tweet(df):\n",
    "    polarity_of_each_word = pd.merge(sentiment, df, how='inner', left_on='token', right_on='word')\n",
    "    polarity_of_each_tweet = polarity_of_each_word[['id', 'polarity']].groupby('id', as_index=False).sum()\n",
    "    return polarity_of_each_tweet"
   ]
  },
  {
   "cell_type": "code",
   "execution_count": null,
   "id": "85d1ad27-c3f0-4401-a26c-a7147643cbd1",
   "metadata": {},
   "outputs": [],
   "source": [
    "trump_tweet_polarity = find_polarity_per_tweet(trump_tidy_tweets)\n",
    "\n",
    "trump_tweet_polarity.head()"
   ]
  },
  {
   "cell_type": "markdown",
   "id": "240795b8-838d-40a0-b5c5-379c5fbd929e",
   "metadata": {
    "deletable": false,
    "editable": false
   },
   "source": [
    "### Question 3g [5 points]\n",
    "\n",
    "Now that we have stored the sentiment of each tweet by Trump in `trump_tweet_polarity` and the mentioned usernames in `trump_mentioned_users`, we can use these dataframes to analyze Trump's sentiment towards each user mentioned in his tweets.\n",
    "\n",
    "Complete the function `find_sentiment_towards_user`, which returns Trump's sentiment (as a float) towards a specified user in his tweets. If Trump has mentioned a user multiple times across various tweets, calculate the average of all the polarity scores for those tweets to determine the sentiment towards that user."
   ]
  },
  {
   "cell_type": "code",
   "execution_count": null,
   "id": "07ff25a1-6c8b-4731-9ea8-2a0c75cd8e2c",
   "metadata": {
    "tags": []
   },
   "outputs": [],
   "source": [
    "def find_sentiment_towards_user(polarity_df, mentions_df, user='joebiden'):\n",
    "    ..."
   ]
  },
  {
   "cell_type": "markdown",
   "id": "a8660eaa-44b4-47da-b67a-3da4393831e5",
   "metadata": {
    "deletable": false,
    "editable": false
   },
   "source": [
    "Let's now find the sentiment of Trump towards `joebiden` in this tweets. "
   ]
  },
  {
   "cell_type": "code",
   "execution_count": null,
   "id": "eefb39ab-44dd-4ef4-a378-484d5db31763",
   "metadata": {
    "deletable": false,
    "editable": false
   },
   "outputs": [],
   "source": [
    "sentiment_towards_biden = find_sentiment_towards_user(trump_tweet_polarity, trump_mentioned_users, user='joebiden')\n",
    "sentiment_towards_biden "
   ]
  },
  {
   "cell_type": "markdown",
   "id": "6506ace6-abae-42d5-bb3c-f2f233f55766",
   "metadata": {
    "deletable": false,
    "editable": false
   },
   "source": [
    "Looks like Donald Trump do not have positive sentiments towards Joe Biden."
   ]
  },
  {
   "cell_type": "markdown",
   "id": "5a6766b8-c46d-4907-a385-6b08ceb0acd7",
   "metadata": {
    "deletable": false,
    "editable": false
   },
   "source": [
    "Let's now find the sentiment of Donald Trump towards `@BuckForColorado` in his tweets. "
   ]
  },
  {
   "cell_type": "code",
   "execution_count": null,
   "id": "523eb076-2d1f-4d3e-9b55-6679681f2560",
   "metadata": {
    "deletable": false,
    "editable": false
   },
   "outputs": [],
   "source": [
    "find_sentiment_towards_user(trump_tweet_polarity, trump_mentioned_users, user='buckforcolorado')"
   ]
  },
  {
   "cell_type": "code",
   "execution_count": null,
   "id": "11ff4aa6",
   "metadata": {
    "deletable": false,
    "editable": false
   },
   "outputs": [],
   "source": [
    "grader.check(\"q3g\")"
   ]
  }
 ],
 "metadata": {
  "kernelspec": {
   "display_name": "Python 3 (ipykernel)",
   "language": "python",
   "name": "python3"
  },
  "language_info": {
   "codemirror_mode": {
    "name": "ipython",
    "version": 3
   },
   "file_extension": ".py",
   "mimetype": "text/x-python",
   "name": "python",
   "nbconvert_exporter": "python",
   "pygments_lexer": "ipython3",
   "version": "3.12.6"
  },
  "otter": {
   "OK_FORMAT": true,
   "tests": {
    "q1a": {
     "name": "q1a",
     "points": null,
     "suites": [
      {
       "cases": [
        {
         "code": ">>> np.random.seed(42)\n>>> calculate_loss_two_loops(np.random.randint(-10, 10, size=(4, 5)), np.random.randint(0, 5, size=4)).item() == 144\nTrue",
         "hidden": false,
         "locked": false
        }
       ],
       "scored": true,
       "setup": "",
       "teardown": "",
       "type": "doctest"
      }
     ]
    },
    "q1b": {
     "name": "q1b",
     "points": null,
     "suites": [
      {
       "cases": [
        {
         "code": ">>> np.random.seed(42)\n>>> calculate_loss_one_loop(np.random.randint(-10, 10, size=(4, 5)), np.random.randint(0, 5, size=4)).item() == 144\nTrue",
         "hidden": false,
         "locked": false
        }
       ],
       "scored": true,
       "setup": "",
       "teardown": "",
       "type": "doctest"
      }
     ]
    },
    "q1c": {
     "name": "q1c",
     "points": null,
     "suites": [
      {
       "cases": [
        {
         "code": ">>> np.random.seed(42)\n>>> calculate_loss_no_loop(np.random.randint(-10, 10, size=(4, 5)), np.random.randint(0, 5, size=4)).item() == 144\nTrue",
         "hidden": false,
         "locked": false
        }
       ],
       "scored": true,
       "setup": "",
       "teardown": "",
       "type": "doctest"
      }
     ]
    },
    "q2a": {
     "name": "q2a",
     "points": null,
     "suites": [
      {
       "cases": [
        {
         "code": ">>> len(q1a) == 1000\nTrue",
         "hidden": false,
         "locked": false
        }
       ],
       "scored": true,
       "setup": "",
       "teardown": "",
       "type": "doctest"
      }
     ]
    },
    "q2b": {
     "name": "q2b",
     "points": null,
     "suites": [
      {
       "cases": [
        {
         "code": ">>> q2b in ['A', 'B', 'C']\nTrue",
         "hidden": false,
         "locked": false
        }
       ],
       "scored": true,
       "setup": "",
       "teardown": "",
       "type": "doctest"
      }
     ]
    },
    "q2c": {
     "name": "q2c",
     "points": null,
     "suites": [
      {
       "cases": [
        {
         "code": ">>> your_answer == 'Twitter Web App'\nTrue",
         "hidden": false,
         "locked": false
        }
       ],
       "scored": true,
       "setup": "",
       "teardown": "",
       "type": "doctest"
      }
     ]
    },
    "q2d": {
     "name": "q2d",
     "points": null,
     "suites": [
      {
       "cases": [
        {
         "code": ">>> your_answer == 'Twitter Web App'\nTrue",
         "hidden": false,
         "locked": false
        }
       ],
       "scored": true,
       "setup": "",
       "teardown": "",
       "type": "doctest"
      }
     ]
    },
    "q2e": {
     "name": "q2e",
     "points": null,
     "suites": [
      {
       "cases": [
        {
         "code": ">>> utility_df['biden'].shape == utility_df['trump'].shape\nTrue",
         "hidden": false,
         "locked": false
        },
        {
         "code": ">>> utility_df['biden'].shape == (200, 2)\nTrue",
         "hidden": false,
         "locked": false
        }
       ],
       "scored": true,
       "setup": "",
       "teardown": "",
       "type": "doctest"
      }
     ]
    },
    "q2f": {
     "name": "q2f",
     "points": null,
     "suites": [
      {
       "cases": [
        {
         "code": ">>> len(most_freq(utility_df['biden']['utility'], 5)) == 4\nTrue",
         "hidden": false,
         "locked": false
        },
        {
         "code": ">>> len(most_freq(utility_df['trump']['utility'], 5)) == 1\nTrue",
         "hidden": false,
         "locked": false
        }
       ],
       "scored": true,
       "setup": "",
       "teardown": "",
       "type": "doctest"
      }
     ]
    },
    "q3a": {
     "name": "q3a",
     "points": null,
     "suites": [
      {
       "cases": [
        {
         "code": ">>> len(sentiment) == 7520\nTrue",
         "hidden": false,
         "locked": false
        },
        {
         "code": ">>> len(sentiment.columns) == 2\nTrue",
         "hidden": false,
         "locked": false
        },
        {
         "code": ">>> ('token' in sentiment.columns and 'polarity' in sentiment.columns) == True\nTrue",
         "hidden": false,
         "locked": false
        }
       ],
       "scored": true,
       "setup": "",
       "teardown": "",
       "type": "doctest"
      }
     ]
    },
    "q3b": {
     "name": "q3b",
     "points": null,
     "suites": [
      {
       "cases": [
        {
         "code": ">>> q3b == ['joebiden']\nTrue",
         "hidden": false,
         "locked": false
        }
       ],
       "scored": true,
       "setup": "",
       "teardown": "",
       "type": "doctest"
      }
     ]
    },
    "q3c": {
     "name": "q3c",
     "points": null,
     "suites": [
      {
       "cases": [
        {
         "code": ">>> ('@' not in cleaned_tweet) == True\nTrue",
         "hidden": false,
         "locked": false
        },
        {
         "code": ">>> ('$' not in cleaned_tweet) == True\nTrue",
         "hidden": false,
         "locked": false
        },
        {
         "code": ">>> (',' not in cleaned_tweet) == True\nTrue",
         "hidden": false,
         "locked": false
        },
        {
         "code": ">>> ('.' not in cleaned_tweet) == True\nTrue",
         "hidden": false,
         "locked": false
        },
        {
         "code": ">>> ('-' not in cleaned_tweet) == True\nTrue",
         "hidden": false,
         "locked": false
        }
       ],
       "scored": true,
       "setup": "",
       "teardown": "",
       "type": "doctest"
      }
     ]
    },
    "q3d": {
     "name": "q3d",
     "points": null,
     "suites": [
      {
       "cases": [
        {
         "code": ">>> trump_sanitized_tweets.shape == (200, 2)\nTrue",
         "hidden": false,
         "locked": false
        }
       ],
       "scored": true,
       "setup": "",
       "teardown": "",
       "type": "doctest"
      }
     ]
    },
    "q3e": {
     "name": "q3e",
     "points": null,
     "suites": [
      {
       "cases": [
        {
         "code": ">>> trump_mentioned_users.shape[1] == 2\nTrue",
         "hidden": false,
         "locked": false
        }
       ],
       "scored": true,
       "setup": "",
       "teardown": "",
       "type": "doctest"
      }
     ]
    },
    "q3g": {
     "name": "q3g",
     "points": null,
     "suites": [
      {
       "cases": [
        {
         "code": ">>> sentiment_towards_biden.item() < 0\nTrue",
         "hidden": false,
         "locked": false
        }
       ],
       "scored": true,
       "setup": "",
       "teardown": "",
       "type": "doctest"
      }
     ]
    }
   }
  }
 },
 "nbformat": 4,
 "nbformat_minor": 5
}
